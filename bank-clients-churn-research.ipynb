{
 "cells": [
  {
   "cell_type": "markdown",
   "metadata": {},
   "source": [
    "# Анализ оттока клиентов в Метанпромбанке"
   ]
  },
  {
   "cell_type": "markdown",
   "metadata": {},
   "source": [
    "**Цель проекта:** провести анализ, который поможет понять какие клиенты уходят из банка и выделить сегменты клиентов, склонные уходить из банка.\n",
    "\n",
    "**Заказчик исследования** - отдел маркетинга банка Метанпромбанк \n",
    "\n",
    "**Источник данных** - датасет c данными о клиентах банка, предоствлен самим банком.\n",
    "\n",
    "**Задачи исследования:**\n",
    "1. Провести исследовательский анализ данных.\n",
    "2. Составить портреты клиентов, которые склонны уходить из банка.\n",
    "3. Проверить статистические гипотезы:\n",
    "    - гипотезу различия дохода между теми клиентами, которые ушли и теми, которые остались\n",
    "    - гипотезу о различии дохода между клиентами, которые пользуются двумя продуктами банка, и теми, которые пользуются одним\n",
    "    - возможно, в процессе исследования сформулируем новую гипотезу в качестве дополнительной или взамен вышеописанным"
   ]
  },
  {
   "cell_type": "markdown",
   "metadata": {},
   "source": [
    "## Обзор данных"
   ]
  },
  {
   "cell_type": "markdown",
   "metadata": {},
   "source": [
    "### Описание полей датасета"
   ]
  },
  {
   "cell_type": "markdown",
   "metadata": {},
   "source": [
    "- `USERID` — идентификатор пользователя\n",
    "- `score` — баллы кредитного скоринга\n",
    "- `city` — город\n",
    "- `gender` — пол\n",
    "- `age` — возраст\n",
    "- `equity` — количество баллов собственности\n",
    "- `balance` — баланс на счёте\n",
    "- `products` — количество продуктов, которыми пользуется клиент\n",
    "- `credit_card` — есть ли кредитная карта\n",
    "- `last_activity` — активный клиент\n",
    "- `EST_SALARY` — оценочный доход клиента\n",
    "- `сhurn` — признак оттока"
   ]
  },
  {
   "cell_type": "markdown",
   "metadata": {},
   "source": [
    "### Общая информация"
   ]
  },
  {
   "cell_type": "code",
   "execution_count": 1,
   "metadata": {},
   "outputs": [],
   "source": [
    "import pandas as pd\n",
    "import numpy as np\n",
    "import seaborn as sns\n",
    "import matplotlib.pyplot as plt\n",
    "from scipy import stats as st\n",
    "from scipy.stats import ttest_ind, levene\n",
    "import plotly.graph_objs as go\n",
    "from plotly.offline import iplot\n",
    "from statsmodels.stats.proportion import proportions_ztest"
   ]
  },
  {
   "cell_type": "code",
   "execution_count": 2,
   "metadata": {},
   "outputs": [],
   "source": [
    "# Преднастройки\n",
    "plt.style.use('seaborn-pastel')\n",
    "pd.options.display.float_format = '{:,.2f}'.format"
   ]
  },
  {
   "cell_type": "code",
   "execution_count": 3,
   "metadata": {},
   "outputs": [
    {
     "data": {
      "text/html": [
       "<div>\n",
       "<style scoped>\n",
       "    .dataframe tbody tr th:only-of-type {\n",
       "        vertical-align: middle;\n",
       "    }\n",
       "\n",
       "    .dataframe tbody tr th {\n",
       "        vertical-align: top;\n",
       "    }\n",
       "\n",
       "    .dataframe thead th {\n",
       "        text-align: right;\n",
       "    }\n",
       "</style>\n",
       "<table border=\"1\" class=\"dataframe\">\n",
       "  <thead>\n",
       "    <tr style=\"text-align: right;\">\n",
       "      <th></th>\n",
       "      <th>USERID</th>\n",
       "      <th>score</th>\n",
       "      <th>city</th>\n",
       "      <th>gender</th>\n",
       "      <th>age</th>\n",
       "      <th>equity</th>\n",
       "      <th>balance</th>\n",
       "      <th>products</th>\n",
       "      <th>credit_card</th>\n",
       "      <th>last_activity</th>\n",
       "      <th>EST_SALARY</th>\n",
       "      <th>churn</th>\n",
       "    </tr>\n",
       "  </thead>\n",
       "  <tbody>\n",
       "    <tr>\n",
       "      <th>0</th>\n",
       "      <td>183012</td>\n",
       "      <td>850.00</td>\n",
       "      <td>Рыбинск</td>\n",
       "      <td>Ж</td>\n",
       "      <td>25.00</td>\n",
       "      <td>1</td>\n",
       "      <td>59,214.82</td>\n",
       "      <td>2</td>\n",
       "      <td>0</td>\n",
       "      <td>1</td>\n",
       "      <td>75,719.14</td>\n",
       "      <td>1</td>\n",
       "    </tr>\n",
       "    <tr>\n",
       "      <th>1</th>\n",
       "      <td>146556</td>\n",
       "      <td>861.00</td>\n",
       "      <td>Рыбинск</td>\n",
       "      <td>Ж</td>\n",
       "      <td>37.00</td>\n",
       "      <td>5</td>\n",
       "      <td>850,594.33</td>\n",
       "      <td>3</td>\n",
       "      <td>1</td>\n",
       "      <td>0</td>\n",
       "      <td>86,621.77</td>\n",
       "      <td>0</td>\n",
       "    </tr>\n",
       "    <tr>\n",
       "      <th>2</th>\n",
       "      <td>120722</td>\n",
       "      <td>892.00</td>\n",
       "      <td>Рыбинск</td>\n",
       "      <td>Ж</td>\n",
       "      <td>30.00</td>\n",
       "      <td>0</td>\n",
       "      <td>NaN</td>\n",
       "      <td>1</td>\n",
       "      <td>1</td>\n",
       "      <td>1</td>\n",
       "      <td>107,683.34</td>\n",
       "      <td>0</td>\n",
       "    </tr>\n",
       "    <tr>\n",
       "      <th>3</th>\n",
       "      <td>225363</td>\n",
       "      <td>866.00</td>\n",
       "      <td>Ярославль</td>\n",
       "      <td>Ж</td>\n",
       "      <td>51.00</td>\n",
       "      <td>5</td>\n",
       "      <td>1,524,746.26</td>\n",
       "      <td>2</td>\n",
       "      <td>0</td>\n",
       "      <td>1</td>\n",
       "      <td>174,423.53</td>\n",
       "      <td>1</td>\n",
       "    </tr>\n",
       "    <tr>\n",
       "      <th>4</th>\n",
       "      <td>157978</td>\n",
       "      <td>730.00</td>\n",
       "      <td>Ярославль</td>\n",
       "      <td>М</td>\n",
       "      <td>34.00</td>\n",
       "      <td>5</td>\n",
       "      <td>174.00</td>\n",
       "      <td>1</td>\n",
       "      <td>1</td>\n",
       "      <td>0</td>\n",
       "      <td>67,353.16</td>\n",
       "      <td>1</td>\n",
       "    </tr>\n",
       "    <tr>\n",
       "      <th>5</th>\n",
       "      <td>202305</td>\n",
       "      <td>856.00</td>\n",
       "      <td>Рыбинск</td>\n",
       "      <td>М</td>\n",
       "      <td>56.00</td>\n",
       "      <td>4</td>\n",
       "      <td>863,687.24</td>\n",
       "      <td>3</td>\n",
       "      <td>1</td>\n",
       "      <td>0</td>\n",
       "      <td>156,619.80</td>\n",
       "      <td>0</td>\n",
       "    </tr>\n",
       "    <tr>\n",
       "      <th>6</th>\n",
       "      <td>177259</td>\n",
       "      <td>807.00</td>\n",
       "      <td>Ярославль</td>\n",
       "      <td>Ж</td>\n",
       "      <td>39.00</td>\n",
       "      <td>3</td>\n",
       "      <td>405,042.44</td>\n",
       "      <td>3</td>\n",
       "      <td>0</td>\n",
       "      <td>1</td>\n",
       "      <td>103,838.32</td>\n",
       "      <td>0</td>\n",
       "    </tr>\n",
       "    <tr>\n",
       "      <th>7</th>\n",
       "      <td>218868</td>\n",
       "      <td>825.00</td>\n",
       "      <td>Ярославль</td>\n",
       "      <td>Ж</td>\n",
       "      <td>38.00</td>\n",
       "      <td>4</td>\n",
       "      <td>458,145.40</td>\n",
       "      <td>2</td>\n",
       "      <td>1</td>\n",
       "      <td>1</td>\n",
       "      <td>68,085.48</td>\n",
       "      <td>0</td>\n",
       "    </tr>\n",
       "    <tr>\n",
       "      <th>8</th>\n",
       "      <td>211686</td>\n",
       "      <td>923.00</td>\n",
       "      <td>Ярославль</td>\n",
       "      <td>М</td>\n",
       "      <td>54.00</td>\n",
       "      <td>5</td>\n",
       "      <td>1,206,337.87</td>\n",
       "      <td>2</td>\n",
       "      <td>1</td>\n",
       "      <td>0</td>\n",
       "      <td>155,371.79</td>\n",
       "      <td>0</td>\n",
       "    </tr>\n",
       "    <tr>\n",
       "      <th>9</th>\n",
       "      <td>133130</td>\n",
       "      <td>906.00</td>\n",
       "      <td>Ярославль</td>\n",
       "      <td>Ж</td>\n",
       "      <td>67.00</td>\n",
       "      <td>0</td>\n",
       "      <td>NaN</td>\n",
       "      <td>1</td>\n",
       "      <td>0</td>\n",
       "      <td>1</td>\n",
       "      <td>238,055.53</td>\n",
       "      <td>0</td>\n",
       "    </tr>\n",
       "  </tbody>\n",
       "</table>\n",
       "</div>"
      ],
      "text/plain": [
       "   USERID  score       city gender   age  equity      balance  products  \\\n",
       "0  183012 850.00    Рыбинск      Ж 25.00       1    59,214.82         2   \n",
       "1  146556 861.00    Рыбинск      Ж 37.00       5   850,594.33         3   \n",
       "2  120722 892.00    Рыбинск      Ж 30.00       0          NaN         1   \n",
       "3  225363 866.00  Ярославль      Ж 51.00       5 1,524,746.26         2   \n",
       "4  157978 730.00  Ярославль      М 34.00       5       174.00         1   \n",
       "5  202305 856.00    Рыбинск      М 56.00       4   863,687.24         3   \n",
       "6  177259 807.00  Ярославль      Ж 39.00       3   405,042.44         3   \n",
       "7  218868 825.00  Ярославль      Ж 38.00       4   458,145.40         2   \n",
       "8  211686 923.00  Ярославль      М 54.00       5 1,206,337.87         2   \n",
       "9  133130 906.00  Ярославль      Ж 67.00       0          NaN         1   \n",
       "\n",
       "   credit_card  last_activity  EST_SALARY  churn  \n",
       "0            0              1   75,719.14      1  \n",
       "1            1              0   86,621.77      0  \n",
       "2            1              1  107,683.34      0  \n",
       "3            0              1  174,423.53      1  \n",
       "4            1              0   67,353.16      1  \n",
       "5            1              0  156,619.80      0  \n",
       "6            0              1  103,838.32      0  \n",
       "7            1              1   68,085.48      0  \n",
       "8            1              0  155,371.79      0  \n",
       "9            0              1  238,055.53      0  "
      ]
     },
     "execution_count": 3,
     "metadata": {},
     "output_type": "execute_result"
    }
   ],
   "source": [
    "# Читем датасет\n",
    "df = pd.read_csv('https://code.s3.yandex.net/datasets/bank_scrooge.csv')\n",
    "\n",
    "# Выведем первые 10 строк датасета\n",
    "df.head(10)"
   ]
  },
  {
   "cell_type": "code",
   "execution_count": 4,
   "metadata": {},
   "outputs": [
    {
     "name": "stdout",
     "output_type": "stream",
     "text": [
      "<class 'pandas.core.frame.DataFrame'>\n",
      "RangeIndex: 10000 entries, 0 to 9999\n",
      "Data columns (total 12 columns):\n",
      " #   Column         Non-Null Count  Dtype  \n",
      "---  ------         --------------  -----  \n",
      " 0   USERID         10000 non-null  int64  \n",
      " 1   score          10000 non-null  float64\n",
      " 2   city           10000 non-null  object \n",
      " 3   gender         10000 non-null  object \n",
      " 4   age            9974 non-null   float64\n",
      " 5   equity         10000 non-null  int64  \n",
      " 6   balance        7705 non-null   float64\n",
      " 7   products       10000 non-null  int64  \n",
      " 8   credit_card    10000 non-null  int64  \n",
      " 9   last_activity  10000 non-null  int64  \n",
      " 10  EST_SALARY     10000 non-null  float64\n",
      " 11  churn          10000 non-null  int64  \n",
      "dtypes: float64(4), int64(6), object(2)\n",
      "memory usage: 937.6+ KB\n"
     ]
    }
   ],
   "source": [
    "# Посмотрим на общую информацию о датасете\n",
    "df.info()"
   ]
  },
  {
   "cell_type": "markdown",
   "metadata": {},
   "source": [
    "- Размер датасета - 12 колонок, 10 000 строк\n",
    "- Наблюдаются пропуски в колонках `age` и `balance`\n",
    "- Назвавния колонок в разном регистре\n",
    "- Для колонок `score` и `age` больше подошел бы целочисленный тип данных"
   ]
  },
  {
   "cell_type": "code",
   "execution_count": 5,
   "metadata": {},
   "outputs": [
    {
     "data": {
      "text/html": [
       "<div>\n",
       "<style scoped>\n",
       "    .dataframe tbody tr th:only-of-type {\n",
       "        vertical-align: middle;\n",
       "    }\n",
       "\n",
       "    .dataframe tbody tr th {\n",
       "        vertical-align: top;\n",
       "    }\n",
       "\n",
       "    .dataframe thead th {\n",
       "        text-align: right;\n",
       "    }\n",
       "</style>\n",
       "<table border=\"1\" class=\"dataframe\">\n",
       "  <thead>\n",
       "    <tr style=\"text-align: right;\">\n",
       "      <th></th>\n",
       "      <th>USERID</th>\n",
       "      <th>score</th>\n",
       "      <th>age</th>\n",
       "      <th>equity</th>\n",
       "      <th>balance</th>\n",
       "      <th>products</th>\n",
       "      <th>credit_card</th>\n",
       "      <th>last_activity</th>\n",
       "      <th>EST_SALARY</th>\n",
       "      <th>churn</th>\n",
       "    </tr>\n",
       "  </thead>\n",
       "  <tbody>\n",
       "    <tr>\n",
       "      <th>count</th>\n",
       "      <td>10,000.00</td>\n",
       "      <td>10,000.00</td>\n",
       "      <td>9,974.00</td>\n",
       "      <td>10,000.00</td>\n",
       "      <td>7,705.00</td>\n",
       "      <td>10,000.00</td>\n",
       "      <td>10,000.00</td>\n",
       "      <td>10,000.00</td>\n",
       "      <td>10,000.00</td>\n",
       "      <td>10,000.00</td>\n",
       "    </tr>\n",
       "    <tr>\n",
       "      <th>mean</th>\n",
       "      <td>171,814.71</td>\n",
       "      <td>848.70</td>\n",
       "      <td>42.73</td>\n",
       "      <td>2.63</td>\n",
       "      <td>827,794.31</td>\n",
       "      <td>1.87</td>\n",
       "      <td>0.68</td>\n",
       "      <td>0.52</td>\n",
       "      <td>147,866.89</td>\n",
       "      <td>0.18</td>\n",
       "    </tr>\n",
       "    <tr>\n",
       "      <th>std</th>\n",
       "      <td>33,708.24</td>\n",
       "      <td>65.45</td>\n",
       "      <td>12.18</td>\n",
       "      <td>1.98</td>\n",
       "      <td>1,980,614.15</td>\n",
       "      <td>0.79</td>\n",
       "      <td>0.47</td>\n",
       "      <td>0.50</td>\n",
       "      <td>139,388.51</td>\n",
       "      <td>0.39</td>\n",
       "    </tr>\n",
       "    <tr>\n",
       "      <th>min</th>\n",
       "      <td>94,561.00</td>\n",
       "      <td>642.00</td>\n",
       "      <td>18.00</td>\n",
       "      <td>0.00</td>\n",
       "      <td>0.00</td>\n",
       "      <td>0.00</td>\n",
       "      <td>0.00</td>\n",
       "      <td>0.00</td>\n",
       "      <td>2,546.30</td>\n",
       "      <td>0.00</td>\n",
       "    </tr>\n",
       "    <tr>\n",
       "      <th>25%</th>\n",
       "      <td>142,810.25</td>\n",
       "      <td>802.00</td>\n",
       "      <td>33.00</td>\n",
       "      <td>0.00</td>\n",
       "      <td>295,554.16</td>\n",
       "      <td>1.00</td>\n",
       "      <td>0.00</td>\n",
       "      <td>0.00</td>\n",
       "      <td>75,251.90</td>\n",
       "      <td>0.00</td>\n",
       "    </tr>\n",
       "    <tr>\n",
       "      <th>50%</th>\n",
       "      <td>172,728.00</td>\n",
       "      <td>853.00</td>\n",
       "      <td>40.00</td>\n",
       "      <td>3.00</td>\n",
       "      <td>524,272.20</td>\n",
       "      <td>2.00</td>\n",
       "      <td>1.00</td>\n",
       "      <td>1.00</td>\n",
       "      <td>119,658.10</td>\n",
       "      <td>0.00</td>\n",
       "    </tr>\n",
       "    <tr>\n",
       "      <th>75%</th>\n",
       "      <td>201,261.75</td>\n",
       "      <td>900.00</td>\n",
       "      <td>51.00</td>\n",
       "      <td>4.00</td>\n",
       "      <td>980,705.85</td>\n",
       "      <td>2.00</td>\n",
       "      <td>1.00</td>\n",
       "      <td>1.00</td>\n",
       "      <td>174,500.54</td>\n",
       "      <td>0.00</td>\n",
       "    </tr>\n",
       "    <tr>\n",
       "      <th>max</th>\n",
       "      <td>229,145.00</td>\n",
       "      <td>1,000.00</td>\n",
       "      <td>86.00</td>\n",
       "      <td>9.00</td>\n",
       "      <td>119,113,552.01</td>\n",
       "      <td>5.00</td>\n",
       "      <td>1.00</td>\n",
       "      <td>1.00</td>\n",
       "      <td>1,395,064.45</td>\n",
       "      <td>1.00</td>\n",
       "    </tr>\n",
       "  </tbody>\n",
       "</table>\n",
       "</div>"
      ],
      "text/plain": [
       "          USERID     score      age    equity        balance  products  \\\n",
       "count  10,000.00 10,000.00 9,974.00 10,000.00       7,705.00 10,000.00   \n",
       "mean  171,814.71    848.70    42.73      2.63     827,794.31      1.87   \n",
       "std    33,708.24     65.45    12.18      1.98   1,980,614.15      0.79   \n",
       "min    94,561.00    642.00    18.00      0.00           0.00      0.00   \n",
       "25%   142,810.25    802.00    33.00      0.00     295,554.16      1.00   \n",
       "50%   172,728.00    853.00    40.00      3.00     524,272.20      2.00   \n",
       "75%   201,261.75    900.00    51.00      4.00     980,705.85      2.00   \n",
       "max   229,145.00  1,000.00    86.00      9.00 119,113,552.01      5.00   \n",
       "\n",
       "       credit_card  last_activity   EST_SALARY     churn  \n",
       "count    10,000.00      10,000.00    10,000.00 10,000.00  \n",
       "mean          0.68           0.52   147,866.89      0.18  \n",
       "std           0.47           0.50   139,388.51      0.39  \n",
       "min           0.00           0.00     2,546.30      0.00  \n",
       "25%           0.00           0.00    75,251.90      0.00  \n",
       "50%           1.00           1.00   119,658.10      0.00  \n",
       "75%           1.00           1.00   174,500.54      0.00  \n",
       "max           1.00           1.00 1,395,064.45      1.00  "
      ]
     },
     "execution_count": 5,
     "metadata": {},
     "output_type": "execute_result"
    }
   ],
   "source": [
    "# Проверим основные статистические показатели\n",
    "df.describe()"
   ]
  },
  {
   "cell_type": "markdown",
   "metadata": {},
   "source": [
    "- Отрицательные значения отсутствуют\n",
    "- Средний отток по банку - 18,2%\n",
    "- Присутствует аномальное нулевое значение в столбце `products` "
   ]
  },
  {
   "cell_type": "markdown",
   "metadata": {},
   "source": [
    "### Выводы"
   ]
  },
  {
   "cell_type": "markdown",
   "metadata": {},
   "source": [
    "- Размер датасета - 12 колонок, 10 000 строк\n",
    "- Наблюдаются пропуски в колонках `age` и `balance`\n",
    "- Назвавния колонок в разном регистре - необходимо будет привести их к единому стилю \n",
    "- Колонки `score` и `age` необходимо привести к целочисленному типу данных\n",
    "- Отрицательные значения отсутствуют\n",
    "- Средний отток по банку - 18,2%"
   ]
  },
  {
   "cell_type": "markdown",
   "metadata": {},
   "source": [
    "## Предобработка данных"
   ]
  },
  {
   "cell_type": "markdown",
   "metadata": {},
   "source": [
    "### Приведение наименований столбцов к единому стилю"
   ]
  },
  {
   "cell_type": "code",
   "execution_count": 6,
   "metadata": {},
   "outputs": [
    {
     "data": {
      "text/plain": [
       "Index(['user_id', 'score', 'city', 'gender', 'age', 'equity', 'balance',\n",
       "       'products', 'credit_card', 'last_activity', 'estimated_salary',\n",
       "       'churn'],\n",
       "      dtype='object')"
      ]
     },
     "execution_count": 6,
     "metadata": {},
     "output_type": "execute_result"
    }
   ],
   "source": [
    "# Приведем названия столбцов к нижнему регистру\n",
    "df.columns = df.columns.str.lower()\n",
    "\n",
    "# Переименуем столбцы 'userid' и 'est_salary'\n",
    "df = df.rename({'userid': 'user_id', 'est_salary': 'estimated_salary'}, axis=1)\n",
    "df.columns"
   ]
  },
  {
   "cell_type": "markdown",
   "metadata": {},
   "source": [
    "### Исправление типов данных"
   ]
  },
  {
   "cell_type": "code",
   "execution_count": 7,
   "metadata": {},
   "outputs": [
    {
     "data": {
      "text/html": [
       "<div>\n",
       "<style scoped>\n",
       "    .dataframe tbody tr th:only-of-type {\n",
       "        vertical-align: middle;\n",
       "    }\n",
       "\n",
       "    .dataframe tbody tr th {\n",
       "        vertical-align: top;\n",
       "    }\n",
       "\n",
       "    .dataframe thead th {\n",
       "        text-align: right;\n",
       "    }\n",
       "</style>\n",
       "<table border=\"1\" class=\"dataframe\">\n",
       "  <thead>\n",
       "    <tr style=\"text-align: right;\">\n",
       "      <th></th>\n",
       "      <th>age</th>\n",
       "      <th>score</th>\n",
       "    </tr>\n",
       "  </thead>\n",
       "  <tbody>\n",
       "    <tr>\n",
       "      <th>0</th>\n",
       "      <td>25.00</td>\n",
       "      <td>850.00</td>\n",
       "    </tr>\n",
       "    <tr>\n",
       "      <th>1</th>\n",
       "      <td>37.00</td>\n",
       "      <td>861.00</td>\n",
       "    </tr>\n",
       "    <tr>\n",
       "      <th>2</th>\n",
       "      <td>30.00</td>\n",
       "      <td>892.00</td>\n",
       "    </tr>\n",
       "    <tr>\n",
       "      <th>3</th>\n",
       "      <td>51.00</td>\n",
       "      <td>866.00</td>\n",
       "    </tr>\n",
       "    <tr>\n",
       "      <th>4</th>\n",
       "      <td>34.00</td>\n",
       "      <td>730.00</td>\n",
       "    </tr>\n",
       "    <tr>\n",
       "      <th>...</th>\n",
       "      <td>...</td>\n",
       "      <td>...</td>\n",
       "    </tr>\n",
       "    <tr>\n",
       "      <th>9995</th>\n",
       "      <td>27.00</td>\n",
       "      <td>814.00</td>\n",
       "    </tr>\n",
       "    <tr>\n",
       "      <th>9996</th>\n",
       "      <td>46.00</td>\n",
       "      <td>894.00</td>\n",
       "    </tr>\n",
       "    <tr>\n",
       "      <th>9997</th>\n",
       "      <td>24.00</td>\n",
       "      <td>903.00</td>\n",
       "    </tr>\n",
       "    <tr>\n",
       "      <th>9998</th>\n",
       "      <td>68.00</td>\n",
       "      <td>777.00</td>\n",
       "    </tr>\n",
       "    <tr>\n",
       "      <th>9999</th>\n",
       "      <td>58.00</td>\n",
       "      <td>828.00</td>\n",
       "    </tr>\n",
       "  </tbody>\n",
       "</table>\n",
       "<p>10000 rows × 2 columns</p>\n",
       "</div>"
      ],
      "text/plain": [
       "       age  score\n",
       "0    25.00 850.00\n",
       "1    37.00 861.00\n",
       "2    30.00 892.00\n",
       "3    51.00 866.00\n",
       "4    34.00 730.00\n",
       "...    ...    ...\n",
       "9995 27.00 814.00\n",
       "9996 46.00 894.00\n",
       "9997 24.00 903.00\n",
       "9998 68.00 777.00\n",
       "9999 58.00 828.00\n",
       "\n",
       "[10000 rows x 2 columns]"
      ]
     },
     "execution_count": 7,
     "metadata": {},
     "output_type": "execute_result"
    }
   ],
   "source": [
    "df[['age','score']]"
   ]
  },
  {
   "cell_type": "code",
   "execution_count": 8,
   "metadata": {},
   "outputs": [
    {
     "data": {
      "text/plain": [
       "age      Int64\n",
       "score    Int64\n",
       "dtype: object"
      ]
     },
     "execution_count": 8,
     "metadata": {},
     "output_type": "execute_result"
    }
   ],
   "source": [
    "# Приведем колонки `score` и `age` к целочисленному типу данных\n",
    "df['age'] = df['age'].astype('Int64')\n",
    "df['score'] = df['score'].astype('Int64')\n",
    "\n",
    "# Проверим результат\n",
    "df[['age','score']].dtypes"
   ]
  },
  {
   "cell_type": "markdown",
   "metadata": {},
   "source": [
    "### Кодирование категориальных признаков"
   ]
  },
  {
   "cell_type": "markdown",
   "metadata": {},
   "source": [
    "Закодируем значения столбцов `city` и `gender` для оценки корреляции в следующих разделах."
   ]
  },
  {
   "cell_type": "code",
   "execution_count": 9,
   "metadata": {},
   "outputs": [
    {
     "data": {
      "text/html": [
       "<div>\n",
       "<style scoped>\n",
       "    .dataframe tbody tr th:only-of-type {\n",
       "        vertical-align: middle;\n",
       "    }\n",
       "\n",
       "    .dataframe tbody tr th {\n",
       "        vertical-align: top;\n",
       "    }\n",
       "\n",
       "    .dataframe thead th {\n",
       "        text-align: right;\n",
       "    }\n",
       "</style>\n",
       "<table border=\"1\" class=\"dataframe\">\n",
       "  <thead>\n",
       "    <tr style=\"text-align: right;\">\n",
       "      <th></th>\n",
       "      <th>user_id</th>\n",
       "      <th>score</th>\n",
       "      <th>city</th>\n",
       "      <th>gender</th>\n",
       "      <th>age</th>\n",
       "      <th>equity</th>\n",
       "      <th>balance</th>\n",
       "      <th>products</th>\n",
       "      <th>credit_card</th>\n",
       "      <th>last_activity</th>\n",
       "      <th>estimated_salary</th>\n",
       "      <th>churn</th>\n",
       "      <th>city_rostov</th>\n",
       "      <th>city_rybinsk</th>\n",
       "      <th>city_yaroslavl</th>\n",
       "      <th>female</th>\n",
       "      <th>male</th>\n",
       "    </tr>\n",
       "  </thead>\n",
       "  <tbody>\n",
       "    <tr>\n",
       "      <th>0</th>\n",
       "      <td>183012</td>\n",
       "      <td>850</td>\n",
       "      <td>Рыбинск</td>\n",
       "      <td>Ж</td>\n",
       "      <td>25</td>\n",
       "      <td>1</td>\n",
       "      <td>59,214.82</td>\n",
       "      <td>2</td>\n",
       "      <td>0</td>\n",
       "      <td>1</td>\n",
       "      <td>75,719.14</td>\n",
       "      <td>1</td>\n",
       "      <td>0</td>\n",
       "      <td>1</td>\n",
       "      <td>0</td>\n",
       "      <td>1</td>\n",
       "      <td>0</td>\n",
       "    </tr>\n",
       "    <tr>\n",
       "      <th>1</th>\n",
       "      <td>146556</td>\n",
       "      <td>861</td>\n",
       "      <td>Рыбинск</td>\n",
       "      <td>Ж</td>\n",
       "      <td>37</td>\n",
       "      <td>5</td>\n",
       "      <td>850,594.33</td>\n",
       "      <td>3</td>\n",
       "      <td>1</td>\n",
       "      <td>0</td>\n",
       "      <td>86,621.77</td>\n",
       "      <td>0</td>\n",
       "      <td>0</td>\n",
       "      <td>1</td>\n",
       "      <td>0</td>\n",
       "      <td>1</td>\n",
       "      <td>0</td>\n",
       "    </tr>\n",
       "    <tr>\n",
       "      <th>2</th>\n",
       "      <td>120722</td>\n",
       "      <td>892</td>\n",
       "      <td>Рыбинск</td>\n",
       "      <td>Ж</td>\n",
       "      <td>30</td>\n",
       "      <td>0</td>\n",
       "      <td>NaN</td>\n",
       "      <td>1</td>\n",
       "      <td>1</td>\n",
       "      <td>1</td>\n",
       "      <td>107,683.34</td>\n",
       "      <td>0</td>\n",
       "      <td>0</td>\n",
       "      <td>1</td>\n",
       "      <td>0</td>\n",
       "      <td>1</td>\n",
       "      <td>0</td>\n",
       "    </tr>\n",
       "    <tr>\n",
       "      <th>3</th>\n",
       "      <td>225363</td>\n",
       "      <td>866</td>\n",
       "      <td>Ярославль</td>\n",
       "      <td>Ж</td>\n",
       "      <td>51</td>\n",
       "      <td>5</td>\n",
       "      <td>1,524,746.26</td>\n",
       "      <td>2</td>\n",
       "      <td>0</td>\n",
       "      <td>1</td>\n",
       "      <td>174,423.53</td>\n",
       "      <td>1</td>\n",
       "      <td>0</td>\n",
       "      <td>0</td>\n",
       "      <td>1</td>\n",
       "      <td>1</td>\n",
       "      <td>0</td>\n",
       "    </tr>\n",
       "    <tr>\n",
       "      <th>4</th>\n",
       "      <td>157978</td>\n",
       "      <td>730</td>\n",
       "      <td>Ярославль</td>\n",
       "      <td>М</td>\n",
       "      <td>34</td>\n",
       "      <td>5</td>\n",
       "      <td>174.00</td>\n",
       "      <td>1</td>\n",
       "      <td>1</td>\n",
       "      <td>0</td>\n",
       "      <td>67,353.16</td>\n",
       "      <td>1</td>\n",
       "      <td>0</td>\n",
       "      <td>0</td>\n",
       "      <td>1</td>\n",
       "      <td>0</td>\n",
       "      <td>1</td>\n",
       "    </tr>\n",
       "  </tbody>\n",
       "</table>\n",
       "</div>"
      ],
      "text/plain": [
       "   user_id  score       city gender  age  equity      balance  products  \\\n",
       "0   183012    850    Рыбинск      Ж   25       1    59,214.82         2   \n",
       "1   146556    861    Рыбинск      Ж   37       5   850,594.33         3   \n",
       "2   120722    892    Рыбинск      Ж   30       0          NaN         1   \n",
       "3   225363    866  Ярославль      Ж   51       5 1,524,746.26         2   \n",
       "4   157978    730  Ярославль      М   34       5       174.00         1   \n",
       "\n",
       "   credit_card  last_activity  estimated_salary  churn  city_rostov  \\\n",
       "0            0              1         75,719.14      1            0   \n",
       "1            1              0         86,621.77      0            0   \n",
       "2            1              1        107,683.34      0            0   \n",
       "3            0              1        174,423.53      1            0   \n",
       "4            1              0         67,353.16      1            0   \n",
       "\n",
       "   city_rybinsk  city_yaroslavl  female  male  \n",
       "0             1               0       1     0  \n",
       "1             1               0       1     0  \n",
       "2             1               0       1     0  \n",
       "3             0               1       1     0  \n",
       "4             0               1       0     1  "
      ]
     },
     "execution_count": 9,
     "metadata": {},
     "output_type": "execute_result"
    }
   ],
   "source": [
    "# Предварительно сделаем копии категориальных столбцов\n",
    "df['city_2'] = df['city']\n",
    "df['gender_2'] = df['gender']\n",
    "\n",
    "# Проведем кодирование\n",
    "df = pd.get_dummies(df, columns = ['city_2', 'gender_2'])\n",
    "\n",
    "# Приведем названия новых столбцов к нужному стилю написания\n",
    "df = df.rename(columns=({\n",
    "    'city_2_Ростов':    'city_rostov', \n",
    "    'city_2_Рыбинск':   'city_rybinsk',\n",
    "    'city_2_Ярославль': 'city_yaroslavl', \n",
    "    'gender_2_Ж':       'female', \n",
    "    'gender_2_М':       'male'\n",
    "}))\n",
    "\n",
    "df.head()"
   ]
  },
  {
   "cell_type": "markdown",
   "metadata": {},
   "source": [
    "### Обработка пропусков"
   ]
  },
  {
   "cell_type": "code",
   "execution_count": 10,
   "metadata": {},
   "outputs": [
    {
     "data": {
      "text/plain": [
       "user_id                0\n",
       "score                  0\n",
       "city                   0\n",
       "gender                 0\n",
       "age                   26\n",
       "equity                 0\n",
       "balance             2295\n",
       "products               0\n",
       "credit_card            0\n",
       "last_activity          0\n",
       "estimated_salary       0\n",
       "churn                  0\n",
       "city_rostov            0\n",
       "city_rybinsk           0\n",
       "city_yaroslavl         0\n",
       "female                 0\n",
       "male                   0\n",
       "dtype: int64"
      ]
     },
     "execution_count": 10,
     "metadata": {},
     "output_type": "execute_result"
    }
   ],
   "source": [
    "# Детализируем информацию по пропускам\n",
    "df.isna().sum()"
   ]
  },
  {
   "cell_type": "markdown",
   "metadata": {},
   "source": [
    "Наблюдаем пропуски по колонкам:\n",
    "- 0,26% - в столбце `age`\n",
    "- 22,95% - в столбце `balance`\n",
    "\n",
    "Далее классифицируем пропуски для принятия решения о способе их обработки."
   ]
  },
  {
   "cell_type": "code",
   "execution_count": 11,
   "metadata": {},
   "outputs": [
    {
     "data": {
      "text/plain": [
       "products           -0.03\n",
       "equity             -0.03\n",
       "last_activity       0.03\n",
       "city_rybinsk        0.02\n",
       "churn              -0.02\n",
       "city_rostov        -0.02\n",
       "estimated_salary    0.01\n",
       "credit_card         0.01\n",
       "city_yaroslavl     -0.01\n",
       "balance             0.01\n",
       "score               0.01\n",
       "male                0.00\n",
       "female             -0.00\n",
       "age                  NaN\n",
       "Name: missing, dtype: float64"
      ]
     },
     "execution_count": 11,
     "metadata": {},
     "output_type": "execute_result"
    }
   ],
   "source": [
    "# Проверим корреляцию пропусков в стобце \"age\" со значениями из всех остальных столбцов\n",
    "df_corr = df.drop('user_id', axis=1)\n",
    "df_corr.assign(missing = df_corr.age.isna()).corr()['missing'].drop('missing').sort_values(ascending=False, key=abs)"
   ]
  },
  {
   "cell_type": "markdown",
   "metadata": {},
   "source": [
    "Наблюдаем слабую корреляцию пропусков в стобце `age` со значениями из остальных столбцов - от 0,03 и менее в абсолютном выражении. В сочетании с малым их количеством, 0,26% от общего количества строк, позволяет с уверенностю принять решение об удалении строк с пропусками в столбце `age`.\n",
    "\n",
    "Класс пропуска - `MCAR` — пропуски не зависят от переменных и не ведут к систематической ошибке, но увеличивают случайную ошибку, можно их отбрасывать или заполнять, т.к. заполнение не повлияет на характер связи между заполняемой переменной и остальными."
   ]
  },
  {
   "cell_type": "code",
   "execution_count": 12,
   "metadata": {},
   "outputs": [
    {
     "data": {
      "text/plain": [
       "0"
      ]
     },
     "execution_count": 12,
     "metadata": {},
     "output_type": "execute_result"
    }
   ],
   "source": [
    "# Удаляем строки с пропусками в столбце \"age\"\n",
    "df = df.dropna(subset = ['age'])\n",
    "\n",
    "# Проверяем результат\n",
    "df['age'].isna().sum()"
   ]
  },
  {
   "cell_type": "code",
   "execution_count": 13,
   "metadata": {},
   "outputs": [
    {
     "data": {
      "text/plain": [
       "equity             -0.71\n",
       "products           -0.49\n",
       "estimated_salary    0.31\n",
       "churn              -0.25\n",
       "credit_card         0.16\n",
       "score               0.14\n",
       "male                0.06\n",
       "female             -0.06\n",
       "city_rostov        -0.06\n",
       "city_yaroslavl      0.06\n",
       "age                -0.03\n",
       "last_activity       0.03\n",
       "city_rybinsk       -0.01\n",
       "user_id             0.00\n",
       "balance              NaN\n",
       "Name: missing, dtype: float64"
      ]
     },
     "execution_count": 13,
     "metadata": {},
     "output_type": "execute_result"
    }
   ],
   "source": [
    "# Проверим корреляцию пропусков в стобце \"balance\" со значениями из всех остальных столбцов\n",
    "df.assign(missing = df.balance.isna()).corr()['missing'].drop('missing').sort_values(ascending=False, key=abs)"
   ]
  },
  {
   "cell_type": "markdown",
   "metadata": {},
   "source": [
    "Наблюдаем сильную корреляцию пропусков в стобце `balance` со значениями из некоторых столбцов датасета, которая достигает 0,71 в абсолютном выражении. В сочетании с большим их количеством, а именно - 22,95% от общего количества строк, позволяет с уверенностю принять решение о необходимости оставить пропуски в столбце `balance` без обработки.\n",
    "\n",
    "Т.е в данном случае имеем класс пропуска - `MNAR`, пропуски зависят от данных, без дополнительного обоснования их нельзя отбрасывать или заполнять одним значением, т.к. это приведёт к заметным искажениям."
   ]
  },
  {
   "cell_type": "markdown",
   "metadata": {},
   "source": [
    "### Обработка аномальных значений"
   ]
  },
  {
   "cell_type": "markdown",
   "metadata": {},
   "source": [
    "На этапе обзора данных мы обнаружили в столбце `products` нулевое значение. Детализируем эту информацию."
   ]
  },
  {
   "cell_type": "code",
   "execution_count": 14,
   "metadata": {},
   "outputs": [
    {
     "data": {
      "text/html": [
       "<div>\n",
       "<style scoped>\n",
       "    .dataframe tbody tr th:only-of-type {\n",
       "        vertical-align: middle;\n",
       "    }\n",
       "\n",
       "    .dataframe tbody tr th {\n",
       "        vertical-align: top;\n",
       "    }\n",
       "\n",
       "    .dataframe thead th {\n",
       "        text-align: right;\n",
       "    }\n",
       "</style>\n",
       "<table border=\"1\" class=\"dataframe\">\n",
       "  <thead>\n",
       "    <tr style=\"text-align: right;\">\n",
       "      <th></th>\n",
       "      <th>user_id</th>\n",
       "      <th>score</th>\n",
       "      <th>city</th>\n",
       "      <th>gender</th>\n",
       "      <th>age</th>\n",
       "      <th>equity</th>\n",
       "      <th>balance</th>\n",
       "      <th>products</th>\n",
       "      <th>credit_card</th>\n",
       "      <th>last_activity</th>\n",
       "      <th>estimated_salary</th>\n",
       "      <th>churn</th>\n",
       "      <th>city_rostov</th>\n",
       "      <th>city_rybinsk</th>\n",
       "      <th>city_yaroslavl</th>\n",
       "      <th>female</th>\n",
       "      <th>male</th>\n",
       "    </tr>\n",
       "  </thead>\n",
       "  <tbody>\n",
       "    <tr>\n",
       "      <th>8957</th>\n",
       "      <td>147837</td>\n",
       "      <td>962</td>\n",
       "      <td>Рыбинск</td>\n",
       "      <td>Ж</td>\n",
       "      <td>79</td>\n",
       "      <td>3</td>\n",
       "      <td>NaN</td>\n",
       "      <td>0</td>\n",
       "      <td>0</td>\n",
       "      <td>0</td>\n",
       "      <td>25,063.96</td>\n",
       "      <td>1</td>\n",
       "      <td>0</td>\n",
       "      <td>1</td>\n",
       "      <td>0</td>\n",
       "      <td>1</td>\n",
       "      <td>0</td>\n",
       "    </tr>\n",
       "  </tbody>\n",
       "</table>\n",
       "</div>"
      ],
      "text/plain": [
       "      user_id  score     city gender  age  equity  balance  products  \\\n",
       "8957   147837    962  Рыбинск      Ж   79       3      NaN         0   \n",
       "\n",
       "      credit_card  last_activity  estimated_salary  churn  city_rostov  \\\n",
       "8957            0              0         25,063.96      1            0   \n",
       "\n",
       "      city_rybinsk  city_yaroslavl  female  male  \n",
       "8957             1               0       1     0  "
      ]
     },
     "execution_count": 14,
     "metadata": {},
     "output_type": "execute_result"
    }
   ],
   "source": [
    "df[df['products'] == 0]"
   ]
  },
  {
   "cell_type": "markdown",
   "metadata": {},
   "source": [
    "Наблюдаем единственного клиента с нулевым количеством банковских продуктов. \n",
    "Удалим эту анамолию."
   ]
  },
  {
   "cell_type": "code",
   "execution_count": 15,
   "metadata": {},
   "outputs": [],
   "source": [
    "df = df[df['products'] != 0]"
   ]
  },
  {
   "cell_type": "markdown",
   "metadata": {},
   "source": [
    "### Проверка на дубликаты"
   ]
  },
  {
   "cell_type": "code",
   "execution_count": 16,
   "metadata": {},
   "outputs": [
    {
     "data": {
      "text/plain": [
       "0"
      ]
     },
     "execution_count": 16,
     "metadata": {},
     "output_type": "execute_result"
    }
   ],
   "source": [
    "# Проверим полные дубликаты\n",
    "df.duplicated().sum()"
   ]
  },
  {
   "cell_type": "code",
   "execution_count": 17,
   "metadata": {},
   "outputs": [
    {
     "data": {
      "text/plain": [
       "50"
      ]
     },
     "execution_count": 17,
     "metadata": {},
     "output_type": "execute_result"
    }
   ],
   "source": [
    "# Проверим неявные дубликаты по колонке `user_id`\n",
    "df['user_id'].duplicated().sum()"
   ]
  },
  {
   "cell_type": "markdown",
   "metadata": {},
   "source": [
    "Наблюдаем 50 дубликатов. \n",
    "\n",
    "Чтобы их удалить нужно убедиться, что это один и тот же человек - а для этого посмотрим совпадают ли у них возвраст и пол."
   ]
  },
  {
   "cell_type": "code",
   "execution_count": 18,
   "metadata": {},
   "outputs": [
    {
     "data": {
      "text/plain": [
       "2"
      ]
     },
     "execution_count": 18,
     "metadata": {},
     "output_type": "execute_result"
    }
   ],
   "source": [
    "df.duplicated(['user_id', 'gender', 'age']).sum()"
   ]
  },
  {
   "cell_type": "markdown",
   "metadata": {},
   "source": [
    "Только у двух записей совпали возраст и пол, детализируем эти строки."
   ]
  },
  {
   "cell_type": "code",
   "execution_count": 19,
   "metadata": {},
   "outputs": [
    {
     "data": {
      "text/html": [
       "<div>\n",
       "<style scoped>\n",
       "    .dataframe tbody tr th:only-of-type {\n",
       "        vertical-align: middle;\n",
       "    }\n",
       "\n",
       "    .dataframe tbody tr th {\n",
       "        vertical-align: top;\n",
       "    }\n",
       "\n",
       "    .dataframe thead th {\n",
       "        text-align: right;\n",
       "    }\n",
       "</style>\n",
       "<table border=\"1\" class=\"dataframe\">\n",
       "  <thead>\n",
       "    <tr style=\"text-align: right;\">\n",
       "      <th></th>\n",
       "      <th>user_id</th>\n",
       "      <th>score</th>\n",
       "      <th>city</th>\n",
       "      <th>gender</th>\n",
       "      <th>age</th>\n",
       "      <th>equity</th>\n",
       "      <th>balance</th>\n",
       "      <th>products</th>\n",
       "      <th>credit_card</th>\n",
       "      <th>last_activity</th>\n",
       "      <th>estimated_salary</th>\n",
       "      <th>churn</th>\n",
       "      <th>city_rostov</th>\n",
       "      <th>city_rybinsk</th>\n",
       "      <th>city_yaroslavl</th>\n",
       "      <th>female</th>\n",
       "      <th>male</th>\n",
       "    </tr>\n",
       "  </thead>\n",
       "  <tbody>\n",
       "    <tr>\n",
       "      <th>3274</th>\n",
       "      <td>155765</td>\n",
       "      <td>863</td>\n",
       "      <td>Ярославль</td>\n",
       "      <td>М</td>\n",
       "      <td>30</td>\n",
       "      <td>5</td>\n",
       "      <td>1,036,114.50</td>\n",
       "      <td>5</td>\n",
       "      <td>1</td>\n",
       "      <td>1</td>\n",
       "      <td>150,744.50</td>\n",
       "      <td>1</td>\n",
       "      <td>0</td>\n",
       "      <td>0</td>\n",
       "      <td>1</td>\n",
       "      <td>0</td>\n",
       "      <td>1</td>\n",
       "    </tr>\n",
       "    <tr>\n",
       "      <th>5197</th>\n",
       "      <td>155765</td>\n",
       "      <td>923</td>\n",
       "      <td>Рыбинск</td>\n",
       "      <td>М</td>\n",
       "      <td>30</td>\n",
       "      <td>0</td>\n",
       "      <td>NaN</td>\n",
       "      <td>1</td>\n",
       "      <td>1</td>\n",
       "      <td>1</td>\n",
       "      <td>120,296.60</td>\n",
       "      <td>0</td>\n",
       "      <td>0</td>\n",
       "      <td>1</td>\n",
       "      <td>0</td>\n",
       "      <td>0</td>\n",
       "      <td>1</td>\n",
       "    </tr>\n",
       "    <tr>\n",
       "      <th>8205</th>\n",
       "      <td>227795</td>\n",
       "      <td>840</td>\n",
       "      <td>Рыбинск</td>\n",
       "      <td>М</td>\n",
       "      <td>34</td>\n",
       "      <td>2</td>\n",
       "      <td>350,768.03</td>\n",
       "      <td>1</td>\n",
       "      <td>1</td>\n",
       "      <td>0</td>\n",
       "      <td>102,036.14</td>\n",
       "      <td>1</td>\n",
       "      <td>0</td>\n",
       "      <td>1</td>\n",
       "      <td>0</td>\n",
       "      <td>0</td>\n",
       "      <td>1</td>\n",
       "    </tr>\n",
       "    <tr>\n",
       "      <th>8497</th>\n",
       "      <td>227795</td>\n",
       "      <td>839</td>\n",
       "      <td>Ярославль</td>\n",
       "      <td>М</td>\n",
       "      <td>34</td>\n",
       "      <td>2</td>\n",
       "      <td>326,593.14</td>\n",
       "      <td>2</td>\n",
       "      <td>1</td>\n",
       "      <td>0</td>\n",
       "      <td>103,314.92</td>\n",
       "      <td>0</td>\n",
       "      <td>0</td>\n",
       "      <td>0</td>\n",
       "      <td>1</td>\n",
       "      <td>0</td>\n",
       "      <td>1</td>\n",
       "    </tr>\n",
       "  </tbody>\n",
       "</table>\n",
       "</div>"
      ],
      "text/plain": [
       "      user_id  score       city gender  age  equity      balance  products  \\\n",
       "3274   155765    863  Ярославль      М   30       5 1,036,114.50         5   \n",
       "5197   155765    923    Рыбинск      М   30       0          NaN         1   \n",
       "8205   227795    840    Рыбинск      М   34       2   350,768.03         1   \n",
       "8497   227795    839  Ярославль      М   34       2   326,593.14         2   \n",
       "\n",
       "      credit_card  last_activity  estimated_salary  churn  city_rostov  \\\n",
       "3274            1              1        150,744.50      1            0   \n",
       "5197            1              1        120,296.60      0            0   \n",
       "8205            1              0        102,036.14      1            0   \n",
       "8497            1              0        103,314.92      0            0   \n",
       "\n",
       "      city_rybinsk  city_yaroslavl  female  male  \n",
       "3274             0               1       0     1  \n",
       "5197             1               0       0     1  \n",
       "8205             1               0       0     1  \n",
       "8497             0               1       0     1  "
      ]
     },
     "execution_count": 19,
     "metadata": {},
     "output_type": "execute_result"
    }
   ],
   "source": [
    "df[df.duplicated(['user_id', 'gender', 'age'], False)]"
   ]
  },
  {
   "cell_type": "markdown",
   "metadata": {},
   "source": [
    "Данные в дубликатах отличаются. Вполне вероятно, что это один и тот же человек, просто сменил офис (город) обслуживания. \n",
    "\n",
    "Поэтому будет целесообразно не удалять выявленные дубликаты, а оставить их как есть - анализу они не помешают.\n",
    "\n",
    "Дополнительно проверим - есть ли дубликаты по `user_id` в разрезе городов."
   ]
  },
  {
   "cell_type": "code",
   "execution_count": 20,
   "metadata": {},
   "outputs": [
    {
     "data": {
      "text/plain": [
       "0"
      ]
     },
     "execution_count": 20,
     "metadata": {},
     "output_type": "execute_result"
    }
   ],
   "source": [
    "df.duplicated(['user_id','city']).sum()"
   ]
  },
  {
   "cell_type": "markdown",
   "metadata": {},
   "source": [
    "Дубликаты по `user_id` в разрезе городов отсутствуют, т.е. уникальность идентификатора пользователя гарантируется только в рамках одного города. Этот факт необходимо будет учитывать при анализе."
   ]
  },
  {
   "cell_type": "markdown",
   "metadata": {},
   "source": [
    "### Выводы"
   ]
  },
  {
   "cell_type": "markdown",
   "metadata": {},
   "source": [
    "- Привели наименования столбцов к единому стилю.\n",
    "- Привели колонки `score` и `age` к целочисленному типу данных.\n",
    "- Закодировали значения столбцов `city` и `gender` для оценки корреляции в следующих разделах.\n",
    "- Классифицировали пропуски в столбце `age` как `MCAR` и удалили их.\n",
    "- Классифицировали пропуски в столбце `balance` как `MNAR` и оставили их.\n",
    "- Удалили одну строку с аномальным нулевым количеством банковских продуктов.\n",
    "- Полные дубликаты строк в датасете не обнаружили.\n",
    "- Обнаружили неявные дубликаты по столбцу `user_id`, но они не дублируются в рамках одного города - поэтому их оставили в датасете."
   ]
  },
  {
   "cell_type": "markdown",
   "metadata": {},
   "source": [
    "## Исследовательский анализ данных, EDA"
   ]
  },
  {
   "cell_type": "markdown",
   "metadata": {},
   "source": [
    "### Распределение признаков в разрезе оттока"
   ]
  },
  {
   "cell_type": "markdown",
   "metadata": {},
   "source": [
    "Построим графики распределения признаков в разрезе оттока:\n",
    "- Для непрерывных признаков выявим периоды оттока.\n",
    "- Для категориальных и дискретных признаков выявим значения с оттоком выше чем в среднем по банку.\n",
    "\n",
    "Выявленные значения и интервалы признаков с повышенным оттоком будем использовать для сегментации."
   ]
  },
  {
   "cell_type": "code",
   "execution_count": 21,
   "metadata": {},
   "outputs": [],
   "source": [
    "# Подготовим необходимые функции для отрисовки распределений.\n",
    "  \n",
    "def draw_barplot(title, attribute, xlabel):\n",
    "    fig, ax = plt.subplots(figsize=(8, 5))\n",
    "    ax.set_title(title, fontsize=16, y=1.03)\n",
    "    churn_mean = df['churn'].mean()\n",
    "    churn_levels=df.groupby(attribute).agg({'churn': 'mean'}).reset_index()    \n",
    "    sns.barplot(data=churn_levels, x=attribute, y='churn')    \n",
    "    ax.set_xlabel(xlabel)\n",
    "    ax.set_ylabel('Уровень оттока, %')\n",
    "    ax.axhline(y=churn_mean, color='red', linestyle='--', label='Средний уровень оттока по банку')\n",
    "    handles, labels = ax.get_legend_handles_labels()\n",
    "    ax.legend(handles=handles, labels=labels, loc='lower right')\n",
    "    plt.show()\n",
    "    \n",
    "def draw_histplot_density(title, attribute, xlabel):\n",
    "    plt.figure(figsize=(12,6))\n",
    "    plt.title(title, fontsize=16, y=1.03)\n",
    "    sns.histplot(df[df['churn'] == 0][attribute], discrete=True, stat='density', common_norm=False, color='#92c6ff');\n",
    "    sns.histplot(df[df['churn'] == 1][attribute], discrete=True, stat='density', common_norm=False, color='#97f0aa');\n",
    "    plt.legend(['Остались', 'Ушли'])\n",
    "    plt.xlabel(xlabel, fontsize=12)\n",
    "    plt.ylabel('Плотность кол-ва клиентов',fontsize=12)\n",
    "    plt.show()\n",
    "\n",
    "def draw_kdeplot(title, attribute, xlabel):\n",
    "    plt.figure(figsize=(12,6))\n",
    "    plt.title(title, fontsize=16, y=1.03)\n",
    "    sns.kdeplot(df[df['churn'] == 0][attribute], clip=(0.0, 2000000.0), common_norm=False, color='#92c6ff')\n",
    "    sns.kdeplot(df[df['churn'] == 1][attribute], clip=(0.0, 2000000.0), common_norm=False, color='#97f0aa')\n",
    "    plt.legend(['Остались', 'Ушли'])\n",
    "    plt.xlabel(xlabel, fontsize=12)\n",
    "    plt.ylabel('Плотность кол-ва клиентов',fontsize=12)\n",
    "    plt.show() "
   ]
  },
  {
   "cell_type": "markdown",
   "metadata": {},
   "source": [
    "#### Город филиала обслуживания"
   ]
  },
  {
   "cell_type": "code",
   "execution_count": 22,
   "metadata": {},
   "outputs": [
    {
     "data": {
      "image/png": "[encoded data removed]",
      "text/plain": [
       "<Figure size 576x360 with 1 Axes>"
      ]
     },
     "metadata": {
      "needs_background": "light"
     },
     "output_type": "display_data"
    }
   ],
   "source": [
    "draw_barplot(\n",
    "    title=\"Распределение клиентов по городам в разрезе оттока\", \n",
    "    attribute=\"city\", \n",
    "    xlabel=\"Город\"\n",
    ")"
   ]
  },
  {
   "cell_type": "markdown",
   "metadata": {},
   "source": [
    "- Доля ушедших клиентов не сильно отличается по филиалам.\n",
    "- В Ярославле больше всего отточных клиентов, затем идет Ростов и меньше всего в Рыбинске.\n",
    "- Средний уровень оттока по банку превышен только в двух городах - в Ярославле и Ростове."
   ]
  },
  {
   "cell_type": "markdown",
   "metadata": {},
   "source": [
    "#### Пол клиента"
   ]
  },
  {
   "cell_type": "code",
   "execution_count": 23,
   "metadata": {},
   "outputs": [
    {
     "data": {
      "image/png": "[encoded data removed]",
      "text/plain": [
       "<Figure size 576x360 with 1 Axes>"
      ]
     },
     "metadata": {
      "needs_background": "light"
     },
     "output_type": "display_data"
    }
   ],
   "source": [
    "draw_barplot(\n",
    "    title=\"Распределение клиентов по полу в разрезе оттока\", \n",
    "    attribute=\"gender\", \n",
    "    xlabel=\"Пол\"\n",
    ")"
   ]
  },
  {
   "cell_type": "markdown",
   "metadata": {},
   "source": [
    "- Женщины реже отказываются от услуг банка, чем мужчины.\n",
    "- Средний уровень оттока по банку превышен только у мужчин."
   ]
  },
  {
   "cell_type": "markdown",
   "metadata": {},
   "source": [
    "#### Возраст клиента"
   ]
  },
  {
   "cell_type": "code",
   "execution_count": 24,
   "metadata": {},
   "outputs": [
    {
     "data": {
      "image/png": "[encoded data removed]",
      "text/plain": [
       "<Figure size 864x432 with 1 Axes>"
      ]
     },
     "metadata": {
      "needs_background": "light"
     },
     "output_type": "display_data"
    }
   ],
   "source": [
    "draw_histplot_density(\n",
    "    title='Распределение клиентов по возрасту в разрезе оттока', \n",
    "    attribute='age', \n",
    "    xlabel='Возраст'\n",
    ")"
   ]
  },
  {
   "cell_type": "markdown",
   "metadata": {},
   "source": [
    "- На графике видны две волны оттока, где значения оттока перекрывают значения оставшихся клиентов - первая с 25 до 35 лет и вторая поменьше - с 50 до 60 лет.\n",
    "- Пик оттока приходятся на максимум первой волны - 35 лет"
   ]
  },
  {
   "cell_type": "markdown",
   "metadata": {},
   "source": [
    "#### Баланс на счетах"
   ]
  },
  {
   "cell_type": "code",
   "execution_count": 25,
   "metadata": {},
   "outputs": [
    {
     "data": {
      "image/png": "[encoded data removed]",
      "text/plain": [
       "<Figure size 864x432 with 1 Axes>"
      ]
     },
     "metadata": {
      "needs_background": "light"
     },
     "output_type": "display_data"
    }
   ],
   "source": [
    "draw_kdeplot(\n",
    "    title='Распределение клиентов по балансу на счете в разрезе оттока', \n",
    "    attribute='balance', \n",
    "    xlabel='Баланс'\n",
    ")"
   ]
  },
  {
   "cell_type": "markdown",
   "metadata": {},
   "source": [
    "- Резких пиковых значений на графике распределения клиентов по балансу на счете не видно.\n",
    "- В начале идет небольшой рост с последующим небольшим снижением уровня оттока."
   ]
  },
  {
   "cell_type": "markdown",
   "metadata": {},
   "source": [
    "#### Доход клиента"
   ]
  },
  {
   "cell_type": "code",
   "execution_count": 26,
   "metadata": {},
   "outputs": [
    {
     "data": {
      "image/png": "[encoded data removed]",
      "text/plain": [
       "<Figure size 864x432 with 1 Axes>"
      ]
     },
     "metadata": {
      "needs_background": "light"
     },
     "output_type": "display_data"
    }
   ],
   "source": [
    "draw_kdeplot(\n",
    "    title='Распределение клиентов по доходу в разрезе оттока', \n",
    "    attribute='estimated_salary', \n",
    "    xlabel='Доход'\n",
    ")"
   ]
  },
  {
   "cell_type": "markdown",
   "metadata": {},
   "source": [
    "Уровень оттока у клиентов с разным доходом отличается незначительно."
   ]
  },
  {
   "cell_type": "markdown",
   "metadata": {},
   "source": [
    "#### Наличие кредитной карты"
   ]
  },
  {
   "cell_type": "code",
   "execution_count": 27,
   "metadata": {},
   "outputs": [
    {
     "data": {
      "image/png": "[encoded data removed]",
      "text/plain": [
       "<Figure size 576x360 with 1 Axes>"
      ]
     },
     "metadata": {
      "needs_background": "light"
     },
     "output_type": "display_data"
    }
   ],
   "source": [
    "draw_barplot(\n",
    "    title=\"Распределение клиентов по наличию кредитной карты в разрезе оттока\", \n",
    "    attribute=\"credit_card\", \n",
    "    xlabel=\"Наличие кредитной карты\"\n",
    ")"
   ]
  },
  {
   "cell_type": "markdown",
   "metadata": {},
   "source": [
    "Средний уровень оттока по банку превышают клиенты, которые не пользуются кредитной картой."
   ]
  },
  {
   "cell_type": "markdown",
   "metadata": {},
   "source": [
    "####  Баллы собственности"
   ]
  },
  {
   "cell_type": "code",
   "execution_count": 28,
   "metadata": {},
   "outputs": [
    {
     "data": {
      "image/png": "[encoded data removed]",
      "text/plain": [
       "<Figure size 576x360 with 1 Axes>"
      ]
     },
     "metadata": {
      "needs_background": "light"
     },
     "output_type": "display_data"
    }
   ],
   "source": [
    "draw_barplot(\n",
    "    title=\"Распределение клиентов по баллам собственности в разрезе оттока\", \n",
    "    attribute=\"equity\", \n",
    "    xlabel=\"Баллы собственности\"\n",
    ")"
   ]
  },
  {
   "cell_type": "markdown",
   "metadata": {},
   "source": [
    "Средний уровень оттока по банку превышают клиенты, у которых более 3х баллов собственности."
   ]
  },
  {
   "cell_type": "markdown",
   "metadata": {},
   "source": [
    "####  Банковские продукты"
   ]
  },
  {
   "cell_type": "code",
   "execution_count": 29,
   "metadata": {},
   "outputs": [
    {
     "data": {
      "image/png": "[encoded data removed]",
      "text/plain": [
       "<Figure size 576x360 with 1 Axes>"
      ]
     },
     "metadata": {
      "needs_background": "light"
     },
     "output_type": "display_data"
    }
   ],
   "source": [
    "draw_barplot(\n",
    "    title=\"Распределение клиентов по количеству активных услуг в разрезе оттока\", \n",
    "    attribute=\"products\", \n",
    "    xlabel=\"Количество активных банковских продуктов\"\n",
    ")"
   ]
  },
  {
   "cell_type": "markdown",
   "metadata": {},
   "source": [
    "Средний уровень оттока по банку превышают клиенты, у которых 3 и более активных банковских продукта."
   ]
  },
  {
   "cell_type": "markdown",
   "metadata": {},
   "source": [
    "#### Последняя активность"
   ]
  },
  {
   "cell_type": "code",
   "execution_count": 30,
   "metadata": {},
   "outputs": [
    {
     "data": {
      "image/png": "[encoded data removed]",
      "text/plain": [
       "<Figure size 576x360 with 1 Axes>"
      ]
     },
     "metadata": {
      "needs_background": "light"
     },
     "output_type": "display_data"
    }
   ],
   "source": [
    "draw_barplot(\n",
    "    title=\"Распределение клиентов по активности в разрезе оттока\", \n",
    "    attribute=\"last_activity\", \n",
    "    xlabel=\"Наличие активности\"\n",
    ")"
   ]
  },
  {
   "cell_type": "markdown",
   "metadata": {},
   "source": [
    "Средний уровень оттока по банку превышают активные клиенты."
   ]
  },
  {
   "cell_type": "markdown",
   "metadata": {},
   "source": [
    "#### Баллы скоринга"
   ]
  },
  {
   "cell_type": "code",
   "execution_count": 31,
   "metadata": {},
   "outputs": [
    {
     "data": {
      "image/png": "[encoded data removed]",
      "text/plain": [
       "<Figure size 864x432 with 1 Axes>"
      ]
     },
     "metadata": {
      "needs_background": "light"
     },
     "output_type": "display_data"
    }
   ],
   "source": [
    "draw_histplot_density(\n",
    "    title='Распределение клиентов по баллам скоринга в разрезе оттока', \n",
    "    attribute='score', \n",
    "    xlabel='Балл скоринга'\n",
    ")"
   ]
  },
  {
   "cell_type": "markdown",
   "metadata": {},
   "source": [
    "Наибольший уровень оттока в зависимости от кредитного рейтинга виден на интервале от 850 до 920 баллов скоринга."
   ]
  },
  {
   "cell_type": "markdown",
   "metadata": {},
   "source": [
    "#### Выводы"
   ]
  },
  {
   "cell_type": "markdown",
   "metadata": {},
   "source": [
    "Выявлены следующие значения и интервалы признаков с повышенным оттоком:\n",
    "- Города - Ярославль и Ростов.\n",
    "- Пол - мужчины.\n",
    "- Возраст - две группы: с 25 до 35 лет и с 50 до 60 лет.\n",
    "- Не пользуются кредитной картой.\n",
    "- Более 3х баллов собственности.\n",
    "- Три и более активных банковских продукта.\n",
    "- Активные клиенты.\n",
    "- Кредитный рейтинг в диапазоне от 850 до 920 баллов."
   ]
  },
  {
   "cell_type": "markdown",
   "metadata": {},
   "source": [
    "### Анализ портретов клиентов в разрезе оттока"
   ]
  },
  {
   "cell_type": "markdown",
   "metadata": {},
   "source": [
    "Составим портреты клиентов по статусу оттока в виде сводной таблицы: `значения оттока` х `признаки`, значения - `мера центральной тенденции`\n",
    "- `мера центральной тенденции` для непрерывных признаков - среднее арифметическое\n",
    "- `мера центральной тенденции` для дискретных признаков - медиана\n",
    "- `мера центральной тенденции` для категориальных признаков - мода\n",
    "- дополнительный признак - относительная разница между непрерывными признаками"
   ]
  },
  {
   "cell_type": "code",
   "execution_count": 32,
   "metadata": {},
   "outputs": [
    {
     "data": {
      "text/html": [
       "<div>\n",
       "<style scoped>\n",
       "    .dataframe tbody tr th:only-of-type {\n",
       "        vertical-align: middle;\n",
       "    }\n",
       "\n",
       "    .dataframe tbody tr th {\n",
       "        vertical-align: top;\n",
       "    }\n",
       "\n",
       "    .dataframe thead th {\n",
       "        text-align: right;\n",
       "    }\n",
       "</style>\n",
       "<table border=\"1\" class=\"dataframe\">\n",
       "  <thead>\n",
       "    <tr style=\"text-align: right;\">\n",
       "      <th></th>\n",
       "      <th>Остались</th>\n",
       "      <th>Ушли</th>\n",
       "      <th>Разница, %</th>\n",
       "    </tr>\n",
       "  </thead>\n",
       "  <tbody>\n",
       "    <tr>\n",
       "      <th>balance</th>\n",
       "      <td>733,031.63</td>\n",
       "      <td>1,134,458.21</td>\n",
       "      <td>54.76</td>\n",
       "    </tr>\n",
       "    <tr>\n",
       "      <th>age</th>\n",
       "      <td>43.02</td>\n",
       "      <td>41.43</td>\n",
       "      <td>-3.70</td>\n",
       "    </tr>\n",
       "    <tr>\n",
       "      <th>score</th>\n",
       "      <td>845.40</td>\n",
       "      <td>863.36</td>\n",
       "      <td>2.13</td>\n",
       "    </tr>\n",
       "    <tr>\n",
       "      <th>estimated_salary</th>\n",
       "      <td>147,674.64</td>\n",
       "      <td>148,357.48</td>\n",
       "      <td>0.46</td>\n",
       "    </tr>\n",
       "    <tr>\n",
       "      <th>products</th>\n",
       "      <td>2</td>\n",
       "      <td>2</td>\n",
       "      <td>NaN</td>\n",
       "    </tr>\n",
       "    <tr>\n",
       "      <th>equity</th>\n",
       "      <td>3</td>\n",
       "      <td>4</td>\n",
       "      <td>NaN</td>\n",
       "    </tr>\n",
       "    <tr>\n",
       "      <th>city</th>\n",
       "      <td>Ярославль</td>\n",
       "      <td>Ярославль</td>\n",
       "      <td>NaN</td>\n",
       "    </tr>\n",
       "    <tr>\n",
       "      <th>gender</th>\n",
       "      <td>Ж</td>\n",
       "      <td>М</td>\n",
       "      <td>NaN</td>\n",
       "    </tr>\n",
       "    <tr>\n",
       "      <th>credit_card</th>\n",
       "      <td>1</td>\n",
       "      <td>1</td>\n",
       "      <td>NaN</td>\n",
       "    </tr>\n",
       "    <tr>\n",
       "      <th>last_activity</th>\n",
       "      <td>0</td>\n",
       "      <td>1</td>\n",
       "      <td>NaN</td>\n",
       "    </tr>\n",
       "  </tbody>\n",
       "</table>\n",
       "</div>"
      ],
      "text/plain": [
       "                   Остались         Ушли  Разница, %\n",
       "balance          733,031.63 1,134,458.21       54.76\n",
       "age                   43.02        41.43       -3.70\n",
       "score                845.40       863.36        2.13\n",
       "estimated_salary 147,674.64   148,357.48        0.46\n",
       "products                  2            2         NaN\n",
       "equity                    3            4         NaN\n",
       "city              Ярославль    Ярославль         NaN\n",
       "gender                    Ж            М         NaN\n",
       "credit_card               1            1         NaN\n",
       "last_activity             0            1         NaN"
      ]
     },
     "execution_count": 32,
     "metadata": {},
     "output_type": "execute_result"
    }
   ],
   "source": [
    "# Расчитаем меры центральной тенденции\n",
    "df_churn = df.groupby('churn').agg({\n",
    "    'score':            'mean',          # непрерывный признак\n",
    "    'age':              'mean',          # непрерывный признак\n",
    "    'estimated_salary': 'mean',          # непрерывный признак\n",
    "    'balance':          'mean',          # непрерывный признак\n",
    "    'products':         'median',        # дискретный признак\n",
    "    'equity':           'median',        # дискретный признак\n",
    "    'city':             pd.Series.mode,  # категориальный признак\n",
    "    'gender':           pd.Series.mode,  # категориальный признак\n",
    "    'credit_card':      'median',        # дискретный признак\n",
    "    'last_activity':    'median'         # дискретный признак\n",
    "})\n",
    "\n",
    "# Расчитаем относительную разницу мер центральной тенденции для непрерывных признаков\n",
    "continuous_signs = ['score', 'age', 'estimated_salary', 'balance']\n",
    "result = []\n",
    "for i, v in df_churn.items():    \n",
    "    if i in continuous_signs:\n",
    "        rate_val = (v[1] / v[0] - 1) * 100\n",
    "        result.append(rate_val)\n",
    "    else:\n",
    "        result.append(float('nan'))\n",
    "churn_rate = pd.Series(result, index=df_churn.iloc[1].index)\n",
    "\n",
    "# Соединим все в сводную таблицу\n",
    "pd.concat({\n",
    "        'Остались':   df_churn.iloc[0],\n",
    "        'Ушли':       df_churn.iloc[1],\n",
    "        'Разница, %': churn_rate\n",
    "    },\n",
    "    axis=1\n",
    ").sort_values('Разница, %', ascending=False, key=abs)"
   ]
  },
  {
   "cell_type": "markdown",
   "metadata": {},
   "source": [
    "Значения мер центральной тенденции показывают:\n",
    "- Количество используемых продуктов `products` у ушедших и оставшихся клиентов одинаковая, как и количество кредитных карт `credit_card`\n",
    "- Количество баллов собственности `equity` у ушедших клиентов выше (4 балла) чем у оставшихся (3 балла)\n",
    "- Наибольшая отточность проявляется в Ярославле\n",
    "- Мужчины чаще уходят, чем женщины\n",
    "- Ушедшие клиенты чаще были недавно активными\n",
    "- Баланс на счете `balance` у ушедших клиентов на 55% выше, чем у оставшихся\n",
    "- Возраст `age`, кредитный рейтинг `score` и доход `estimated_salary` у оставшихся и ушедших клиентов отличается не более, чем на 4%\n",
    "\n",
    "**Портрет типичного лояльного клиента:**\n",
    "- женщина из Ярославля с балансом на счете порядка 733 тыс. у.е.\n",
    "- в возрасте 43 лет и зарплатой порядка 147 тыс. у.е.\n",
    "- имеет одну кредитную карту\n",
    "- пользуется двумя банковскими продуктами\n",
    "- имеет кредитный рейтинг 845 баллов и три балла собственности\n",
    "\n",
    "**Портрет типичного отточного клиента:**\n",
    "- мужчина из Ярославля с балансом на счете порядка 1,1 млн. у.е.\n",
    "- в возрасте 41 года и зарплатой порядка 148 тыс. у.е.\n",
    "- имеет одну кредитную карту\n",
    "- пользуется двумя банковскими продуктами\n",
    "- имеет кредитный рейтинг 845 баллов и 4 балла собственности"
   ]
  },
  {
   "cell_type": "markdown",
   "metadata": {},
   "source": [
    "### Корреляционный анализ оттока"
   ]
  },
  {
   "cell_type": "markdown",
   "metadata": {},
   "source": [
    "Построим тепловую карту корреляции признаков клиентов банка"
   ]
  },
  {
   "cell_type": "code",
   "execution_count": 33,
   "metadata": {},
   "outputs": [
    {
     "data": {
      "image/png": "[encoded data removed]",
      "text/plain": [
       "<Figure size 864x864 with 2 Axes>"
      ]
     },
     "metadata": {
      "needs_background": "light"
     },
     "output_type": "display_data"
    }
   ],
   "source": [
    "plt.figure(figsize=(12, 12))\n",
    "plt.title('Корреляция признаков клиентов банка', fontsize=16, y=1.03)\n",
    "df_corr = df.drop(columns=['user_id', 'city', 'gender'], axis=1).corr()\n",
    "sns.heatmap(df_corr, annot = True, square=True, cmap='coolwarm')\n",
    "plt.show()"
   ]
  },
  {
   "cell_type": "code",
   "execution_count": 34,
   "metadata": {},
   "outputs": [
    {
     "name": "stdout",
     "output_type": "stream",
     "text": [
      "Столбцы до переименования\n",
      " Index(['churn', 'products', 'equity', 'last_activity', 'male', 'female',\n",
      "       'credit_card', 'score', 'balance', 'age', 'city_rybinsk',\n",
      "       'city_yaroslavl', 'city_rostov', 'estimated_salary'],\n",
      "      dtype='object')\n",
      "\n",
      "Столбцы после переименования\n",
      " Index(['Отток', 'Банковские продукты', 'Баллы собственности', 'Активность',\n",
      "       'Мужской пол', 'Женский пол', 'Наличие кредитной карты',\n",
      "       'Кредитный рейтинг', 'Баланс', 'Возраст', 'Филиал в Рыбинске',\n",
      "       'Филиал в Ярославле', 'Филиал в Ростове', 'Доход'],\n",
      "      dtype='object')\n"
     ]
    }
   ],
   "source": [
    "df_churn_corr = df_corr['churn'].apply('abs').sort_values(axis=0, ascending=False)\n",
    "\n",
    "print(\"Столбцы до переименования\\n\", df_churn_corr.index)\n",
    "df_churn_corr.index = [\n",
    "   'Отток', 'Банковские продукты', 'Баллы собственности', 'Активность', 'Мужской пол', 'Женский пол',\n",
    "   'Наличие кредитной карты', 'Кредитный рейтинг', 'Баланс', 'Возраст', 'Филиал в Рыбинске',\n",
    "   'Филиал в Ярославле', 'Филиал в Ростове', 'Доход'\n",
    "]\n",
    "print(\"\\nСтолбцы после переименования\\n\", df_churn_corr.index)"
   ]
  },
  {
   "cell_type": "code",
   "execution_count": 35,
   "metadata": {},
   "outputs": [
    {
     "data": {
      "image/png": "[encoded data removed]",
      "text/plain": [
       "<Figure size 864x432 with 1 Axes>"
      ]
     },
     "metadata": {
      "needs_background": "light"
     },
     "output_type": "display_data"
    }
   ],
   "source": [
    "fig, ax = plt.subplots(figsize=(12, 6))\n",
    "ax.set_title(\"Корреляция оттока с другими признаками клиента\", fontsize=16, y=1.03)\n",
    "sns.barplot(x=df_churn_corr.values, y=df_churn_corr.index)    \n",
    "ax.set_xlabel('Уровень корреляции, абсолютное значение')\n",
    "ax.set_ylabel('Признак клиента')\n",
    "plt.show()"
   ]
  },
  {
   "cell_type": "markdown",
   "metadata": {},
   "source": [
    "По шкале Чеддока можно интерпретировать полученные значения корреляции оттока клиентов с остальными признаками следующим образом:\n",
    "- `< 0.1` - связь отсутствует с признаками:\n",
    "    - возраст\n",
    "    - баланс на счете\n",
    "    - доход\n",
    "    - филиал обслуживания\n",
    "- `0.1 - 0.3` - присутствует слабая связь с признаками:\n",
    "    - кредитный рейтинг\n",
    "    - баллы собственности\n",
    "    - количество активных банковских продуктов\n",
    "    - наличие кредитной карты\n",
    "    - наличие активности\n",
    "    - пол"
   ]
  },
  {
   "cell_type": "markdown",
   "metadata": {},
   "source": [
    "### Выводы"
   ]
  },
  {
   "cell_type": "markdown",
   "metadata": {},
   "source": [
    "1. Выявлены следующие значения и интервалы признаков с повышенным оттоком:\n",
    "    - Города - Ярославль и Ростов.\n",
    "    - Пол - мужчины.\n",
    "    - Возраст - две группы: с 25 до 35 лет и с 50 до 60 лет.\n",
    "    - Не пользуются кредитной картой.\n",
    "    - Более 3х баллов собственности.\n",
    "    - Три и более активных банковских продукта.\n",
    "    - Активные клиенты.\n",
    "    - Кредитный рейтинг в диапазоне от 850 до 920 баллов.\n",
    "\n",
    "\n",
    "2. Значения мер центральной тенденции показывают:\n",
    "    - Количество используемых продуктов у ушедших и оставшихся клиентов одинаковая, как и количество кредитных карт.\n",
    "    - Количество баллов собственности у ушедших клиентов выше (4 балла) чем у оставшихся (3 балла).\n",
    "    - Наибольшая отточность проявляется в Ярославле.\n",
    "    - Мужчины чаще уходят, чем женщины.\n",
    "    - Ушедшие клиенты чаще были недавно активными.\n",
    "    - Баланс на счете у ушедших клиентов на 55% выше, чем у оставшихся.\n",
    "    - Возраст, кредитный рейтинг и доход у оставшихся и ушедших клиентов отличается не более, чем на 4%.\n",
    "\n",
    "\n",
    "3. Корреляционный анализ показал отсутствие взаимосвязи либо наличие очень слабой связи между оттоком и остальными признаками клиента."
   ]
  },
  {
   "cell_type": "markdown",
   "metadata": {},
   "source": [
    "## Проверка гипотез"
   ]
  },
  {
   "cell_type": "markdown",
   "metadata": {},
   "source": [
    "### Доходы оставшихся и ушедших клиентов равны"
   ]
  },
  {
   "cell_type": "markdown",
   "metadata": {},
   "source": [
    "Проверим гипотезу различия дохода между теми клиентами, которые ушли и теми, которые остались.\n",
    "- **H0 (нулевая гипотеза)**: доходы оставшихся и ушедших клиентов равны.\n",
    "- **H1 (альтернативная гипотеза)**: доходы оставшихся и ушедших клиентов не равны."
   ]
  },
  {
   "cell_type": "markdown",
   "metadata": {},
   "source": [
    "**Проверим применимость t-test для проверки гипотезы**"
   ]
  },
  {
   "cell_type": "code",
   "execution_count": 36,
   "metadata": {},
   "outputs": [],
   "source": [
    "df_churn_0 = df[df['churn'] == 0]['estimated_salary']\n",
    "df_churn_1 = df[df['churn'] == 1]['estimated_salary']"
   ]
  },
  {
   "cell_type": "code",
   "execution_count": 37,
   "metadata": {},
   "outputs": [
    {
     "data": {
      "image/png": "[encoded data removed]",
      "text/plain": [
       "<Figure size 864x432 with 1 Axes>"
      ]
     },
     "metadata": {
      "needs_background": "light"
     },
     "output_type": "display_data"
    }
   ],
   "source": [
    "# Посмотрим на распределение дохода для ушедших и оставшихся клиентов\n",
    "plt.figure(figsize=(12,6))\n",
    "plt.title(\"Распределение дохода в разрезе оттока\", fontsize=16, y=1.03)\n",
    "sns.histplot(df_churn_0, color='#92c6ff', stat='density');\n",
    "sns.histplot(df_churn_1, color='#97f0aa', stat='density');\n",
    "plt.legend(['Остались', 'Ушли'])\n",
    "plt.xlabel(\"Доход\", fontsize=12)\n",
    "plt.ylabel('Количество клиентов', fontsize=12)\n",
    "plt.show()"
   ]
  },
  {
   "cell_type": "markdown",
   "metadata": {},
   "source": [
    "Распределение не выглядет как нормальное, но для надежности еще проведем Shapiro-Wilk тест обоих датасетов.\n",
    "- H0 (нулевая гипотеза): датасет имеет нормальное распределение.\n",
    "- H1 (альтернативная гипотеза): датасет не имеет нормальное распределение."
   ]
  },
  {
   "cell_type": "code",
   "execution_count": 38,
   "metadata": {},
   "outputs": [
    {
     "name": "stdout",
     "output_type": "stream",
     "text": [
      "Датасет `df_churn_0`\n",
      "P-value:  0.0\n",
      "Отвергаем нулевую гипотезу\n",
      "\n",
      "Датасет `df_churn_1`\n",
      "P-value:  0.0\n",
      "Отвергаем нулевую гипотезу\n"
     ]
    },
    {
     "name": "stderr",
     "output_type": "stream",
     "text": [
      "/opt/conda/lib/python3.9/site-packages/scipy/stats/_morestats.py:1800: UserWarning:\n",
      "\n",
      "p-value may not be accurate for N > 5000.\n",
      "\n"
     ]
    }
   ],
   "source": [
    "print(\"Датасет `df_churn_0`\")\n",
    "shapiro_test_stat, p_value = st.shapiro(df_churn_0)\n",
    "print('P-value: ', p_value)\n",
    "if p_value < 0.05:\n",
    "    print('Отвергаем нулевую гипотезу')\n",
    "else:\n",
    "    print('Не получилось отвергнуть нулевую гипотезу')  \n",
    "     \n",
    "      \n",
    "print(\"\\nДатасет `df_churn_1`\")\n",
    "shapiro_test_stat, p_value = st.shapiro(df_churn_1)\n",
    "print('P-value: ', p_value)\n",
    "if p_value < 0.05:\n",
    "    print('Отвергаем нулевую гипотезу')\n",
    "else:\n",
    "    print('Не получилось отвергнуть нулевую гипотезу')        "
   ]
  },
  {
   "cell_type": "markdown",
   "metadata": {},
   "source": [
    "Отвергаем нулевую гипотезу для обоих датасетов, что датасет имеет нормальное распределение."
   ]
  },
  {
   "cell_type": "markdown",
   "metadata": {},
   "source": [
    "Так же проверим дисперсию в датасетах"
   ]
  },
  {
   "cell_type": "code",
   "execution_count": 39,
   "metadata": {},
   "outputs": [
    {
     "name": "stdout",
     "output_type": "stream",
     "text": [
      "Дисперсия в датасете `df_churn_0`: 20358839437.943962\n",
      "Дисперсия в датасете `df_churn_1`: 15112272166.883385\n"
     ]
    }
   ],
   "source": [
    "print(\"Дисперсия в датасете `df_churn_0`:\", df_churn_0.var())\n",
    "print(\"Дисперсия в датасете `df_churn_1`:\", df_churn_1.var())"
   ]
  },
  {
   "cell_type": "markdown",
   "metadata": {},
   "source": [
    "Так же необходимо проверить выбросы в датасетах - данная проверка, в дополнение к проверкам распределения и дисперсии, будет определяющим критерием возможности применения t-test для проверки гипотезы."
   ]
  },
  {
   "cell_type": "code",
   "execution_count": 40,
   "metadata": {},
   "outputs": [
    {
     "data": {
      "image/png": "[encoded data removed]",
      "text/plain": [
       "<Figure size 864x432 with 1 Axes>"
      ]
     },
     "metadata": {
      "needs_background": "light"
     },
     "output_type": "display_data"
    }
   ],
   "source": [
    "plt.figure(figsize=(12,6))\n",
    "plt.title(\"Распределение дохода в разрезе оттока\", fontsize=16, y=1.03)\n",
    "sns.boxplot(data=df, x='churn', y='estimated_salary')\n",
    "plt.xlabel(\"Отток\", fontsize=12)\n",
    "plt.ylabel('Доход', fontsize=12)\n",
    "plt.show()"
   ]
  },
  {
   "cell_type": "markdown",
   "metadata": {},
   "source": [
    "- На графике видим значительное количество выбросов.\n",
    "- На основании трех проверок - распределение значений в выборках не является нормальным, дисперсии не равны и присутствуют выбросы, можем сделать вывод о неприменимости ttest для проверки гипотезы.\n",
    "- Для ненормального распределения выборок возьмем U-критерий Манна-Уитни и проведем u-test."
   ]
  },
  {
   "cell_type": "code",
   "execution_count": 41,
   "metadata": {},
   "outputs": [
    {
     "name": "stdout",
     "output_type": "stream",
     "text": [
      "P-value:  0.00017\n",
      "Отвергаем нулевую гипотезу\n"
     ]
    }
   ],
   "source": [
    "res = st.mannwhitneyu(df_churn_0, df_churn_1)\n",
    "print('P-value: ', '{0:.5f}'.format(res.pvalue))\n",
    "\n",
    "if res.pvalue < 0.05:\n",
    "    print('Отвергаем нулевую гипотезу')\n",
    "else:\n",
    "    print('Не получилось отвергнуть нулевую гипотезу') "
   ]
  },
  {
   "cell_type": "markdown",
   "metadata": {},
   "source": [
    "- Отвергаем нулевую гипотезу, что доходы оставшихся и ушедших клиентов равны.\n",
    "- Есть основания полагать, что доходы оставшихся и ушедших клиентов не равны."
   ]
  },
  {
   "cell_type": "markdown",
   "metadata": {},
   "source": [
    "### Отток зависит от города филиала"
   ]
  },
  {
   "cell_type": "markdown",
   "metadata": {},
   "source": [
    "Проверим гипотезу о влиянии города филиала на отток клиентов банка.\n",
    "- **H0 (нулевая гипотеза)**: отток зависит от города филиала;\n",
    "- **H1 (альтернативная гипотеза)**: отток не зависит от города филиала."
   ]
  },
  {
   "cell_type": "markdown",
   "metadata": {},
   "source": [
    "Выборки будут являються набором бинарных значений, поэтому применим z-test для проверки гипотезы."
   ]
  },
  {
   "cell_type": "code",
   "execution_count": 42,
   "metadata": {},
   "outputs": [
    {
     "data": {
      "text/plain": [
       "1818"
      ]
     },
     "execution_count": 42,
     "metadata": {},
     "output_type": "execute_result"
    }
   ],
   "source": [
    "df[df['churn']==1]['churn'].count()"
   ]
  },
  {
   "cell_type": "code",
   "execution_count": 43,
   "metadata": {},
   "outputs": [
    {
     "name": "stdout",
     "output_type": "stream",
     "text": [
      "P-value: 0.000\n",
      "Отвергаем нулевую гипотезу. Город: Ростов\n",
      "\n",
      "P-value: 0.000\n",
      "Отвергаем нулевую гипотезу. Город: Рыбинск\n",
      "\n",
      "P-value: 0.000\n",
      "Отвергаем нулевую гипотезу. Город: Ярославль\n",
      "\n"
     ]
    }
   ],
   "source": [
    "# Критический уровень статистической значимости\n",
    "alpha = 0.05\n",
    "\n",
    "# Средний уровень оттока по банку\n",
    "churn_mean = df['churn'].mean()\n",
    "# количество отточных клиентов всего\n",
    "successes_2 = df[df['churn']==1]['churn'].count()\n",
    "# общее количество клиентов всего\n",
    "nobs_2 = df['churn'].count()\n",
    "\n",
    "for city in ['Ростов', 'Рыбинск', 'Ярославль']:\n",
    "    # количество отточных клиентов города\n",
    "    successes_1 = df[(df['city']==city) & (df['churn']==1)]['churn'].count()\n",
    "    # общее количество клиентов города\n",
    "    nobs_1 = df[df['city']==city]['churn'].count()         \n",
    "    \n",
    "    z_stat, pval = proportions_ztest([successes_1, successes_2], [nobs_1, nobs_2], churn_mean)\n",
    "\n",
    "    print('P-value:', '{0:0.3f}'.format(pval))\n",
    "\n",
    "    if pval < alpha:\n",
    "        print(f\"Отвергаем нулевую гипотезу. Город: {city}\\n\")\n",
    "    else:\n",
    "        print(f\"Не получилось отвергнуть нулевую гипотез. Город: {city}\\n\")"
   ]
  },
  {
   "cell_type": "markdown",
   "metadata": {},
   "source": [
    "- Нет оснований пологать, что отток зависит от города филиала."
   ]
  },
  {
   "cell_type": "markdown",
   "metadata": {},
   "source": [
    "### Выводы"
   ]
  },
  {
   "cell_type": "markdown",
   "metadata": {},
   "source": [
    "- Есть основания полагать, что доходы оставшихся и ушедших клиентов не равны.\n",
    "- Нет оснований полагать, что отток зависит от города филиала."
   ]
  },
  {
   "cell_type": "markdown",
   "metadata": {},
   "source": [
    "## Обобщение признаков, влияющих на отток"
   ]
  },
  {
   "cell_type": "markdown",
   "metadata": {},
   "source": [
    "На основе проведенного исследовательского анализа данных и проверки отдельных гипотез, обобщим признаки, сопутствующие повышенному оттоку клиентов.\n",
    "- Города - Ярославль (в приоритете) и Ростов (в меньшем приоритете).\n",
    "- Пол - мужчины.\n",
    "- Возраст - две группы: с 25 до 35 лет и с 50 до 60 лет.\n",
    "- Не пользуются кредитной картой.\n",
    "- Более 3х баллов собственности.\n",
    "- Три и более активных банковских продукта.\n",
    "- Активные клиенты.\n",
    "- Кредитный рейтинг в диапазоне от 850 до 920 баллов.\n",
    "- Баланс на счете у ушедших клиентов на 55% выше, чем у оставшихся.\n",
    "\n",
    "Выделенные значения и интервалы признаков используем для дальнейшей сегментации клиентов."
   ]
  },
  {
   "cell_type": "markdown",
   "metadata": {},
   "source": [
    "## Сегментация"
   ]
  },
  {
   "cell_type": "markdown",
   "metadata": {},
   "source": [
    "- На основе обобщенных признаков, влияющих на отток, выделим три отдельных сегмента клиентов.\n",
    "- Убедимся, что каждый выделенный сегмент удовлетворяет следующим требованиям:\n",
    "    - В сегменте более 500 клиентов.\n",
    "    - Уровень оттока в сегменте выше, чем в среднем по банку - 18.2%."
   ]
  },
  {
   "cell_type": "markdown",
   "metadata": {},
   "source": [
    "### Сегмент №1 - Зрелый и надежный"
   ]
  },
  {
   "cell_type": "markdown",
   "metadata": {},
   "source": [
    "Признаки клиента в сегменте:\n",
    "- Возраст от 45 до 60 лет\n",
    "- Кредитный рейтинг более от 850 до 925 баллов\n",
    "- Активный"
   ]
  },
  {
   "cell_type": "code",
   "execution_count": 44,
   "metadata": {},
   "outputs": [
    {
     "name": "stdout",
     "output_type": "stream",
     "text": [
      "Общее количество клиентов:  502\n",
      "Количество отточных клиентов:  190\n",
      "Уровень оттока:  37.8 %\n"
     ]
    }
   ],
   "source": [
    "signs_query = 'age >= 45 and age <= 60 and score > 850 and score < 925 and last_activity == 1'\n",
    "print ('Общее количество клиентов: ', df.query(signs_query)['user_id'].count())\n",
    "print ('Количество отточных клиентов: ', df.query(signs_query + ' and churn == 1')['user_id'].count())\n",
    "print('Уровень оттока: ', (\n",
    "    df.query(signs_query + ' and churn == 1')['user_id'].count() / \n",
    "    df.query(signs_query)['user_id'].count() * 100).round(1), '%')"
   ]
  },
  {
   "cell_type": "markdown",
   "metadata": {},
   "source": [
    "Возможно, данному сегменту следует предложить целевой кредит для пенсионеров."
   ]
  },
  {
   "cell_type": "markdown",
   "metadata": {},
   "source": [
    "### Сегмент №2 - На пути к успеху"
   ]
  },
  {
   "cell_type": "markdown",
   "metadata": {},
   "source": [
    "Признаки клиента в сегменте:\n",
    "- Возраст от 25 до 45 лет\n",
    "- Баланс более 850,000\n",
    "- Баллы собственности более 3\n",
    "- Активный"
   ]
  },
  {
   "cell_type": "code",
   "execution_count": 45,
   "metadata": {},
   "outputs": [
    {
     "name": "stdout",
     "output_type": "stream",
     "text": [
      "Общее количество клиентов:  723\n",
      "Количество отточных клиентов:  365\n",
      "Уровень оттока:  50.5 %\n"
     ]
    }
   ],
   "source": [
    "signs_query = '25 <= age <= 35 and equity > 3 and last_activity == 1'\n",
    "\n",
    "print ('Общее количество клиентов: ', df.query(signs_query)['user_id'].count())\n",
    "print ('Количество отточных клиентов: ', df.query(signs_query + ' and churn == 1')['user_id'].count())\n",
    "print ('Уровень оттока: ', (\n",
    "    df.query(signs_query + ' and churn == 1')['user_id'].count() / \n",
    "    df.query(signs_query)['user_id'].count() * 100).round(1), '%')"
   ]
  },
  {
   "cell_type": "markdown",
   "metadata": {},
   "source": [
    "Клиентам из данного сегмента можно предложить специальные условия по накопительным счетам, различные залоговые кредиты и страхование имущества."
   ]
  },
  {
   "cell_type": "markdown",
   "metadata": {},
   "source": [
    "### Сегмент №3 - Ответственный ярославец"
   ]
  },
  {
   "cell_type": "markdown",
   "metadata": {},
   "source": [
    "Признаки клиента в сегменте:\n",
    "- Город Ярославль\n",
    "- Нет кредитной карты\n",
    "- Активный"
   ]
  },
  {
   "cell_type": "code",
   "execution_count": 46,
   "metadata": {},
   "outputs": [
    {
     "name": "stdout",
     "output_type": "stream",
     "text": [
      "Общее количество клиентов:  843\n",
      "Количество отточных клиентов:  343\n",
      "Уровень оттока:  40.7 %\n"
     ]
    }
   ],
   "source": [
    "signs_query = 'credit_card == 0 and last_activity == 1 and city == \"Ярославль\"'\n",
    "\n",
    "print ('Общее количество клиентов: ', df.query(signs_query)['user_id'].count())\n",
    "print ('Количество отточных клиентов: ', df.query(signs_query + ' and churn == 1')['user_id'].count())\n",
    "print ('Уровень оттока: ', (\n",
    "    df.query(signs_query + ' and churn == 1')['user_id'].count() / \n",
    "    df.query(signs_query)['user_id'].count() * 100).round(1), '%')"
   ]
  },
  {
   "cell_type": "markdown",
   "metadata": {},
   "source": [
    "Вероятно, клиентам из текущего сегмента следует предложить кредитную карту, либо дебетовую карту с выгодным с кэшбэком."
   ]
  },
  {
   "cell_type": "markdown",
   "metadata": {},
   "source": [
    "### Приоритезация сегментов"
   ]
  },
  {
   "cell_type": "markdown",
   "metadata": {},
   "source": [
    "За параметр приоретизации возьмем количество отточных клиентов - чем больше количество, тем выше приоритет для взятия в работу отделом маркетинга. Т.е. на первое место мы ставим количество клиентов, на которых будет направлена дальнейшая маркетинговая активность.\n",
    "- 1й приоритет - сегмент \"На пути к успеху\", количество отточных клиентов 365.\n",
    "- 2й приоритет - сегмент \"Ответственный ярославец\", количество отточных клиентов 343.\n",
    "- 3й приоритет - сегмент \"Зрелый и надежный\", количество отточных клиентов 190.\n"
   ]
  },
  {
   "cell_type": "markdown",
   "metadata": {},
   "source": [
    "### Выводы"
   ]
  },
  {
   "cell_type": "markdown",
   "metadata": {},
   "source": [
    "- Выделили три сегмента:\n",
    "\t1. \"Зрелый и надежный\" - активные клиенты в возрасте от 45 до 60 лет с кредитным рейтингом от 850 до 925 баллов.\n",
    "\t2. \"На пути к успеху\" - активные клиенты в возрасте от 25 до 35 лет с собственностью на более 3 баллов.\n",
    "\t3. \"Ответственный ярославец\" - активные ярославцы без кредитной карты.\n",
    "- Приоритезировали на основе количества отточных клиентов:\n",
    "    - 1й приоритет - сегмент \"На пути к успеху\", количество отточных клиентов 365.\n",
    "    - 2й приоритет - сегмент \"Ответственный ярославец\", количество отточных клиентов 343.\n",
    "    - 3й приоритет - сегмент \"Зрелый и надежный\", количество отточных клиентов 190. "
   ]
  },
  {
   "cell_type": "markdown",
   "metadata": {},
   "source": [
    "## Выводы и рекомендации"
   ]
  },
  {
   "cell_type": "markdown",
   "metadata": {},
   "source": [
    "### Выводы"
   ]
  },
  {
   "cell_type": "markdown",
   "metadata": {},
   "source": [
    "**Обзор данных**\n",
    "- Размер датасета - 12 колонок, 10 000 строк\n",
    "- Наблюдаются пропуски в колонках `age` и `balance`\n",
    "- Назвавния колонок в разном регистре - необходимо будет привести их к единому стилю \n",
    "- Колонки `score` и `age` необходимо привести к целочисленному типу данных\n",
    "- Отрицательные значения отсутствуют\n",
    "- Средний отток по банку - 18,2%\n",
    "\n",
    "**Предобработка данных**\n",
    "- Привели наименования столбцов к единому стилю.\n",
    "- Привели колонки `score` и `age` к целочисленному типу данных.\n",
    "- Закодировали значения столбцов `city` и `gender` для оценки корреляции в следующих разделах.\n",
    "- Классифицировали пропуски в столбце `age` как `MCAR` и удалили их.\n",
    "- Классифицировали пропуски в столбце `balance` как `MNAR` и оставили их.\n",
    "- Удалили одну строку с аномальным нулевым количеством банковских продуктов.\n",
    "- Полные дубликаты строк в датасете не обнаружили.\n",
    "- Обнаружили неявные дубликаты по столбцу `user_id`, но они не дублируются в рамках одного города - поэтому их оставили в датасете.\n",
    "\n",
    "**Исследовательский анализ данных, EDA**\n",
    "1. Выявлены следующие значения и интервалы признаков с повышенным оттоком.\n",
    "    - Города - Ярославль и Ростов.\n",
    "    - Пол - мужчины.\n",
    "    - Возраст - две группы: с 25 до 35 лет и с 50 до 60 лет.\n",
    "    - Не пользуются кредитной картой.\n",
    "    - Более 3х баллов собственности.\n",
    "    - Три и более активных банковских продукта.\n",
    "    - Активные клиенты.\n",
    "    - Кредитный рейтинг в диапазоне от 850 до 920 баллов.\n",
    "\n",
    "\n",
    "2. Значения мер центральной тенденции показали следующее.\n",
    "    - Количество используемых продуктов у ушедших и оставшихся клиентов одинаковая, как и количество кредитных карт.\n",
    "    - Количество баллов собственности у ушедших клиентов выше (4 балла) чем у оставшихся (3 балла).\n",
    "    - Наибольшая отточность проявляется в Ярославле.\n",
    "    - Мужчины чаще уходят, чем женщины.\n",
    "    - Ушедшие клиенты чаще были недавно активными.\n",
    "    - Баланс на счете у ушедших клиентов на 55% выше, чем у оставшихся.\n",
    "    - Возраст, кредитный рейтинг и доход у оставшихся и ушедших клиентов отличается не более, чем на 4%.\n",
    "\n",
    "\n",
    "3. Корреляционный анализ показал отсутствие взаимосвязи либо наличие очень слабой связи между оттоком и остальными признаками клиента.\n",
    "\n",
    "\n",
    "**Проверка гипотез**\n",
    "- Есть основания полагать, что доходы оставшихся и ушедших клиентов не равны.\n",
    "- Нет оснований полагать, что отток зависит от города филиала.\n",
    "\n",
    "\n",
    "**Обобщение признаков, влияющих на отток**\n",
    "- Города - Ярославль (в приоритете) и Ростов (в меньшем приоритете).\n",
    "- Пол - мужчины.\n",
    "- Возраст - две группы: с 25 до 45 лет и с 48 до 60 лет.\n",
    "- Не пользуются кредитной картой.\n",
    "- Более 3х баллов собственности.\n",
    "- Три и более активных банковских продукта.\n",
    "- Активные клиенты.\n",
    "- Кредитный рейтинг в диапазоне от 850 до 920 баллов.\n",
    "- Баланс на счете у ушедших клиентов на 55% выше, чем у оставшихся.\n",
    "\n",
    "\n",
    "**Сегментация**\n",
    "- Выделили три сегмента:\n",
    "\t1. \"Зрелый и надежный\" - активные клиенты в возрасте от 45 до 60 лет с кредитным рейтингом от 850 до 925 баллов.\n",
    "\t2. \"На пути к успеху\" - активные клиенты в возрасте от 25 до 35 лет с собственностью на более 3 баллов.\n",
    "\t3. \"Ответственный ярославец\" - активные ярославцы без кредитной карты.\n",
    "- Приоритезировали на основе количества отточных клиентов:\n",
    "    - 1й приоритет - сегмент \"На пути к успеху\", количество отточных клиентов 365.\n",
    "    - 2й приоритет - сегмент \"Ответственный ярославец\", количество отточных клиентов 343.\n",
    "    - 3й приоритет - сегмент \"Зрелый и надежный\", количество отточных клиентов 190. "
   ]
  },
  {
   "cell_type": "markdown",
   "metadata": {},
   "source": [
    "### Рекомендации"
   ]
  },
  {
   "cell_type": "markdown",
   "metadata": {},
   "source": [
    "- Для клиентов из сегмента \"Зрелый и надежный\" следует предложить целевой кредит для пенсионеров.\n",
    "- Для клиентов из сегмента \"На пути к успеху\" можно предложить специальные условия по накопительным счетам, различные залоговые кредиты и страхование имущества.\n",
    "- Для сегмента \"Ответственный ярославец\" следует предложить кредитную карту, либо дебетовую карту с выгодным с кэшбэком."
   ]
  }
 ],
 "metadata": {
  "ExecuteTimeLog": [
   {
    "duration": 111,
    "start_time": "2025-01-31T03:57:15.512Z"
   },
   {
    "duration": 2,
    "start_time": "2025-01-31T04:41:28.325Z"
   },
   {
    "duration": 2,
    "start_time": "2025-01-31T06:08:21.435Z"
   },
   {
    "duration": 136,
    "start_time": "2025-01-31T06:24:35.974Z"
   },
   {
    "duration": 45,
    "start_time": "2025-02-04T04:27:20.818Z"
   },
   {
    "duration": 1269,
    "start_time": "2025-02-04T04:27:30.201Z"
   },
   {
    "duration": 121,
    "start_time": "2025-02-04T04:27:31.922Z"
   },
   {
    "duration": 78,
    "start_time": "2025-02-04T04:28:20.551Z"
   },
   {
    "duration": 12,
    "start_time": "2025-02-04T04:40:27.409Z"
   },
   {
    "duration": 61,
    "start_time": "2025-02-04T04:41:09.512Z"
   },
   {
    "duration": 37,
    "start_time": "2025-02-04T04:41:14.347Z"
   },
   {
    "duration": 113,
    "start_time": "2025-02-04T04:47:00.939Z"
   },
   {
    "duration": 8,
    "start_time": "2025-02-04T05:27:54.384Z"
   },
   {
    "duration": 4,
    "start_time": "2025-02-04T05:28:26.695Z"
   },
   {
    "duration": 7,
    "start_time": "2025-02-04T05:28:50.591Z"
   },
   {
    "duration": 6,
    "start_time": "2025-02-04T05:33:31.608Z"
   },
   {
    "duration": 1247,
    "start_time": "2025-02-04T05:43:26.277Z"
   },
   {
    "duration": 14,
    "start_time": "2025-02-04T05:43:40.804Z"
   },
   {
    "duration": 13,
    "start_time": "2025-02-04T05:45:46.232Z"
   },
   {
    "duration": 10,
    "start_time": "2025-02-04T05:46:06.732Z"
   },
   {
    "duration": 9,
    "start_time": "2025-02-04T05:46:14.659Z"
   },
   {
    "duration": 8,
    "start_time": "2025-02-04T05:46:21.823Z"
   },
   {
    "duration": 1223,
    "start_time": "2025-02-04T05:46:26.166Z"
   },
   {
    "duration": 12,
    "start_time": "2025-02-04T05:47:18.034Z"
   },
   {
    "duration": 12,
    "start_time": "2025-02-04T05:47:26.786Z"
   },
   {
    "duration": 8,
    "start_time": "2025-02-04T05:48:03.296Z"
   },
   {
    "duration": 9,
    "start_time": "2025-02-04T05:51:53.317Z"
   },
   {
    "duration": 11,
    "start_time": "2025-02-04T05:52:00.103Z"
   },
   {
    "duration": 9,
    "start_time": "2025-02-04T05:53:15.425Z"
   },
   {
    "duration": 5,
    "start_time": "2025-02-04T05:53:22.029Z"
   },
   {
    "duration": 9,
    "start_time": "2025-02-04T05:59:47.361Z"
   },
   {
    "duration": 6,
    "start_time": "2025-02-04T05:59:53.463Z"
   },
   {
    "duration": 16,
    "start_time": "2025-02-04T06:01:09.190Z"
   },
   {
    "duration": 10,
    "start_time": "2025-02-04T06:10:45.730Z"
   },
   {
    "duration": 8,
    "start_time": "2025-02-04T06:10:50.313Z"
   },
   {
    "duration": 1343,
    "start_time": "2025-02-05T04:03:13.417Z"
   },
   {
    "duration": 143,
    "start_time": "2025-02-05T04:03:14.762Z"
   },
   {
    "duration": 13,
    "start_time": "2025-02-05T04:03:14.907Z"
   },
   {
    "duration": 37,
    "start_time": "2025-02-05T04:03:14.922Z"
   },
   {
    "duration": 6,
    "start_time": "2025-02-05T04:03:14.960Z"
   },
   {
    "duration": 11,
    "start_time": "2025-02-05T04:03:14.968Z"
   },
   {
    "duration": 8,
    "start_time": "2025-02-05T04:03:14.980Z"
   },
   {
    "duration": 7,
    "start_time": "2025-02-05T04:03:14.990Z"
   },
   {
    "duration": 13,
    "start_time": "2025-02-05T04:03:14.998Z"
   },
   {
    "duration": 7,
    "start_time": "2025-02-05T04:03:15.013Z"
   },
   {
    "duration": 8,
    "start_time": "2025-02-05T04:03:15.058Z"
   },
   {
    "duration": 47,
    "start_time": "2025-02-05T04:03:15.067Z"
   },
   {
    "duration": 7,
    "start_time": "2025-02-05T04:03:15.116Z"
   },
   {
    "duration": 11,
    "start_time": "2025-02-05T04:23:05.957Z"
   },
   {
    "duration": 1175,
    "start_time": "2025-02-05T04:42:22.458Z"
   },
   {
    "duration": 90,
    "start_time": "2025-02-05T04:42:23.635Z"
   },
   {
    "duration": 14,
    "start_time": "2025-02-05T04:42:23.727Z"
   },
   {
    "duration": 37,
    "start_time": "2025-02-05T04:42:23.743Z"
   },
   {
    "duration": 7,
    "start_time": "2025-02-05T04:42:23.783Z"
   },
   {
    "duration": 12,
    "start_time": "2025-02-05T04:42:23.792Z"
   },
   {
    "duration": 13,
    "start_time": "2025-02-05T04:42:23.806Z"
   },
   {
    "duration": 45,
    "start_time": "2025-02-05T04:42:23.821Z"
   },
   {
    "duration": 8,
    "start_time": "2025-02-05T04:42:23.868Z"
   },
   {
    "duration": 13,
    "start_time": "2025-02-05T04:42:23.878Z"
   },
   {
    "duration": 5,
    "start_time": "2025-02-05T04:42:23.892Z"
   },
   {
    "duration": 9,
    "start_time": "2025-02-05T04:42:23.899Z"
   },
   {
    "duration": 61,
    "start_time": "2025-02-05T04:42:23.910Z"
   },
   {
    "duration": 8,
    "start_time": "2025-02-05T04:42:23.974Z"
   },
   {
    "duration": 112,
    "start_time": "2025-02-05T05:20:27.748Z"
   },
   {
    "duration": 21,
    "start_time": "2025-02-05T05:21:14.406Z"
   },
   {
    "duration": 8,
    "start_time": "2025-02-05T05:31:49.204Z"
   },
   {
    "duration": 10,
    "start_time": "2025-02-05T05:32:20.795Z"
   },
   {
    "duration": 11,
    "start_time": "2025-02-05T05:33:39.182Z"
   },
   {
    "duration": 20,
    "start_time": "2025-02-05T05:33:55.228Z"
   },
   {
    "duration": 16,
    "start_time": "2025-02-05T05:34:11.300Z"
   },
   {
    "duration": 13,
    "start_time": "2025-02-05T05:55:20.089Z"
   },
   {
    "duration": 83,
    "start_time": "2025-02-05T05:57:47.609Z"
   },
   {
    "duration": 11,
    "start_time": "2025-02-05T05:58:40.619Z"
   },
   {
    "duration": 6,
    "start_time": "2025-02-05T05:58:46.119Z"
   },
   {
    "duration": 8,
    "start_time": "2025-02-05T05:59:00.107Z"
   },
   {
    "duration": 1198,
    "start_time": "2025-02-05T06:00:05.252Z"
   },
   {
    "duration": 137,
    "start_time": "2025-02-05T06:00:06.452Z"
   },
   {
    "duration": 11,
    "start_time": "2025-02-05T06:00:06.591Z"
   },
   {
    "duration": 38,
    "start_time": "2025-02-05T06:00:06.604Z"
   },
   {
    "duration": 6,
    "start_time": "2025-02-05T06:00:06.658Z"
   },
   {
    "duration": 17,
    "start_time": "2025-02-05T06:00:06.666Z"
   },
   {
    "duration": 13,
    "start_time": "2025-02-05T06:00:06.684Z"
   },
   {
    "duration": 23,
    "start_time": "2025-02-05T06:00:06.698Z"
   },
   {
    "duration": 8,
    "start_time": "2025-02-05T06:00:06.723Z"
   },
   {
    "duration": 41,
    "start_time": "2025-02-05T06:00:06.733Z"
   },
   {
    "duration": 9,
    "start_time": "2025-02-05T06:00:06.776Z"
   },
   {
    "duration": 16,
    "start_time": "2025-02-05T06:00:06.786Z"
   },
   {
    "duration": 27,
    "start_time": "2025-02-05T06:00:06.803Z"
   },
   {
    "duration": 6,
    "start_time": "2025-02-05T06:00:06.832Z"
   },
   {
    "duration": 13,
    "start_time": "2025-02-05T06:00:06.857Z"
   },
   {
    "duration": 13,
    "start_time": "2025-02-05T06:00:06.873Z"
   },
   {
    "duration": 8,
    "start_time": "2025-02-05T06:00:06.888Z"
   },
   {
    "duration": 17,
    "start_time": "2025-02-05T06:00:06.898Z"
   },
   {
    "duration": 7,
    "start_time": "2025-02-05T06:00:06.916Z"
   },
   {
    "duration": 1355,
    "start_time": "2025-02-06T04:05:53.983Z"
   },
   {
    "duration": 149,
    "start_time": "2025-02-06T04:05:55.340Z"
   },
   {
    "duration": 13,
    "start_time": "2025-02-06T04:05:55.490Z"
   },
   {
    "duration": 41,
    "start_time": "2025-02-06T04:05:55.504Z"
   },
   {
    "duration": 5,
    "start_time": "2025-02-06T04:05:55.547Z"
   },
   {
    "duration": 11,
    "start_time": "2025-02-06T04:05:55.554Z"
   },
   {
    "duration": 8,
    "start_time": "2025-02-06T04:05:55.567Z"
   },
   {
    "duration": 49,
    "start_time": "2025-02-06T04:05:55.576Z"
   },
   {
    "duration": 8,
    "start_time": "2025-02-06T04:05:55.626Z"
   },
   {
    "duration": 18,
    "start_time": "2025-02-06T04:05:55.637Z"
   },
   {
    "duration": 10,
    "start_time": "2025-02-06T04:05:55.657Z"
   },
   {
    "duration": 47,
    "start_time": "2025-02-06T04:05:55.668Z"
   },
   {
    "duration": 13,
    "start_time": "2025-02-06T04:05:55.717Z"
   },
   {
    "duration": 7,
    "start_time": "2025-02-06T04:05:55.732Z"
   },
   {
    "duration": 12,
    "start_time": "2025-02-06T04:05:55.741Z"
   },
   {
    "duration": 4,
    "start_time": "2025-02-06T04:05:55.755Z"
   },
   {
    "duration": 9,
    "start_time": "2025-02-06T04:05:55.760Z"
   },
   {
    "duration": 43,
    "start_time": "2025-02-06T04:05:55.771Z"
   },
   {
    "duration": 6,
    "start_time": "2025-02-06T04:05:55.816Z"
   },
   {
    "duration": 62,
    "start_time": "2025-02-06T04:05:55.823Z"
   },
   {
    "duration": 51,
    "start_time": "2025-02-06T04:05:55.887Z"
   },
   {
    "duration": 11,
    "start_time": "2025-02-06T04:07:58.149Z"
   },
   {
    "duration": 24,
    "start_time": "2025-02-06T04:10:22.062Z"
   },
   {
    "duration": 4,
    "start_time": "2025-02-06T04:12:28.648Z"
   },
   {
    "duration": 23,
    "start_time": "2025-02-06T04:12:35.611Z"
   },
   {
    "duration": 3,
    "start_time": "2025-02-06T04:13:01.174Z"
   },
   {
    "duration": 3,
    "start_time": "2025-02-06T04:13:21.693Z"
   },
   {
    "duration": 22,
    "start_time": "2025-02-06T04:13:28.144Z"
   },
   {
    "duration": 1152,
    "start_time": "2025-02-06T04:13:48.031Z"
   },
   {
    "duration": 3,
    "start_time": "2025-02-06T04:13:49.185Z"
   },
   {
    "duration": 102,
    "start_time": "2025-02-06T04:13:49.189Z"
   },
   {
    "duration": 11,
    "start_time": "2025-02-06T04:13:49.293Z"
   },
   {
    "duration": 34,
    "start_time": "2025-02-06T04:13:49.306Z"
   },
   {
    "duration": 7,
    "start_time": "2025-02-06T04:13:49.341Z"
   },
   {
    "duration": 10,
    "start_time": "2025-02-06T04:13:49.349Z"
   },
   {
    "duration": 10,
    "start_time": "2025-02-06T04:13:49.360Z"
   },
   {
    "duration": 48,
    "start_time": "2025-02-06T04:13:49.371Z"
   },
   {
    "duration": 8,
    "start_time": "2025-02-06T04:13:49.421Z"
   },
   {
    "duration": 20,
    "start_time": "2025-02-06T04:13:49.430Z"
   },
   {
    "duration": 9,
    "start_time": "2025-02-06T04:13:49.451Z"
   },
   {
    "duration": 17,
    "start_time": "2025-02-06T04:13:49.461Z"
   },
   {
    "duration": 33,
    "start_time": "2025-02-06T04:13:49.480Z"
   },
   {
    "duration": 5,
    "start_time": "2025-02-06T04:13:49.514Z"
   },
   {
    "duration": 15,
    "start_time": "2025-02-06T04:13:49.520Z"
   },
   {
    "duration": 5,
    "start_time": "2025-02-06T04:13:49.537Z"
   },
   {
    "duration": 9,
    "start_time": "2025-02-06T04:13:49.543Z"
   },
   {
    "duration": 15,
    "start_time": "2025-02-06T04:13:49.554Z"
   },
   {
    "duration": 43,
    "start_time": "2025-02-06T04:13:49.571Z"
   },
   {
    "duration": 29,
    "start_time": "2025-02-06T04:13:49.615Z"
   },
   {
    "duration": 13,
    "start_time": "2025-02-06T04:13:49.645Z"
   },
   {
    "duration": 26,
    "start_time": "2025-02-06T04:13:49.659Z"
   },
   {
    "duration": 103,
    "start_time": "2025-02-06T04:21:06.982Z"
   },
   {
    "duration": 21,
    "start_time": "2025-02-06T04:21:22.231Z"
   },
   {
    "duration": 23,
    "start_time": "2025-02-06T04:21:38.635Z"
   },
   {
    "duration": 12,
    "start_time": "2025-02-06T04:21:52.029Z"
   },
   {
    "duration": 13,
    "start_time": "2025-02-06T04:24:19.428Z"
   },
   {
    "duration": 22,
    "start_time": "2025-02-06T04:27:07.972Z"
   },
   {
    "duration": 4,
    "start_time": "2025-02-06T04:27:09.849Z"
   },
   {
    "duration": 14,
    "start_time": "2025-02-06T04:28:01.144Z"
   },
   {
    "duration": 12,
    "start_time": "2025-02-06T04:30:10.470Z"
   },
   {
    "duration": 23,
    "start_time": "2025-02-06T05:01:25.267Z"
   },
   {
    "duration": 21,
    "start_time": "2025-02-06T05:02:28.087Z"
   },
   {
    "duration": 3,
    "start_time": "2025-02-06T05:02:30.093Z"
   },
   {
    "duration": 11,
    "start_time": "2025-02-06T05:02:33.528Z"
   },
   {
    "duration": 10,
    "start_time": "2025-02-06T05:03:24.821Z"
   },
   {
    "duration": 23,
    "start_time": "2025-02-06T05:18:36.571Z"
   },
   {
    "duration": 23,
    "start_time": "2025-02-06T05:21:23.584Z"
   },
   {
    "duration": 21,
    "start_time": "2025-02-06T05:39:58.575Z"
   },
   {
    "duration": 4,
    "start_time": "2025-02-06T05:45:34.300Z"
   },
   {
    "duration": 10,
    "start_time": "2025-02-06T05:45:35.191Z"
   },
   {
    "duration": 3,
    "start_time": "2025-02-06T05:51:24.651Z"
   },
   {
    "duration": 211,
    "start_time": "2025-02-06T05:51:26.486Z"
   },
   {
    "duration": 1187,
    "start_time": "2025-02-06T05:51:52.084Z"
   },
   {
    "duration": 3,
    "start_time": "2025-02-06T05:51:53.273Z"
   },
   {
    "duration": 95,
    "start_time": "2025-02-06T05:51:53.277Z"
   },
   {
    "duration": 13,
    "start_time": "2025-02-06T05:51:53.373Z"
   },
   {
    "duration": 34,
    "start_time": "2025-02-06T05:51:53.388Z"
   },
   {
    "duration": 6,
    "start_time": "2025-02-06T05:51:53.423Z"
   },
   {
    "duration": 9,
    "start_time": "2025-02-06T05:51:53.430Z"
   },
   {
    "duration": 7,
    "start_time": "2025-02-06T05:51:53.441Z"
   },
   {
    "duration": 23,
    "start_time": "2025-02-06T05:51:53.450Z"
   },
   {
    "duration": 36,
    "start_time": "2025-02-06T05:51:53.474Z"
   },
   {
    "duration": 18,
    "start_time": "2025-02-06T05:51:53.511Z"
   },
   {
    "duration": 9,
    "start_time": "2025-02-06T05:51:53.530Z"
   },
   {
    "duration": 16,
    "start_time": "2025-02-06T05:51:53.540Z"
   },
   {
    "duration": 16,
    "start_time": "2025-02-06T05:51:53.558Z"
   },
   {
    "duration": 34,
    "start_time": "2025-02-06T05:51:53.575Z"
   },
   {
    "duration": 11,
    "start_time": "2025-02-06T05:51:53.611Z"
   },
   {
    "duration": 4,
    "start_time": "2025-02-06T05:51:53.623Z"
   },
   {
    "duration": 10,
    "start_time": "2025-02-06T05:51:53.628Z"
   },
   {
    "duration": 15,
    "start_time": "2025-02-06T05:51:53.639Z"
   },
   {
    "duration": 6,
    "start_time": "2025-02-06T05:51:53.655Z"
   },
   {
    "duration": 55,
    "start_time": "2025-02-06T05:51:53.662Z"
   },
   {
    "duration": 4,
    "start_time": "2025-02-06T05:51:53.718Z"
   },
   {
    "duration": 15,
    "start_time": "2025-02-06T05:51:53.723Z"
   },
   {
    "duration": 22,
    "start_time": "2025-02-06T06:08:20.267Z"
   },
   {
    "duration": 1283,
    "start_time": "2025-02-07T03:30:35.696Z"
   },
   {
    "duration": 3,
    "start_time": "2025-02-07T03:30:36.981Z"
   },
   {
    "duration": 128,
    "start_time": "2025-02-07T03:30:36.985Z"
   },
   {
    "duration": 12,
    "start_time": "2025-02-07T03:30:37.115Z"
   },
   {
    "duration": 34,
    "start_time": "2025-02-07T03:30:37.128Z"
   },
   {
    "duration": 6,
    "start_time": "2025-02-07T03:30:37.163Z"
   },
   {
    "duration": 10,
    "start_time": "2025-02-07T03:30:37.170Z"
   },
   {
    "duration": 17,
    "start_time": "2025-02-07T03:30:37.181Z"
   },
   {
    "duration": 23,
    "start_time": "2025-02-07T03:30:37.199Z"
   },
   {
    "duration": 7,
    "start_time": "2025-02-07T03:30:37.223Z"
   },
   {
    "duration": 36,
    "start_time": "2025-02-07T03:30:37.232Z"
   },
   {
    "duration": 9,
    "start_time": "2025-02-07T03:30:37.269Z"
   },
   {
    "duration": 20,
    "start_time": "2025-02-07T03:30:37.279Z"
   },
   {
    "duration": 13,
    "start_time": "2025-02-07T03:30:37.302Z"
   },
   {
    "duration": 6,
    "start_time": "2025-02-07T03:30:37.316Z"
   },
   {
    "duration": 18,
    "start_time": "2025-02-07T03:30:37.323Z"
   },
   {
    "duration": 22,
    "start_time": "2025-02-07T03:30:37.342Z"
   },
   {
    "duration": 21,
    "start_time": "2025-02-07T03:30:37.366Z"
   },
   {
    "duration": 19,
    "start_time": "2025-02-07T03:30:37.389Z"
   },
   {
    "duration": 6,
    "start_time": "2025-02-07T03:30:37.410Z"
   },
   {
    "duration": 27,
    "start_time": "2025-02-07T03:30:37.418Z"
   },
   {
    "duration": 3,
    "start_time": "2025-02-07T03:30:37.446Z"
   },
   {
    "duration": 18,
    "start_time": "2025-02-07T03:30:37.451Z"
   },
   {
    "duration": 345,
    "start_time": "2025-02-07T04:24:38.980Z"
   },
   {
    "duration": 223,
    "start_time": "2025-02-07T04:26:07.914Z"
   },
   {
    "duration": 1025,
    "start_time": "2025-02-07T04:26:18.902Z"
   },
   {
    "duration": 216,
    "start_time": "2025-02-07T04:26:26.490Z"
   },
   {
    "duration": 220,
    "start_time": "2025-02-07T04:27:08.798Z"
   },
   {
    "duration": 238,
    "start_time": "2025-02-07T04:27:23.523Z"
   },
   {
    "duration": 242,
    "start_time": "2025-02-07T04:31:40.606Z"
   },
   {
    "duration": 335,
    "start_time": "2025-02-07T04:31:48.994Z"
   },
   {
    "duration": 237,
    "start_time": "2025-02-07T04:32:01.105Z"
   },
   {
    "duration": 233,
    "start_time": "2025-02-07T04:32:35.267Z"
   },
   {
    "duration": 89,
    "start_time": "2025-02-07T04:33:22.160Z"
   },
   {
    "duration": 237,
    "start_time": "2025-02-07T04:33:31.067Z"
   },
   {
    "duration": 76,
    "start_time": "2025-02-07T04:33:53.527Z"
   },
   {
    "duration": 230,
    "start_time": "2025-02-07T04:33:56.569Z"
   },
   {
    "duration": 229,
    "start_time": "2025-02-07T04:34:58.234Z"
   },
   {
    "duration": 217,
    "start_time": "2025-02-07T04:35:16.946Z"
   },
   {
    "duration": 221,
    "start_time": "2025-02-07T04:35:38.982Z"
   },
   {
    "duration": 246,
    "start_time": "2025-02-07T04:39:36.482Z"
   },
   {
    "duration": 122,
    "start_time": "2025-02-07T04:44:14.026Z"
   },
   {
    "duration": 126,
    "start_time": "2025-02-07T04:44:22.471Z"
   },
   {
    "duration": 246,
    "start_time": "2025-02-07T04:47:03.881Z"
   },
   {
    "duration": 118,
    "start_time": "2025-02-07T04:51:08.692Z"
   },
   {
    "duration": 121,
    "start_time": "2025-02-07T04:51:14.016Z"
   },
   {
    "duration": 8,
    "start_time": "2025-02-07T04:51:36.871Z"
   },
   {
    "duration": 1120,
    "start_time": "2025-02-07T04:51:58.942Z"
   },
   {
    "duration": 121,
    "start_time": "2025-02-07T04:52:39.087Z"
   },
   {
    "duration": 118,
    "start_time": "2025-02-07T04:53:20.324Z"
   },
   {
    "duration": 113,
    "start_time": "2025-02-07T04:54:40.672Z"
   },
   {
    "duration": 127,
    "start_time": "2025-02-07T04:56:17.035Z"
   },
   {
    "duration": 170,
    "start_time": "2025-02-07T04:56:28.866Z"
   },
   {
    "duration": 85,
    "start_time": "2025-02-07T04:58:28.181Z"
   },
   {
    "duration": 182,
    "start_time": "2025-02-07T05:34:08.007Z"
   },
   {
    "duration": 171,
    "start_time": "2025-02-07T05:34:52.084Z"
   },
   {
    "duration": 178,
    "start_time": "2025-02-07T05:35:04.185Z"
   },
   {
    "duration": 8,
    "start_time": "2025-02-07T05:39:58.211Z"
   },
   {
    "duration": 13,
    "start_time": "2025-02-07T05:40:00.887Z"
   },
   {
    "duration": 132,
    "start_time": "2025-02-07T05:42:19.633Z"
   },
   {
    "duration": 137,
    "start_time": "2025-02-07T05:46:42.692Z"
   },
   {
    "duration": 176,
    "start_time": "2025-02-07T05:47:41.734Z"
   },
   {
    "duration": 166,
    "start_time": "2025-02-07T05:48:54.730Z"
   },
   {
    "duration": 189,
    "start_time": "2025-02-07T05:49:25.610Z"
   },
   {
    "duration": 186,
    "start_time": "2025-02-07T05:49:39.511Z"
   },
   {
    "duration": 283,
    "start_time": "2025-02-07T05:49:54.428Z"
   },
   {
    "duration": 205,
    "start_time": "2025-02-07T05:50:26.769Z"
   },
   {
    "duration": 192,
    "start_time": "2025-02-07T05:50:32.730Z"
   },
   {
    "duration": 206,
    "start_time": "2025-02-07T05:50:37.799Z"
   },
   {
    "duration": 179,
    "start_time": "2025-02-07T05:50:53.134Z"
   },
   {
    "duration": 241,
    "start_time": "2025-02-07T05:57:43.323Z"
   },
   {
    "duration": 13,
    "start_time": "2025-02-07T06:01:51.618Z"
   },
   {
    "duration": 389,
    "start_time": "2025-02-07T06:02:02.052Z"
   },
   {
    "duration": 396,
    "start_time": "2025-02-07T06:03:16.534Z"
   },
   {
    "duration": 229,
    "start_time": "2025-02-07T06:05:26.843Z"
   },
   {
    "duration": 382,
    "start_time": "2025-02-07T06:06:37.448Z"
   },
   {
    "duration": 399,
    "start_time": "2025-02-07T06:07:06.238Z"
   },
   {
    "duration": 372,
    "start_time": "2025-02-07T06:07:19.157Z"
   },
   {
    "duration": 374,
    "start_time": "2025-02-07T06:07:45.584Z"
   },
   {
    "duration": 390,
    "start_time": "2025-02-07T06:08:02.837Z"
   },
   {
    "duration": 241,
    "start_time": "2025-02-07T06:09:28.038Z"
   },
   {
    "duration": 407,
    "start_time": "2025-02-07T06:10:28.058Z"
   },
   {
    "duration": 394,
    "start_time": "2025-02-07T06:11:24.224Z"
   },
   {
    "duration": 268,
    "start_time": "2025-02-07T06:17:40.027Z"
   },
   {
    "duration": 132,
    "start_time": "2025-02-07T06:18:24.532Z"
   },
   {
    "duration": 390,
    "start_time": "2025-02-07T06:18:32.157Z"
   },
   {
    "duration": 379,
    "start_time": "2025-02-07T06:19:22.654Z"
   },
   {
    "duration": 5,
    "start_time": "2025-02-07T06:24:45.174Z"
   },
   {
    "duration": 520,
    "start_time": "2025-02-07T06:25:39.368Z"
   },
   {
    "duration": 6,
    "start_time": "2025-02-07T06:29:21.043Z"
   },
   {
    "duration": 139,
    "start_time": "2025-02-07T06:30:42.689Z"
   },
   {
    "duration": 7,
    "start_time": "2025-02-07T06:31:07.494Z"
   },
   {
    "duration": 229,
    "start_time": "2025-02-07T06:31:13.239Z"
   },
   {
    "duration": 954,
    "start_time": "2025-02-07T06:32:40.056Z"
   },
   {
    "duration": 246,
    "start_time": "2025-02-07T06:33:15.325Z"
   },
   {
    "duration": 1358,
    "start_time": "2025-02-07T06:35:17.760Z"
   },
   {
    "duration": 10,
    "start_time": "2025-02-07T06:40:15.695Z"
   },
   {
    "duration": 1008,
    "start_time": "2025-02-07T06:40:25.516Z"
   },
   {
    "duration": 7,
    "start_time": "2025-02-07T09:35:54.940Z"
   },
   {
    "duration": 68,
    "start_time": "2025-02-07T09:36:45.475Z"
   },
   {
    "duration": 216,
    "start_time": "2025-02-07T09:36:54.090Z"
   },
   {
    "duration": 8,
    "start_time": "2025-02-07T09:37:26.042Z"
   },
   {
    "duration": 22,
    "start_time": "2025-02-07T09:37:29.554Z"
   },
   {
    "duration": 19,
    "start_time": "2025-02-07T09:39:06.832Z"
   },
   {
    "duration": 318,
    "start_time": "2025-02-07T09:40:04.977Z"
   },
   {
    "duration": 8,
    "start_time": "2025-02-07T09:40:42.427Z"
   },
   {
    "duration": 261,
    "start_time": "2025-02-07T09:40:45.826Z"
   },
   {
    "duration": 170,
    "start_time": "2025-02-07T10:10:07.231Z"
   },
   {
    "duration": 8,
    "start_time": "2025-02-07T10:10:33.285Z"
   },
   {
    "duration": 231,
    "start_time": "2025-02-07T10:10:36.172Z"
   },
   {
    "duration": 235,
    "start_time": "2025-02-07T10:10:45.535Z"
   },
   {
    "duration": 205,
    "start_time": "2025-02-07T10:16:03.699Z"
   },
   {
    "duration": 258,
    "start_time": "2025-02-07T10:19:33.080Z"
   },
   {
    "duration": 239,
    "start_time": "2025-02-07T10:22:02.474Z"
   },
   {
    "duration": 238,
    "start_time": "2025-02-07T10:24:47.449Z"
   },
   {
    "duration": 8,
    "start_time": "2025-02-07T10:31:11.875Z"
   },
   {
    "duration": 256,
    "start_time": "2025-02-07T10:31:15.238Z"
   },
   {
    "duration": 7,
    "start_time": "2025-02-07T10:34:26.728Z"
   },
   {
    "duration": 1114,
    "start_time": "2025-02-07T10:34:36.709Z"
   },
   {
    "duration": 3,
    "start_time": "2025-02-07T10:34:37.825Z"
   },
   {
    "duration": 118,
    "start_time": "2025-02-07T10:34:37.830Z"
   },
   {
    "duration": 12,
    "start_time": "2025-02-07T10:34:37.950Z"
   },
   {
    "duration": 36,
    "start_time": "2025-02-07T10:34:37.965Z"
   },
   {
    "duration": 6,
    "start_time": "2025-02-07T10:34:38.003Z"
   },
   {
    "duration": 15,
    "start_time": "2025-02-07T10:34:38.010Z"
   },
   {
    "duration": 9,
    "start_time": "2025-02-07T10:34:38.026Z"
   },
   {
    "duration": 45,
    "start_time": "2025-02-07T10:34:38.037Z"
   },
   {
    "duration": 19,
    "start_time": "2025-02-07T10:34:38.084Z"
   },
   {
    "duration": 28,
    "start_time": "2025-02-07T10:34:38.105Z"
   },
   {
    "duration": 9,
    "start_time": "2025-02-07T10:34:38.135Z"
   },
   {
    "duration": 25,
    "start_time": "2025-02-07T10:34:38.145Z"
   },
   {
    "duration": 12,
    "start_time": "2025-02-07T10:34:38.173Z"
   },
   {
    "duration": 29,
    "start_time": "2025-02-07T10:34:38.186Z"
   },
   {
    "duration": 20,
    "start_time": "2025-02-07T10:34:38.217Z"
   },
   {
    "duration": 4,
    "start_time": "2025-02-07T10:34:38.238Z"
   },
   {
    "duration": 10,
    "start_time": "2025-02-07T10:34:38.244Z"
   },
   {
    "duration": 16,
    "start_time": "2025-02-07T10:34:38.255Z"
   },
   {
    "duration": 7,
    "start_time": "2025-02-07T10:34:38.273Z"
   },
   {
    "duration": 39,
    "start_time": "2025-02-07T10:34:38.281Z"
   },
   {
    "duration": 298,
    "start_time": "2025-02-07T10:34:38.321Z"
   },
   {
    "duration": 255,
    "start_time": "2025-02-07T10:34:38.620Z"
   },
   {
    "duration": 419,
    "start_time": "2025-02-07T10:34:38.877Z"
   },
   {
    "duration": 253,
    "start_time": "2025-02-07T10:34:39.298Z"
   },
   {
    "duration": 241,
    "start_time": "2025-02-07T10:34:39.560Z"
   },
   {
    "duration": 229,
    "start_time": "2025-02-07T10:34:39.802Z"
   },
   {
    "duration": 314,
    "start_time": "2025-02-07T10:34:40.032Z"
   },
   {
    "duration": 272,
    "start_time": "2025-02-07T10:34:40.348Z"
   },
   {
    "duration": 288,
    "start_time": "2025-02-07T10:34:40.622Z"
   },
   {
    "duration": 1301,
    "start_time": "2025-02-07T10:34:40.913Z"
   },
   {
    "duration": 24,
    "start_time": "2025-02-07T10:34:42.216Z"
   },
   {
    "duration": 21,
    "start_time": "2025-02-07T10:34:42.242Z"
   },
   {
    "duration": 24,
    "start_time": "2025-02-07T10:34:42.265Z"
   },
   {
    "duration": 109,
    "start_time": "2025-02-07T12:38:09.040Z"
   },
   {
    "duration": 1497,
    "start_time": "2025-02-07T12:38:18.780Z"
   },
   {
    "duration": 1533,
    "start_time": "2025-02-07T12:41:19.723Z"
   },
   {
    "duration": 1525,
    "start_time": "2025-02-07T12:42:04.812Z"
   },
   {
    "duration": 1503,
    "start_time": "2025-02-07T12:42:19.325Z"
   },
   {
    "duration": 1372,
    "start_time": "2025-02-08T03:46:14.041Z"
   },
   {
    "duration": 3,
    "start_time": "2025-02-08T03:46:15.415Z"
   },
   {
    "duration": 134,
    "start_time": "2025-02-08T03:46:15.419Z"
   },
   {
    "duration": 18,
    "start_time": "2025-02-08T03:46:15.555Z"
   },
   {
    "duration": 53,
    "start_time": "2025-02-08T03:46:15.574Z"
   },
   {
    "duration": 8,
    "start_time": "2025-02-08T03:46:15.629Z"
   },
   {
    "duration": 31,
    "start_time": "2025-02-08T03:46:15.639Z"
   },
   {
    "duration": 15,
    "start_time": "2025-02-08T03:46:15.671Z"
   },
   {
    "duration": 21,
    "start_time": "2025-02-08T03:46:15.688Z"
   },
   {
    "duration": 9,
    "start_time": "2025-02-08T03:46:15.712Z"
   },
   {
    "duration": 44,
    "start_time": "2025-02-08T03:46:15.723Z"
   },
   {
    "duration": 12,
    "start_time": "2025-02-08T03:46:15.769Z"
   },
   {
    "duration": 17,
    "start_time": "2025-02-08T03:46:15.783Z"
   },
   {
    "duration": 18,
    "start_time": "2025-02-08T03:46:15.803Z"
   },
   {
    "duration": 9,
    "start_time": "2025-02-08T03:46:15.823Z"
   },
   {
    "duration": 40,
    "start_time": "2025-02-08T03:46:15.833Z"
   },
   {
    "duration": 5,
    "start_time": "2025-02-08T03:46:15.876Z"
   },
   {
    "duration": 13,
    "start_time": "2025-02-08T03:46:15.883Z"
   },
   {
    "duration": 16,
    "start_time": "2025-02-08T03:46:15.898Z"
   },
   {
    "duration": 7,
    "start_time": "2025-02-08T03:46:15.915Z"
   },
   {
    "duration": 13,
    "start_time": "2025-02-08T03:46:15.923Z"
   },
   {
    "duration": 341,
    "start_time": "2025-02-08T03:46:15.937Z"
   },
   {
    "duration": 229,
    "start_time": "2025-02-08T03:46:16.280Z"
   },
   {
    "duration": 391,
    "start_time": "2025-02-08T03:46:16.511Z"
   },
   {
    "duration": 243,
    "start_time": "2025-02-08T03:46:16.903Z"
   },
   {
    "duration": 239,
    "start_time": "2025-02-08T03:46:17.148Z"
   },
   {
    "duration": 231,
    "start_time": "2025-02-08T03:46:17.389Z"
   },
   {
    "duration": 370,
    "start_time": "2025-02-08T03:46:17.624Z"
   },
   {
    "duration": 230,
    "start_time": "2025-02-08T03:46:17.996Z"
   },
   {
    "duration": 279,
    "start_time": "2025-02-08T03:46:18.227Z"
   },
   {
    "duration": 1284,
    "start_time": "2025-02-08T03:46:18.508Z"
   },
   {
    "duration": 21,
    "start_time": "2025-02-08T03:46:19.794Z"
   },
   {
    "duration": 4,
    "start_time": "2025-02-08T03:46:19.816Z"
   },
   {
    "duration": 10,
    "start_time": "2025-02-08T03:46:19.821Z"
   },
   {
    "duration": 1456,
    "start_time": "2025-02-08T03:46:19.833Z"
   },
   {
    "duration": 101,
    "start_time": "2025-02-08T04:21:48.444Z"
   },
   {
    "duration": 8,
    "start_time": "2025-02-08T04:21:55.537Z"
   },
   {
    "duration": 400,
    "start_time": "2025-02-08T04:22:02.097Z"
   },
   {
    "duration": 1103,
    "start_time": "2025-02-08T04:24:43.006Z"
   },
   {
    "duration": 3,
    "start_time": "2025-02-08T04:24:44.111Z"
   },
   {
    "duration": 121,
    "start_time": "2025-02-08T04:24:44.115Z"
   },
   {
    "duration": 10,
    "start_time": "2025-02-08T04:24:44.238Z"
   },
   {
    "duration": 35,
    "start_time": "2025-02-08T04:24:44.250Z"
   },
   {
    "duration": 5,
    "start_time": "2025-02-08T04:24:44.286Z"
   },
   {
    "duration": 9,
    "start_time": "2025-02-08T04:24:44.293Z"
   },
   {
    "duration": 7,
    "start_time": "2025-02-08T04:24:44.303Z"
   },
   {
    "duration": 30,
    "start_time": "2025-02-08T04:24:44.311Z"
   },
   {
    "duration": 30,
    "start_time": "2025-02-08T04:24:44.343Z"
   },
   {
    "duration": 17,
    "start_time": "2025-02-08T04:24:44.374Z"
   },
   {
    "duration": 8,
    "start_time": "2025-02-08T04:24:44.392Z"
   },
   {
    "duration": 13,
    "start_time": "2025-02-08T04:24:44.402Z"
   },
   {
    "duration": 11,
    "start_time": "2025-02-08T04:24:44.417Z"
   },
   {
    "duration": 44,
    "start_time": "2025-02-08T04:24:44.429Z"
   },
   {
    "duration": 10,
    "start_time": "2025-02-08T04:24:44.475Z"
   },
   {
    "duration": 4,
    "start_time": "2025-02-08T04:24:44.486Z"
   },
   {
    "duration": 5,
    "start_time": "2025-02-08T04:24:44.492Z"
   },
   {
    "duration": 13,
    "start_time": "2025-02-08T04:24:44.498Z"
   },
   {
    "duration": 5,
    "start_time": "2025-02-08T04:24:44.512Z"
   },
   {
    "duration": 7,
    "start_time": "2025-02-08T04:24:44.519Z"
   },
   {
    "duration": 286,
    "start_time": "2025-02-08T04:24:44.528Z"
   },
   {
    "duration": 187,
    "start_time": "2025-02-08T04:24:44.816Z"
   },
   {
    "duration": 404,
    "start_time": "2025-02-08T04:24:45.005Z"
   },
   {
    "duration": 221,
    "start_time": "2025-02-08T04:24:45.410Z"
   },
   {
    "duration": 222,
    "start_time": "2025-02-08T04:24:45.633Z"
   },
   {
    "duration": 240,
    "start_time": "2025-02-08T04:24:45.857Z"
   },
   {
    "duration": 278,
    "start_time": "2025-02-08T04:24:46.101Z"
   },
   {
    "duration": 242,
    "start_time": "2025-02-08T04:24:46.380Z"
   },
   {
    "duration": 285,
    "start_time": "2025-02-08T04:24:46.623Z"
   },
   {
    "duration": 1129,
    "start_time": "2025-02-08T04:24:46.909Z"
   },
   {
    "duration": 34,
    "start_time": "2025-02-08T04:24:48.040Z"
   },
   {
    "duration": 4,
    "start_time": "2025-02-08T04:24:48.075Z"
   },
   {
    "duration": 12,
    "start_time": "2025-02-08T04:24:48.080Z"
   },
   {
    "duration": 2236,
    "start_time": "2025-02-08T04:24:48.094Z"
   },
   {
    "duration": 398,
    "start_time": "2025-02-08T04:24:50.331Z"
   },
   {
    "duration": 1156,
    "start_time": "2025-02-08T04:25:59.341Z"
   },
   {
    "duration": 2,
    "start_time": "2025-02-08T04:26:00.499Z"
   },
   {
    "duration": 119,
    "start_time": "2025-02-08T04:26:00.502Z"
   },
   {
    "duration": 10,
    "start_time": "2025-02-08T04:26:00.623Z"
   },
   {
    "duration": 42,
    "start_time": "2025-02-08T04:26:00.634Z"
   },
   {
    "duration": 6,
    "start_time": "2025-02-08T04:26:00.677Z"
   },
   {
    "duration": 39,
    "start_time": "2025-02-08T04:26:00.684Z"
   },
   {
    "duration": 20,
    "start_time": "2025-02-08T04:26:00.725Z"
   },
   {
    "duration": 66,
    "start_time": "2025-02-08T04:26:00.746Z"
   },
   {
    "duration": 6,
    "start_time": "2025-02-08T04:26:00.815Z"
   },
   {
    "duration": 22,
    "start_time": "2025-02-08T04:26:00.822Z"
   },
   {
    "duration": 8,
    "start_time": "2025-02-08T04:26:00.845Z"
   },
   {
    "duration": 19,
    "start_time": "2025-02-08T04:26:00.854Z"
   },
   {
    "duration": 12,
    "start_time": "2025-02-08T04:26:00.875Z"
   },
   {
    "duration": 17,
    "start_time": "2025-02-08T04:26:00.889Z"
   },
   {
    "duration": 58,
    "start_time": "2025-02-08T04:26:00.907Z"
   },
   {
    "duration": 51,
    "start_time": "2025-02-08T04:26:00.967Z"
   },
   {
    "duration": 7,
    "start_time": "2025-02-08T04:26:01.020Z"
   },
   {
    "duration": 13,
    "start_time": "2025-02-08T04:26:01.028Z"
   },
   {
    "duration": 6,
    "start_time": "2025-02-08T04:26:01.043Z"
   },
   {
    "duration": 8,
    "start_time": "2025-02-08T04:26:01.051Z"
   },
   {
    "duration": 256,
    "start_time": "2025-02-08T04:26:01.060Z"
   },
   {
    "duration": 187,
    "start_time": "2025-02-08T04:26:01.318Z"
   },
   {
    "duration": 878,
    "start_time": "2025-02-08T04:26:01.507Z"
   },
   {
    "duration": 505,
    "start_time": "2025-02-08T04:26:02.386Z"
   },
   {
    "duration": 312,
    "start_time": "2025-02-08T04:26:02.893Z"
   },
   {
    "duration": 208,
    "start_time": "2025-02-08T04:26:03.206Z"
   },
   {
    "duration": 306,
    "start_time": "2025-02-08T04:26:03.417Z"
   },
   {
    "duration": 294,
    "start_time": "2025-02-08T04:26:03.725Z"
   },
   {
    "duration": 291,
    "start_time": "2025-02-08T04:26:04.021Z"
   },
   {
    "duration": 1141,
    "start_time": "2025-02-08T04:26:04.314Z"
   },
   {
    "duration": 26,
    "start_time": "2025-02-08T04:26:05.460Z"
   },
   {
    "duration": 4,
    "start_time": "2025-02-08T04:26:05.487Z"
   },
   {
    "duration": 9,
    "start_time": "2025-02-08T04:26:05.493Z"
   },
   {
    "duration": 1526,
    "start_time": "2025-02-08T04:26:05.504Z"
   },
   {
    "duration": 398,
    "start_time": "2025-02-08T04:26:07.031Z"
   },
   {
    "duration": 523,
    "start_time": "2025-02-08T04:26:07.431Z"
   },
   {
    "duration": 607,
    "start_time": "2025-02-08T04:29:05.642Z"
   },
   {
    "duration": 496,
    "start_time": "2025-02-08T04:31:57.334Z"
   },
   {
    "duration": 6,
    "start_time": "2025-02-08T04:32:00.925Z"
   },
   {
    "duration": 529,
    "start_time": "2025-02-08T04:32:12.993Z"
   },
   {
    "duration": 4,
    "start_time": "2025-02-08T04:34:40.592Z"
   },
   {
    "duration": 11,
    "start_time": "2025-02-08T04:39:56.561Z"
   },
   {
    "duration": 65,
    "start_time": "2025-02-08T04:44:45.713Z"
   },
   {
    "duration": 7,
    "start_time": "2025-02-08T04:45:00.394Z"
   },
   {
    "duration": 6,
    "start_time": "2025-02-08T04:45:22.873Z"
   },
   {
    "duration": 4,
    "start_time": "2025-02-08T04:46:52.201Z"
   },
   {
    "duration": 6,
    "start_time": "2025-02-08T04:48:09.274Z"
   },
   {
    "duration": 106,
    "start_time": "2025-02-08T04:56:03.724Z"
   },
   {
    "duration": 11,
    "start_time": "2025-02-08T04:56:10.597Z"
   },
   {
    "duration": 11,
    "start_time": "2025-02-08T04:56:39.477Z"
   },
   {
    "duration": 12,
    "start_time": "2025-02-08T04:56:47.981Z"
   },
   {
    "duration": 78,
    "start_time": "2025-02-08T04:59:25.538Z"
   },
   {
    "duration": 7,
    "start_time": "2025-02-08T04:59:53.549Z"
   },
   {
    "duration": 8,
    "start_time": "2025-02-08T04:59:59.791Z"
   },
   {
    "duration": 8,
    "start_time": "2025-02-08T05:00:08.587Z"
   },
   {
    "duration": 8,
    "start_time": "2025-02-08T05:00:14.342Z"
   },
   {
    "duration": 12,
    "start_time": "2025-02-08T05:13:02.846Z"
   },
   {
    "duration": 9,
    "start_time": "2025-02-08T05:13:23.223Z"
   },
   {
    "duration": 8,
    "start_time": "2025-02-08T05:14:41.603Z"
   },
   {
    "duration": 273,
    "start_time": "2025-02-08T05:14:42.335Z"
   },
   {
    "duration": 7,
    "start_time": "2025-02-08T05:14:49.928Z"
   },
   {
    "duration": 5,
    "start_time": "2025-02-08T05:15:05.748Z"
   },
   {
    "duration": 6,
    "start_time": "2025-02-08T05:15:34.357Z"
   },
   {
    "duration": 70,
    "start_time": "2025-02-08T05:16:23.095Z"
   },
   {
    "duration": 84,
    "start_time": "2025-02-08T05:17:23.111Z"
   },
   {
    "duration": 22,
    "start_time": "2025-02-08T05:55:43.411Z"
   },
   {
    "duration": 106,
    "start_time": "2025-02-08T05:56:51.487Z"
   },
   {
    "duration": 16,
    "start_time": "2025-02-08T05:56:59.247Z"
   },
   {
    "duration": 18,
    "start_time": "2025-02-08T05:57:21.791Z"
   },
   {
    "duration": 19,
    "start_time": "2025-02-08T05:57:33.992Z"
   },
   {
    "duration": 64,
    "start_time": "2025-02-08T06:10:04.081Z"
   },
   {
    "duration": 23,
    "start_time": "2025-02-08T06:28:20.374Z"
   },
   {
    "duration": 20,
    "start_time": "2025-02-08T06:28:33.342Z"
   },
   {
    "duration": 21,
    "start_time": "2025-02-08T06:36:53.358Z"
   },
   {
    "duration": 18,
    "start_time": "2025-02-08T06:37:07.077Z"
   },
   {
    "duration": 18,
    "start_time": "2025-02-08T06:37:16.537Z"
   },
   {
    "duration": 18,
    "start_time": "2025-02-08T06:37:31.049Z"
   },
   {
    "duration": 18,
    "start_time": "2025-02-08T06:41:32.026Z"
   },
   {
    "duration": 20,
    "start_time": "2025-02-08T06:42:42.585Z"
   },
   {
    "duration": 24,
    "start_time": "2025-02-08T06:42:54.768Z"
   },
   {
    "duration": 20,
    "start_time": "2025-02-08T06:42:58.102Z"
   },
   {
    "duration": 17,
    "start_time": "2025-02-08T06:44:25.006Z"
   },
   {
    "duration": 20,
    "start_time": "2025-02-08T06:44:52.586Z"
   },
   {
    "duration": 19,
    "start_time": "2025-02-08T06:45:15.739Z"
   },
   {
    "duration": 24,
    "start_time": "2025-02-08T06:45:33.507Z"
   },
   {
    "duration": 21,
    "start_time": "2025-02-08T06:45:43.376Z"
   },
   {
    "duration": 25,
    "start_time": "2025-02-08T06:45:50.472Z"
   },
   {
    "duration": 16,
    "start_time": "2025-02-08T06:48:11.597Z"
   },
   {
    "duration": 20,
    "start_time": "2025-02-08T06:48:18.248Z"
   },
   {
    "duration": 15,
    "start_time": "2025-02-08T06:51:46.438Z"
   },
   {
    "duration": 15,
    "start_time": "2025-02-08T06:51:52.942Z"
   },
   {
    "duration": 14,
    "start_time": "2025-02-08T06:51:57.131Z"
   },
   {
    "duration": 14,
    "start_time": "2025-02-08T06:53:54.577Z"
   },
   {
    "duration": 16,
    "start_time": "2025-02-08T06:54:13.292Z"
   },
   {
    "duration": 15,
    "start_time": "2025-02-08T06:54:16.605Z"
   },
   {
    "duration": 21,
    "start_time": "2025-02-08T06:54:32.053Z"
   },
   {
    "duration": 15,
    "start_time": "2025-02-08T06:54:36.974Z"
   },
   {
    "duration": 16,
    "start_time": "2025-02-08T06:54:43.644Z"
   },
   {
    "duration": 26,
    "start_time": "2025-02-08T06:55:08.147Z"
   },
   {
    "duration": 15,
    "start_time": "2025-02-08T06:55:18.337Z"
   },
   {
    "duration": 18,
    "start_time": "2025-02-08T06:55:30.011Z"
   },
   {
    "duration": 15,
    "start_time": "2025-02-08T06:55:35.744Z"
   },
   {
    "duration": 18,
    "start_time": "2025-02-08T06:55:41.305Z"
   },
   {
    "duration": 19,
    "start_time": "2025-02-08T06:57:14.981Z"
   },
   {
    "duration": 16,
    "start_time": "2025-02-08T06:59:29.110Z"
   },
   {
    "duration": 14,
    "start_time": "2025-02-08T06:59:43.426Z"
   },
   {
    "duration": 15,
    "start_time": "2025-02-08T07:00:19.024Z"
   },
   {
    "duration": 14,
    "start_time": "2025-02-08T07:00:33.425Z"
   },
   {
    "duration": 17,
    "start_time": "2025-02-08T07:00:45.476Z"
   },
   {
    "duration": 14,
    "start_time": "2025-02-08T07:00:58.049Z"
   },
   {
    "duration": 19,
    "start_time": "2025-02-08T07:01:31.561Z"
   },
   {
    "duration": 15,
    "start_time": "2025-02-08T07:05:16.921Z"
   },
   {
    "duration": 17,
    "start_time": "2025-02-08T07:07:00.174Z"
   },
   {
    "duration": 36,
    "start_time": "2025-02-08T07:09:39.269Z"
   },
   {
    "duration": 17,
    "start_time": "2025-02-08T07:10:42.161Z"
   },
   {
    "duration": 15,
    "start_time": "2025-02-08T07:12:16.701Z"
   },
   {
    "duration": 31,
    "start_time": "2025-02-08T07:12:43.896Z"
   },
   {
    "duration": 19,
    "start_time": "2025-02-08T07:13:39.985Z"
   },
   {
    "duration": 19,
    "start_time": "2025-02-08T07:13:48.215Z"
   },
   {
    "duration": 25,
    "start_time": "2025-02-08T07:14:06.840Z"
   },
   {
    "duration": 27,
    "start_time": "2025-02-08T07:16:08.751Z"
   },
   {
    "duration": 17,
    "start_time": "2025-02-08T07:16:20.487Z"
   },
   {
    "duration": 15,
    "start_time": "2025-02-08T07:16:40.717Z"
   },
   {
    "duration": 14,
    "start_time": "2025-02-08T07:17:23.232Z"
   },
   {
    "duration": 14,
    "start_time": "2025-02-08T07:17:27.728Z"
   },
   {
    "duration": 16,
    "start_time": "2025-02-08T07:17:46.676Z"
   },
   {
    "duration": 15,
    "start_time": "2025-02-08T07:17:56.265Z"
   },
   {
    "duration": 15,
    "start_time": "2025-02-08T07:18:18.374Z"
   },
   {
    "duration": 14,
    "start_time": "2025-02-08T07:18:50.209Z"
   },
   {
    "duration": 15,
    "start_time": "2025-02-08T07:18:59.540Z"
   },
   {
    "duration": 13,
    "start_time": "2025-02-08T07:19:15.283Z"
   },
   {
    "duration": 14,
    "start_time": "2025-02-08T07:19:17.680Z"
   },
   {
    "duration": 17,
    "start_time": "2025-02-08T07:19:31.794Z"
   },
   {
    "duration": 14,
    "start_time": "2025-02-08T07:20:10.585Z"
   },
   {
    "duration": 104,
    "start_time": "2025-02-08T07:23:18.170Z"
   },
   {
    "duration": 22,
    "start_time": "2025-02-08T08:44:12.574Z"
   },
   {
    "duration": 16,
    "start_time": "2025-02-08T08:54:42.296Z"
   },
   {
    "duration": 16,
    "start_time": "2025-02-08T08:54:49.571Z"
   },
   {
    "duration": 1084,
    "start_time": "2025-02-08T09:03:18.213Z"
   },
   {
    "duration": 3,
    "start_time": "2025-02-08T09:03:19.299Z"
   },
   {
    "duration": 143,
    "start_time": "2025-02-08T09:03:19.303Z"
   },
   {
    "duration": 11,
    "start_time": "2025-02-08T09:03:19.448Z"
   },
   {
    "duration": 32,
    "start_time": "2025-02-08T09:03:19.461Z"
   },
   {
    "duration": 5,
    "start_time": "2025-02-08T09:03:19.495Z"
   },
   {
    "duration": 8,
    "start_time": "2025-02-08T09:03:19.502Z"
   },
   {
    "duration": 12,
    "start_time": "2025-02-08T09:03:19.511Z"
   },
   {
    "duration": 46,
    "start_time": "2025-02-08T09:03:19.524Z"
   },
   {
    "duration": 7,
    "start_time": "2025-02-08T09:03:19.573Z"
   },
   {
    "duration": 15,
    "start_time": "2025-02-08T09:03:19.582Z"
   },
   {
    "duration": 9,
    "start_time": "2025-02-08T09:03:19.598Z"
   },
   {
    "duration": 17,
    "start_time": "2025-02-08T09:03:19.609Z"
   },
   {
    "duration": 42,
    "start_time": "2025-02-08T09:03:19.627Z"
   },
   {
    "duration": 9,
    "start_time": "2025-02-08T09:03:19.671Z"
   },
   {
    "duration": 10,
    "start_time": "2025-02-08T09:03:19.682Z"
   },
   {
    "duration": 4,
    "start_time": "2025-02-08T09:03:19.693Z"
   },
   {
    "duration": 6,
    "start_time": "2025-02-08T09:03:19.698Z"
   },
   {
    "duration": 12,
    "start_time": "2025-02-08T09:03:19.706Z"
   },
   {
    "duration": 5,
    "start_time": "2025-02-08T09:03:19.720Z"
   },
   {
    "duration": 41,
    "start_time": "2025-02-08T09:03:19.726Z"
   },
   {
    "duration": 250,
    "start_time": "2025-02-08T09:03:19.768Z"
   },
   {
    "duration": 259,
    "start_time": "2025-02-08T09:03:20.019Z"
   },
   {
    "duration": 376,
    "start_time": "2025-02-08T09:03:20.279Z"
   },
   {
    "duration": 222,
    "start_time": "2025-02-08T09:03:20.660Z"
   },
   {
    "duration": 224,
    "start_time": "2025-02-08T09:03:20.883Z"
   },
   {
    "duration": 200,
    "start_time": "2025-02-08T09:03:21.108Z"
   },
   {
    "duration": 304,
    "start_time": "2025-02-08T09:03:21.311Z"
   },
   {
    "duration": 296,
    "start_time": "2025-02-08T09:03:21.618Z"
   },
   {
    "duration": 289,
    "start_time": "2025-02-08T09:03:21.915Z"
   },
   {
    "duration": 1119,
    "start_time": "2025-02-08T09:03:22.206Z"
   },
   {
    "duration": 20,
    "start_time": "2025-02-08T09:03:23.326Z"
   },
   {
    "duration": 14,
    "start_time": "2025-02-08T09:03:23.347Z"
   },
   {
    "duration": 9,
    "start_time": "2025-02-08T09:03:23.363Z"
   },
   {
    "duration": 1489,
    "start_time": "2025-02-08T09:03:23.373Z"
   },
   {
    "duration": 7,
    "start_time": "2025-02-08T09:03:24.864Z"
   },
   {
    "duration": 500,
    "start_time": "2025-02-08T09:03:24.873Z"
   },
   {
    "duration": 7,
    "start_time": "2025-02-08T09:03:25.375Z"
   },
   {
    "duration": 5,
    "start_time": "2025-02-08T09:03:25.384Z"
   },
   {
    "duration": 12,
    "start_time": "2025-02-08T09:03:25.390Z"
   },
   {
    "duration": 19,
    "start_time": "2025-02-08T09:03:25.403Z"
   },
   {
    "duration": 49,
    "start_time": "2025-02-08T09:03:25.424Z"
   },
   {
    "duration": 15,
    "start_time": "2025-02-08T09:03:25.475Z"
   },
   {
    "duration": 15,
    "start_time": "2025-02-08T09:03:25.491Z"
   },
   {
    "duration": 1341,
    "start_time": "2025-02-08T09:04:48.911Z"
   },
   {
    "duration": 1534,
    "start_time": "2025-02-10T03:40:14.774Z"
   },
   {
    "duration": 4,
    "start_time": "2025-02-10T03:40:16.310Z"
   },
   {
    "duration": 160,
    "start_time": "2025-02-10T03:40:16.316Z"
   },
   {
    "duration": 15,
    "start_time": "2025-02-10T03:40:16.477Z"
   },
   {
    "duration": 40,
    "start_time": "2025-02-10T03:40:16.495Z"
   },
   {
    "duration": 7,
    "start_time": "2025-02-10T03:40:16.537Z"
   },
   {
    "duration": 12,
    "start_time": "2025-02-10T03:40:16.571Z"
   },
   {
    "duration": 20,
    "start_time": "2025-02-10T03:40:16.585Z"
   },
   {
    "duration": 27,
    "start_time": "2025-02-10T03:40:16.607Z"
   },
   {
    "duration": 9,
    "start_time": "2025-02-10T03:40:16.636Z"
   },
   {
    "duration": 41,
    "start_time": "2025-02-10T03:40:16.646Z"
   },
   {
    "duration": 22,
    "start_time": "2025-02-10T03:40:16.689Z"
   },
   {
    "duration": 17,
    "start_time": "2025-02-10T03:40:16.712Z"
   },
   {
    "duration": 14,
    "start_time": "2025-02-10T03:40:16.732Z"
   },
   {
    "duration": 26,
    "start_time": "2025-02-10T03:40:16.748Z"
   },
   {
    "duration": 13,
    "start_time": "2025-02-10T03:40:16.776Z"
   },
   {
    "duration": 5,
    "start_time": "2025-02-10T03:40:16.790Z"
   },
   {
    "duration": 11,
    "start_time": "2025-02-10T03:40:16.797Z"
   },
   {
    "duration": 17,
    "start_time": "2025-02-10T03:40:16.809Z"
   },
   {
    "duration": 7,
    "start_time": "2025-02-10T03:40:16.828Z"
   },
   {
    "duration": 42,
    "start_time": "2025-02-10T03:40:16.836Z"
   },
   {
    "duration": 315,
    "start_time": "2025-02-10T03:40:16.880Z"
   },
   {
    "duration": 215,
    "start_time": "2025-02-10T03:40:17.196Z"
   },
   {
    "duration": 451,
    "start_time": "2025-02-10T03:40:17.413Z"
   },
   {
    "duration": 257,
    "start_time": "2025-02-10T03:40:17.866Z"
   },
   {
    "duration": 260,
    "start_time": "2025-02-10T03:40:18.125Z"
   },
   {
    "duration": 233,
    "start_time": "2025-02-10T03:40:18.387Z"
   },
   {
    "duration": 319,
    "start_time": "2025-02-10T03:40:18.622Z"
   },
   {
    "duration": 303,
    "start_time": "2025-02-10T03:40:18.943Z"
   },
   {
    "duration": 343,
    "start_time": "2025-02-10T03:40:19.247Z"
   },
   {
    "duration": 1245,
    "start_time": "2025-02-10T03:40:19.591Z"
   },
   {
    "duration": 35,
    "start_time": "2025-02-10T03:40:20.838Z"
   },
   {
    "duration": 5,
    "start_time": "2025-02-10T03:40:20.874Z"
   },
   {
    "duration": 14,
    "start_time": "2025-02-10T03:40:20.880Z"
   },
   {
    "duration": 1644,
    "start_time": "2025-02-10T03:40:20.896Z"
   },
   {
    "duration": 7,
    "start_time": "2025-02-10T03:40:22.542Z"
   },
   {
    "duration": 562,
    "start_time": "2025-02-10T03:40:22.550Z"
   },
   {
    "duration": 8,
    "start_time": "2025-02-10T03:40:23.113Z"
   },
   {
    "duration": 25,
    "start_time": "2025-02-10T03:40:23.123Z"
   },
   {
    "duration": 13,
    "start_time": "2025-02-10T03:40:23.150Z"
   },
   {
    "duration": 20,
    "start_time": "2025-02-10T03:40:23.171Z"
   },
   {
    "duration": 19,
    "start_time": "2025-02-10T03:40:23.193Z"
   },
   {
    "duration": 20,
    "start_time": "2025-02-10T03:40:23.213Z"
   },
   {
    "duration": 50,
    "start_time": "2025-02-10T03:40:23.235Z"
   },
   {
    "duration": 114,
    "start_time": "2025-02-10T03:45:25.548Z"
   },
   {
    "duration": 17,
    "start_time": "2025-02-10T03:45:50.823Z"
   },
   {
    "duration": 15,
    "start_time": "2025-02-10T03:46:29.855Z"
   },
   {
    "duration": 5,
    "start_time": "2025-02-10T03:46:37.753Z"
   },
   {
    "duration": 16,
    "start_time": "2025-02-10T03:46:50.973Z"
   },
   {
    "duration": 20,
    "start_time": "2025-02-10T03:46:59.183Z"
   },
   {
    "duration": 13,
    "start_time": "2025-02-10T03:49:04.412Z"
   },
   {
    "duration": 18,
    "start_time": "2025-02-10T03:49:32.501Z"
   },
   {
    "duration": 16,
    "start_time": "2025-02-10T03:49:38.656Z"
   },
   {
    "duration": 1216,
    "start_time": "2025-02-10T03:49:55.669Z"
   },
   {
    "duration": 4,
    "start_time": "2025-02-10T03:49:56.886Z"
   },
   {
    "duration": 113,
    "start_time": "2025-02-10T03:49:56.891Z"
   },
   {
    "duration": 13,
    "start_time": "2025-02-10T03:49:57.006Z"
   },
   {
    "duration": 54,
    "start_time": "2025-02-10T03:49:57.021Z"
   },
   {
    "duration": 8,
    "start_time": "2025-02-10T03:49:57.076Z"
   },
   {
    "duration": 14,
    "start_time": "2025-02-10T03:49:57.085Z"
   },
   {
    "duration": 14,
    "start_time": "2025-02-10T03:49:57.101Z"
   },
   {
    "duration": 26,
    "start_time": "2025-02-10T03:49:57.116Z"
   },
   {
    "duration": 10,
    "start_time": "2025-02-10T03:49:57.171Z"
   },
   {
    "duration": 119,
    "start_time": "2025-02-10T03:49:57.183Z"
   },
   {
    "duration": 0,
    "start_time": "2025-02-10T03:49:57.305Z"
   },
   {
    "duration": 0,
    "start_time": "2025-02-10T03:49:57.307Z"
   },
   {
    "duration": 0,
    "start_time": "2025-02-10T03:49:57.310Z"
   },
   {
    "duration": 0,
    "start_time": "2025-02-10T03:49:57.312Z"
   },
   {
    "duration": 0,
    "start_time": "2025-02-10T03:49:57.313Z"
   },
   {
    "duration": 0,
    "start_time": "2025-02-10T03:49:57.315Z"
   },
   {
    "duration": 0,
    "start_time": "2025-02-10T03:49:57.316Z"
   },
   {
    "duration": 0,
    "start_time": "2025-02-10T03:49:57.317Z"
   },
   {
    "duration": 0,
    "start_time": "2025-02-10T03:49:57.319Z"
   },
   {
    "duration": 0,
    "start_time": "2025-02-10T03:49:57.320Z"
   },
   {
    "duration": 0,
    "start_time": "2025-02-10T03:49:57.322Z"
   },
   {
    "duration": 0,
    "start_time": "2025-02-10T03:49:57.324Z"
   },
   {
    "duration": 0,
    "start_time": "2025-02-10T03:49:57.326Z"
   },
   {
    "duration": 0,
    "start_time": "2025-02-10T03:49:57.327Z"
   },
   {
    "duration": 0,
    "start_time": "2025-02-10T03:49:57.329Z"
   },
   {
    "duration": 0,
    "start_time": "2025-02-10T03:49:57.331Z"
   },
   {
    "duration": 0,
    "start_time": "2025-02-10T03:49:57.332Z"
   },
   {
    "duration": 0,
    "start_time": "2025-02-10T03:49:57.373Z"
   },
   {
    "duration": 0,
    "start_time": "2025-02-10T03:49:57.374Z"
   },
   {
    "duration": 0,
    "start_time": "2025-02-10T03:49:57.376Z"
   },
   {
    "duration": 0,
    "start_time": "2025-02-10T03:49:57.378Z"
   },
   {
    "duration": 0,
    "start_time": "2025-02-10T03:49:57.379Z"
   },
   {
    "duration": 0,
    "start_time": "2025-02-10T03:49:57.381Z"
   },
   {
    "duration": 0,
    "start_time": "2025-02-10T03:49:57.383Z"
   },
   {
    "duration": 0,
    "start_time": "2025-02-10T03:49:57.384Z"
   },
   {
    "duration": 0,
    "start_time": "2025-02-10T03:49:57.386Z"
   },
   {
    "duration": 0,
    "start_time": "2025-02-10T03:49:57.387Z"
   },
   {
    "duration": 0,
    "start_time": "2025-02-10T03:49:57.388Z"
   },
   {
    "duration": 0,
    "start_time": "2025-02-10T03:49:57.389Z"
   },
   {
    "duration": 0,
    "start_time": "2025-02-10T03:49:57.390Z"
   },
   {
    "duration": 0,
    "start_time": "2025-02-10T03:49:57.391Z"
   },
   {
    "duration": 0,
    "start_time": "2025-02-10T03:49:57.392Z"
   },
   {
    "duration": 0,
    "start_time": "2025-02-10T03:49:57.393Z"
   },
   {
    "duration": 0,
    "start_time": "2025-02-10T03:49:57.395Z"
   },
   {
    "duration": 12,
    "start_time": "2025-02-10T03:50:16.412Z"
   },
   {
    "duration": 5,
    "start_time": "2025-02-10T03:51:16.002Z"
   },
   {
    "duration": 4,
    "start_time": "2025-02-10T03:51:16.009Z"
   },
   {
    "duration": 83,
    "start_time": "2025-02-10T03:51:16.016Z"
   },
   {
    "duration": 15,
    "start_time": "2025-02-10T03:51:16.101Z"
   },
   {
    "duration": 57,
    "start_time": "2025-02-10T03:51:16.119Z"
   },
   {
    "duration": 9,
    "start_time": "2025-02-10T03:51:16.178Z"
   },
   {
    "duration": 17,
    "start_time": "2025-02-10T03:51:16.189Z"
   },
   {
    "duration": 9,
    "start_time": "2025-02-10T03:51:16.208Z"
   },
   {
    "duration": 56,
    "start_time": "2025-02-10T03:51:16.219Z"
   },
   {
    "duration": 10,
    "start_time": "2025-02-10T03:51:16.277Z"
   },
   {
    "duration": 20,
    "start_time": "2025-02-10T03:51:20.863Z"
   },
   {
    "duration": 20,
    "start_time": "2025-02-10T03:53:03.636Z"
   },
   {
    "duration": 1241,
    "start_time": "2025-02-10T03:56:42.743Z"
   },
   {
    "duration": 3,
    "start_time": "2025-02-10T03:56:43.986Z"
   },
   {
    "duration": 95,
    "start_time": "2025-02-10T03:56:43.991Z"
   },
   {
    "duration": 13,
    "start_time": "2025-02-10T03:56:44.089Z"
   },
   {
    "duration": 38,
    "start_time": "2025-02-10T03:56:44.103Z"
   },
   {
    "duration": 6,
    "start_time": "2025-02-10T03:56:44.142Z"
   },
   {
    "duration": 25,
    "start_time": "2025-02-10T03:56:44.150Z"
   },
   {
    "duration": 10,
    "start_time": "2025-02-10T03:56:44.177Z"
   },
   {
    "duration": 27,
    "start_time": "2025-02-10T03:56:44.189Z"
   },
   {
    "duration": 8,
    "start_time": "2025-02-10T03:56:44.219Z"
   },
   {
    "duration": 52,
    "start_time": "2025-02-10T03:56:44.229Z"
   },
   {
    "duration": 10,
    "start_time": "2025-02-10T03:56:44.283Z"
   },
   {
    "duration": 17,
    "start_time": "2025-02-10T03:56:44.295Z"
   },
   {
    "duration": 15,
    "start_time": "2025-02-10T03:56:44.315Z"
   },
   {
    "duration": 41,
    "start_time": "2025-02-10T03:56:44.332Z"
   },
   {
    "duration": 12,
    "start_time": "2025-02-10T03:56:44.375Z"
   },
   {
    "duration": 4,
    "start_time": "2025-02-10T03:56:44.389Z"
   },
   {
    "duration": 9,
    "start_time": "2025-02-10T03:56:44.394Z"
   },
   {
    "duration": 17,
    "start_time": "2025-02-10T03:56:44.405Z"
   },
   {
    "duration": 7,
    "start_time": "2025-02-10T03:56:44.425Z"
   },
   {
    "duration": 43,
    "start_time": "2025-02-10T03:56:44.434Z"
   },
   {
    "duration": 269,
    "start_time": "2025-02-10T03:56:44.479Z"
   },
   {
    "duration": 244,
    "start_time": "2025-02-10T03:56:44.750Z"
   },
   {
    "duration": 451,
    "start_time": "2025-02-10T03:56:44.996Z"
   },
   {
    "duration": 268,
    "start_time": "2025-02-10T03:56:45.450Z"
   },
   {
    "duration": 280,
    "start_time": "2025-02-10T03:56:45.721Z"
   },
   {
    "duration": 230,
    "start_time": "2025-02-10T03:56:46.004Z"
   },
   {
    "duration": 311,
    "start_time": "2025-02-10T03:56:46.239Z"
   },
   {
    "duration": 285,
    "start_time": "2025-02-10T03:56:46.552Z"
   },
   {
    "duration": 349,
    "start_time": "2025-02-10T03:56:46.840Z"
   },
   {
    "duration": 1305,
    "start_time": "2025-02-10T03:56:47.191Z"
   },
   {
    "duration": 27,
    "start_time": "2025-02-10T03:56:48.498Z"
   },
   {
    "duration": 5,
    "start_time": "2025-02-10T03:56:48.527Z"
   },
   {
    "duration": 40,
    "start_time": "2025-02-10T03:56:48.534Z"
   },
   {
    "duration": 1741,
    "start_time": "2025-02-10T03:56:48.576Z"
   },
   {
    "duration": 7,
    "start_time": "2025-02-10T03:56:50.319Z"
   },
   {
    "duration": 597,
    "start_time": "2025-02-10T03:56:50.328Z"
   },
   {
    "duration": 8,
    "start_time": "2025-02-10T03:56:50.927Z"
   },
   {
    "duration": 25,
    "start_time": "2025-02-10T03:56:50.937Z"
   },
   {
    "duration": 17,
    "start_time": "2025-02-10T03:56:50.964Z"
   },
   {
    "duration": 31,
    "start_time": "2025-02-10T03:56:50.983Z"
   },
   {
    "duration": 75,
    "start_time": "2025-02-10T03:56:51.016Z"
   },
   {
    "duration": 81,
    "start_time": "2025-02-10T03:56:51.093Z"
   },
   {
    "duration": 20,
    "start_time": "2025-02-10T03:56:51.176Z"
   },
   {
    "duration": 10,
    "start_time": "2025-02-10T03:57:53.527Z"
   },
   {
    "duration": 387,
    "start_time": "2025-02-10T03:57:56.835Z"
   },
   {
    "duration": 9,
    "start_time": "2025-02-10T03:58:45.732Z"
   },
   {
    "duration": 258,
    "start_time": "2025-02-10T03:58:48.805Z"
   },
   {
    "duration": 9,
    "start_time": "2025-02-10T03:59:03.986Z"
   },
   {
    "duration": 10,
    "start_time": "2025-02-10T03:59:07.173Z"
   },
   {
    "duration": 258,
    "start_time": "2025-02-10T03:59:09.576Z"
   },
   {
    "duration": 9,
    "start_time": "2025-02-10T03:59:22.372Z"
   },
   {
    "duration": 261,
    "start_time": "2025-02-10T03:59:25.298Z"
   },
   {
    "duration": 12,
    "start_time": "2025-02-10T04:00:34.516Z"
   },
   {
    "duration": 238,
    "start_time": "2025-02-10T04:00:47.214Z"
   },
   {
    "duration": 113,
    "start_time": "2025-02-10T04:01:09.907Z"
   },
   {
    "duration": 75,
    "start_time": "2025-02-10T04:01:28.127Z"
   },
   {
    "duration": 224,
    "start_time": "2025-02-10T04:01:31.425Z"
   },
   {
    "duration": 246,
    "start_time": "2025-02-10T04:01:37.795Z"
   },
   {
    "duration": 260,
    "start_time": "2025-02-10T04:01:49.165Z"
   },
   {
    "duration": 219,
    "start_time": "2025-02-10T04:02:01.723Z"
   },
   {
    "duration": 126,
    "start_time": "2025-02-10T04:05:00.022Z"
   },
   {
    "duration": 278,
    "start_time": "2025-02-10T04:05:49.948Z"
   },
   {
    "duration": 303,
    "start_time": "2025-02-10T04:06:19.836Z"
   },
   {
    "duration": 265,
    "start_time": "2025-02-10T04:06:36.623Z"
   },
   {
    "duration": 157,
    "start_time": "2025-02-10T04:07:33.497Z"
   },
   {
    "duration": 309,
    "start_time": "2025-02-10T04:08:38.728Z"
   },
   {
    "duration": 277,
    "start_time": "2025-02-10T04:10:52.185Z"
   },
   {
    "duration": 360,
    "start_time": "2025-02-10T04:11:21.568Z"
   },
   {
    "duration": 1327,
    "start_time": "2025-02-10T04:12:33.069Z"
   },
   {
    "duration": 3,
    "start_time": "2025-02-10T04:12:34.399Z"
   },
   {
    "duration": 99,
    "start_time": "2025-02-10T04:12:34.405Z"
   },
   {
    "duration": 15,
    "start_time": "2025-02-10T04:12:34.506Z"
   },
   {
    "duration": 51,
    "start_time": "2025-02-10T04:12:34.523Z"
   },
   {
    "duration": 8,
    "start_time": "2025-02-10T04:12:34.575Z"
   },
   {
    "duration": 29,
    "start_time": "2025-02-10T04:12:34.585Z"
   },
   {
    "duration": 14,
    "start_time": "2025-02-10T04:12:34.615Z"
   },
   {
    "duration": 26,
    "start_time": "2025-02-10T04:12:34.631Z"
   },
   {
    "duration": 9,
    "start_time": "2025-02-10T04:12:34.674Z"
   },
   {
    "duration": 28,
    "start_time": "2025-02-10T04:12:34.685Z"
   },
   {
    "duration": 9,
    "start_time": "2025-02-10T04:12:34.715Z"
   },
   {
    "duration": 16,
    "start_time": "2025-02-10T04:12:34.725Z"
   },
   {
    "duration": 43,
    "start_time": "2025-02-10T04:12:34.743Z"
   },
   {
    "duration": 15,
    "start_time": "2025-02-10T04:12:34.788Z"
   },
   {
    "duration": 40,
    "start_time": "2025-02-10T04:12:34.805Z"
   },
   {
    "duration": 32,
    "start_time": "2025-02-10T04:12:34.846Z"
   },
   {
    "duration": 12,
    "start_time": "2025-02-10T04:12:34.880Z"
   },
   {
    "duration": 25,
    "start_time": "2025-02-10T04:12:34.894Z"
   },
   {
    "duration": 6,
    "start_time": "2025-02-10T04:12:34.921Z"
   },
   {
    "duration": 53,
    "start_time": "2025-02-10T04:12:34.929Z"
   },
   {
    "duration": 301,
    "start_time": "2025-02-10T04:12:34.984Z"
   },
   {
    "duration": 258,
    "start_time": "2025-02-10T04:12:35.288Z"
   },
   {
    "duration": 476,
    "start_time": "2025-02-10T04:12:35.548Z"
   },
   {
    "duration": 284,
    "start_time": "2025-02-10T04:12:36.026Z"
   },
   {
    "duration": 401,
    "start_time": "2025-02-10T04:12:36.312Z"
   },
   {
    "duration": 460,
    "start_time": "2025-02-10T04:12:36.715Z"
   },
   {
    "duration": 536,
    "start_time": "2025-02-10T04:12:37.178Z"
   },
   {
    "duration": 471,
    "start_time": "2025-02-10T04:12:37.716Z"
   },
   {
    "duration": 446,
    "start_time": "2025-02-10T04:12:38.189Z"
   },
   {
    "duration": 1372,
    "start_time": "2025-02-10T04:12:38.638Z"
   },
   {
    "duration": 27,
    "start_time": "2025-02-10T04:12:40.013Z"
   },
   {
    "duration": 5,
    "start_time": "2025-02-10T04:12:40.042Z"
   },
   {
    "duration": 33,
    "start_time": "2025-02-10T04:12:40.049Z"
   },
   {
    "duration": 1721,
    "start_time": "2025-02-10T04:12:40.084Z"
   },
   {
    "duration": 7,
    "start_time": "2025-02-10T04:12:41.807Z"
   },
   {
    "duration": 588,
    "start_time": "2025-02-10T04:12:41.815Z"
   },
   {
    "duration": 8,
    "start_time": "2025-02-10T04:12:42.405Z"
   },
   {
    "duration": 8,
    "start_time": "2025-02-10T04:12:42.415Z"
   },
   {
    "duration": 14,
    "start_time": "2025-02-10T04:12:42.424Z"
   },
   {
    "duration": 50,
    "start_time": "2025-02-10T04:12:42.440Z"
   },
   {
    "duration": 18,
    "start_time": "2025-02-10T04:12:42.492Z"
   },
   {
    "duration": 18,
    "start_time": "2025-02-10T04:12:42.512Z"
   },
   {
    "duration": 47,
    "start_time": "2025-02-10T04:12:42.532Z"
   },
   {
    "duration": 21,
    "start_time": "2025-02-10T04:14:49.916Z"
   },
   {
    "duration": 6,
    "start_time": "2025-02-10T04:19:42.686Z"
   },
   {
    "duration": 5,
    "start_time": "2025-02-10T04:22:33.571Z"
   },
   {
    "duration": 22,
    "start_time": "2025-02-10T04:24:10.802Z"
   },
   {
    "duration": 727,
    "start_time": "2025-02-10T04:24:23.960Z"
   },
   {
    "duration": 716,
    "start_time": "2025-02-10T04:24:41.217Z"
   },
   {
    "duration": 741,
    "start_time": "2025-02-10T04:25:18.087Z"
   },
   {
    "duration": 6,
    "start_time": "2025-02-10T04:25:30.006Z"
   },
   {
    "duration": 9,
    "start_time": "2025-02-10T04:26:09.750Z"
   },
   {
    "duration": 5,
    "start_time": "2025-02-10T04:26:13.956Z"
   },
   {
    "duration": 23,
    "start_time": "2025-02-10T04:27:17.116Z"
   },
   {
    "duration": 12,
    "start_time": "2025-02-10T04:27:48.553Z"
   },
   {
    "duration": 19,
    "start_time": "2025-02-10T04:28:29.002Z"
   },
   {
    "duration": 29,
    "start_time": "2025-02-10T04:29:47.585Z"
   },
   {
    "duration": 14,
    "start_time": "2025-02-10T04:55:46.213Z"
   },
   {
    "duration": 7,
    "start_time": "2025-02-10T04:56:01.238Z"
   },
   {
    "duration": 6,
    "start_time": "2025-02-10T04:58:14.607Z"
   },
   {
    "duration": 13,
    "start_time": "2025-02-10T04:59:00.429Z"
   },
   {
    "duration": 6,
    "start_time": "2025-02-10T04:59:09.712Z"
   },
   {
    "duration": 12,
    "start_time": "2025-02-10T05:00:31.584Z"
   },
   {
    "duration": 5,
    "start_time": "2025-02-10T05:01:22.934Z"
   },
   {
    "duration": 7,
    "start_time": "2025-02-10T05:01:28.129Z"
   },
   {
    "duration": 7,
    "start_time": "2025-02-10T05:01:50.626Z"
   },
   {
    "duration": 6,
    "start_time": "2025-02-10T05:01:58.221Z"
   },
   {
    "duration": 125,
    "start_time": "2025-02-10T05:05:54.685Z"
   },
   {
    "duration": 140,
    "start_time": "2025-02-10T05:06:04.003Z"
   },
   {
    "duration": 6,
    "start_time": "2025-02-10T05:07:47.581Z"
   },
   {
    "duration": 6,
    "start_time": "2025-02-10T05:07:55.196Z"
   },
   {
    "duration": 7,
    "start_time": "2025-02-10T05:08:18.209Z"
   },
   {
    "duration": 6,
    "start_time": "2025-02-10T05:08:31.584Z"
   },
   {
    "duration": 6,
    "start_time": "2025-02-10T05:09:25.960Z"
   },
   {
    "duration": 6,
    "start_time": "2025-02-10T05:09:45.866Z"
   },
   {
    "duration": 211,
    "start_time": "2025-02-10T05:10:42.961Z"
   },
   {
    "duration": 219,
    "start_time": "2025-02-10T05:11:12.045Z"
   },
   {
    "duration": 221,
    "start_time": "2025-02-10T05:14:21.742Z"
   },
   {
    "duration": 357,
    "start_time": "2025-02-10T05:14:52.344Z"
   },
   {
    "duration": 235,
    "start_time": "2025-02-10T05:16:46.232Z"
   },
   {
    "duration": 11,
    "start_time": "2025-02-10T05:19:12.242Z"
   },
   {
    "duration": 4,
    "start_time": "2025-02-10T05:19:24.079Z"
   },
   {
    "duration": 5,
    "start_time": "2025-02-10T05:19:53.964Z"
   },
   {
    "duration": 6,
    "start_time": "2025-02-10T05:20:25.530Z"
   },
   {
    "duration": 234,
    "start_time": "2025-02-10T05:20:32.960Z"
   },
   {
    "duration": 5,
    "start_time": "2025-02-10T05:24:08.039Z"
   },
   {
    "duration": 5,
    "start_time": "2025-02-10T05:24:19.200Z"
   },
   {
    "duration": 6,
    "start_time": "2025-02-10T05:24:32.806Z"
   },
   {
    "duration": 274,
    "start_time": "2025-02-10T05:24:51.216Z"
   },
   {
    "duration": 18,
    "start_time": "2025-02-10T05:25:54.665Z"
   },
   {
    "duration": 264,
    "start_time": "2025-02-10T05:25:55.219Z"
   },
   {
    "duration": 7,
    "start_time": "2025-02-10T05:26:54.613Z"
   },
   {
    "duration": 257,
    "start_time": "2025-02-10T05:26:57.511Z"
   },
   {
    "duration": 1212,
    "start_time": "2025-02-10T05:55:24.703Z"
   },
   {
    "duration": 3,
    "start_time": "2025-02-10T05:55:25.917Z"
   },
   {
    "duration": 135,
    "start_time": "2025-02-10T05:55:25.924Z"
   },
   {
    "duration": 14,
    "start_time": "2025-02-10T05:55:26.060Z"
   },
   {
    "duration": 41,
    "start_time": "2025-02-10T05:55:26.076Z"
   },
   {
    "duration": 9,
    "start_time": "2025-02-10T05:55:26.119Z"
   },
   {
    "duration": 42,
    "start_time": "2025-02-10T05:55:26.131Z"
   },
   {
    "duration": 11,
    "start_time": "2025-02-10T05:55:26.175Z"
   },
   {
    "duration": 25,
    "start_time": "2025-02-10T05:55:26.189Z"
   },
   {
    "duration": 9,
    "start_time": "2025-02-10T05:55:26.216Z"
   },
   {
    "duration": 62,
    "start_time": "2025-02-10T05:55:26.226Z"
   },
   {
    "duration": 9,
    "start_time": "2025-02-10T05:55:26.290Z"
   },
   {
    "duration": 17,
    "start_time": "2025-02-10T05:55:26.301Z"
   },
   {
    "duration": 13,
    "start_time": "2025-02-10T05:55:26.320Z"
   },
   {
    "duration": 39,
    "start_time": "2025-02-10T05:55:26.335Z"
   },
   {
    "duration": 14,
    "start_time": "2025-02-10T05:55:26.376Z"
   },
   {
    "duration": 4,
    "start_time": "2025-02-10T05:55:26.392Z"
   },
   {
    "duration": 7,
    "start_time": "2025-02-10T05:55:26.398Z"
   },
   {
    "duration": 18,
    "start_time": "2025-02-10T05:55:26.407Z"
   },
   {
    "duration": 47,
    "start_time": "2025-02-10T05:55:26.427Z"
   },
   {
    "duration": 9,
    "start_time": "2025-02-10T05:55:26.476Z"
   },
   {
    "duration": 278,
    "start_time": "2025-02-10T05:55:26.487Z"
   },
   {
    "duration": 251,
    "start_time": "2025-02-10T05:55:26.771Z"
   },
   {
    "duration": 447,
    "start_time": "2025-02-10T05:55:27.024Z"
   },
   {
    "duration": 261,
    "start_time": "2025-02-10T05:55:27.473Z"
   },
   {
    "duration": 264,
    "start_time": "2025-02-10T05:55:27.736Z"
   },
   {
    "duration": 241,
    "start_time": "2025-02-10T05:55:28.003Z"
   },
   {
    "duration": 327,
    "start_time": "2025-02-10T05:55:28.246Z"
   },
   {
    "duration": 285,
    "start_time": "2025-02-10T05:55:28.575Z"
   },
   {
    "duration": 373,
    "start_time": "2025-02-10T05:55:28.862Z"
   },
   {
    "duration": 1324,
    "start_time": "2025-02-10T05:55:29.237Z"
   },
   {
    "duration": 132,
    "start_time": "2025-02-10T05:55:30.563Z"
   },
   {
    "duration": 0,
    "start_time": "2025-02-10T05:55:30.697Z"
   },
   {
    "duration": 0,
    "start_time": "2025-02-10T05:55:30.698Z"
   },
   {
    "duration": 0,
    "start_time": "2025-02-10T05:55:30.699Z"
   },
   {
    "duration": 1,
    "start_time": "2025-02-10T05:55:30.700Z"
   },
   {
    "duration": 0,
    "start_time": "2025-02-10T05:55:30.702Z"
   },
   {
    "duration": 0,
    "start_time": "2025-02-10T05:55:30.703Z"
   },
   {
    "duration": 0,
    "start_time": "2025-02-10T05:55:30.704Z"
   },
   {
    "duration": 0,
    "start_time": "2025-02-10T05:55:30.705Z"
   },
   {
    "duration": 0,
    "start_time": "2025-02-10T05:55:30.707Z"
   },
   {
    "duration": 0,
    "start_time": "2025-02-10T05:55:30.708Z"
   },
   {
    "duration": 0,
    "start_time": "2025-02-10T05:55:30.709Z"
   },
   {
    "duration": 0,
    "start_time": "2025-02-10T05:55:30.710Z"
   },
   {
    "duration": 38,
    "start_time": "2025-02-10T05:57:10.758Z"
   },
   {
    "duration": 6,
    "start_time": "2025-02-10T05:59:47.789Z"
   },
   {
    "duration": 5,
    "start_time": "2025-02-10T06:00:08.684Z"
   },
   {
    "duration": 5,
    "start_time": "2025-02-10T06:00:27.256Z"
   },
   {
    "duration": 13,
    "start_time": "2025-02-10T06:02:13.706Z"
   },
   {
    "duration": 5,
    "start_time": "2025-02-10T06:04:14.427Z"
   },
   {
    "duration": 28,
    "start_time": "2025-02-10T06:09:17.217Z"
   },
   {
    "duration": 38,
    "start_time": "2025-02-10T06:09:45.504Z"
   },
   {
    "duration": 29,
    "start_time": "2025-02-10T06:10:57.514Z"
   },
   {
    "duration": 27,
    "start_time": "2025-02-10T06:11:24.448Z"
   },
   {
    "duration": 27,
    "start_time": "2025-02-10T06:14:04.763Z"
   },
   {
    "duration": 26,
    "start_time": "2025-02-10T06:15:46.006Z"
   },
   {
    "duration": 28,
    "start_time": "2025-02-10T06:15:55.692Z"
   },
   {
    "duration": 26,
    "start_time": "2025-02-10T06:16:23.546Z"
   },
   {
    "duration": 28,
    "start_time": "2025-02-10T06:18:00.253Z"
   },
   {
    "duration": 9,
    "start_time": "2025-02-10T06:19:10.785Z"
   },
   {
    "duration": 9,
    "start_time": "2025-02-10T06:19:59.668Z"
   },
   {
    "duration": 6,
    "start_time": "2025-02-10T06:24:29.791Z"
   },
   {
    "duration": 97,
    "start_time": "2025-02-10T06:24:57.132Z"
   },
   {
    "duration": 6,
    "start_time": "2025-02-10T06:26:23.224Z"
   },
   {
    "duration": 8,
    "start_time": "2025-02-10T06:26:43.463Z"
   },
   {
    "duration": 13,
    "start_time": "2025-02-10T06:26:55.229Z"
   },
   {
    "duration": 9,
    "start_time": "2025-02-10T06:28:14.005Z"
   },
   {
    "duration": 8,
    "start_time": "2025-02-10T06:28:52.290Z"
   },
   {
    "duration": 5,
    "start_time": "2025-02-10T06:29:54.143Z"
   },
   {
    "duration": 6,
    "start_time": "2025-02-10T06:31:10.925Z"
   },
   {
    "duration": 7,
    "start_time": "2025-02-10T06:31:18.715Z"
   },
   {
    "duration": 6,
    "start_time": "2025-02-10T06:32:28.531Z"
   },
   {
    "duration": 7,
    "start_time": "2025-02-10T06:33:51.440Z"
   },
   {
    "duration": 6,
    "start_time": "2025-02-10T06:34:16.007Z"
   },
   {
    "duration": 5,
    "start_time": "2025-02-10T06:35:49.349Z"
   },
   {
    "duration": 5,
    "start_time": "2025-02-10T06:35:55.319Z"
   },
   {
    "duration": 7,
    "start_time": "2025-02-10T06:36:10.098Z"
   },
   {
    "duration": 5,
    "start_time": "2025-02-10T06:37:01.838Z"
   },
   {
    "duration": 31,
    "start_time": "2025-02-10T06:37:09.930Z"
   },
   {
    "duration": 31,
    "start_time": "2025-02-10T06:38:43.445Z"
   },
   {
    "duration": 1343,
    "start_time": "2025-02-10T06:40:13.263Z"
   },
   {
    "duration": 4,
    "start_time": "2025-02-10T06:40:14.608Z"
   },
   {
    "duration": 91,
    "start_time": "2025-02-10T06:40:14.613Z"
   },
   {
    "duration": 14,
    "start_time": "2025-02-10T06:40:14.706Z"
   },
   {
    "duration": 58,
    "start_time": "2025-02-10T06:40:14.722Z"
   },
   {
    "duration": 7,
    "start_time": "2025-02-10T06:40:14.782Z"
   },
   {
    "duration": 20,
    "start_time": "2025-02-10T06:40:14.790Z"
   },
   {
    "duration": 14,
    "start_time": "2025-02-10T06:40:14.811Z"
   },
   {
    "duration": 52,
    "start_time": "2025-02-10T06:40:14.827Z"
   },
   {
    "duration": 10,
    "start_time": "2025-02-10T06:40:14.882Z"
   },
   {
    "duration": 22,
    "start_time": "2025-02-10T06:40:14.894Z"
   },
   {
    "duration": 12,
    "start_time": "2025-02-10T06:40:14.918Z"
   },
   {
    "duration": 52,
    "start_time": "2025-02-10T06:40:14.931Z"
   },
   {
    "duration": 15,
    "start_time": "2025-02-10T06:40:14.985Z"
   },
   {
    "duration": 28,
    "start_time": "2025-02-10T06:40:15.002Z"
   },
   {
    "duration": 43,
    "start_time": "2025-02-10T06:40:15.032Z"
   },
   {
    "duration": 41,
    "start_time": "2025-02-10T06:40:15.076Z"
   },
   {
    "duration": 27,
    "start_time": "2025-02-10T06:40:15.119Z"
   },
   {
    "duration": 42,
    "start_time": "2025-02-10T06:40:15.148Z"
   },
   {
    "duration": 13,
    "start_time": "2025-02-10T06:40:15.191Z"
   },
   {
    "duration": 27,
    "start_time": "2025-02-10T06:40:15.206Z"
   },
   {
    "duration": 336,
    "start_time": "2025-02-10T06:40:15.236Z"
   },
   {
    "duration": 268,
    "start_time": "2025-02-10T06:40:15.574Z"
   },
   {
    "duration": 477,
    "start_time": "2025-02-10T06:40:15.844Z"
   },
   {
    "duration": 277,
    "start_time": "2025-02-10T06:40:16.323Z"
   },
   {
    "duration": 269,
    "start_time": "2025-02-10T06:40:16.603Z"
   },
   {
    "duration": 287,
    "start_time": "2025-02-10T06:40:16.874Z"
   },
   {
    "duration": 330,
    "start_time": "2025-02-10T06:40:17.171Z"
   },
   {
    "duration": 349,
    "start_time": "2025-02-10T06:40:17.504Z"
   },
   {
    "duration": 369,
    "start_time": "2025-02-10T06:40:17.855Z"
   },
   {
    "duration": 1356,
    "start_time": "2025-02-10T06:40:18.226Z"
   },
   {
    "duration": 126,
    "start_time": "2025-02-10T06:40:19.584Z"
   },
   {
    "duration": 0,
    "start_time": "2025-02-10T06:40:19.712Z"
   },
   {
    "duration": 0,
    "start_time": "2025-02-10T06:40:19.713Z"
   },
   {
    "duration": 0,
    "start_time": "2025-02-10T06:40:19.714Z"
   },
   {
    "duration": 0,
    "start_time": "2025-02-10T06:40:19.715Z"
   },
   {
    "duration": 0,
    "start_time": "2025-02-10T06:40:19.716Z"
   },
   {
    "duration": 0,
    "start_time": "2025-02-10T06:40:19.717Z"
   },
   {
    "duration": 0,
    "start_time": "2025-02-10T06:40:19.718Z"
   },
   {
    "duration": 0,
    "start_time": "2025-02-10T06:40:19.720Z"
   },
   {
    "duration": 0,
    "start_time": "2025-02-10T06:40:19.721Z"
   },
   {
    "duration": 0,
    "start_time": "2025-02-10T06:40:19.722Z"
   },
   {
    "duration": 0,
    "start_time": "2025-02-10T06:40:19.723Z"
   },
   {
    "duration": 0,
    "start_time": "2025-02-10T06:40:19.724Z"
   },
   {
    "duration": 0,
    "start_time": "2025-02-10T06:40:19.725Z"
   },
   {
    "duration": 0,
    "start_time": "2025-02-10T06:40:19.727Z"
   },
   {
    "duration": 0,
    "start_time": "2025-02-10T06:40:19.728Z"
   },
   {
    "duration": 0,
    "start_time": "2025-02-10T06:40:19.729Z"
   },
   {
    "duration": 0,
    "start_time": "2025-02-10T06:40:19.730Z"
   },
   {
    "duration": 1320,
    "start_time": "2025-02-10T06:41:18.407Z"
   },
   {
    "duration": 3,
    "start_time": "2025-02-10T06:41:19.729Z"
   },
   {
    "duration": 93,
    "start_time": "2025-02-10T06:41:19.734Z"
   },
   {
    "duration": 15,
    "start_time": "2025-02-10T06:41:19.829Z"
   },
   {
    "duration": 44,
    "start_time": "2025-02-10T06:41:19.845Z"
   },
   {
    "duration": 7,
    "start_time": "2025-02-10T06:41:19.891Z"
   },
   {
    "duration": 15,
    "start_time": "2025-02-10T06:41:19.899Z"
   },
   {
    "duration": 14,
    "start_time": "2025-02-10T06:41:19.916Z"
   },
   {
    "duration": 51,
    "start_time": "2025-02-10T06:41:19.932Z"
   },
   {
    "duration": 9,
    "start_time": "2025-02-10T06:41:19.986Z"
   },
   {
    "duration": 23,
    "start_time": "2025-02-10T06:41:19.997Z"
   },
   {
    "duration": 11,
    "start_time": "2025-02-10T06:41:20.022Z"
   },
   {
    "duration": 50,
    "start_time": "2025-02-10T06:41:20.034Z"
   },
   {
    "duration": 15,
    "start_time": "2025-02-10T06:41:20.085Z"
   },
   {
    "duration": 6,
    "start_time": "2025-02-10T06:41:20.102Z"
   },
   {
    "duration": 14,
    "start_time": "2025-02-10T06:41:20.110Z"
   },
   {
    "duration": 5,
    "start_time": "2025-02-10T06:41:20.126Z"
   },
   {
    "duration": 46,
    "start_time": "2025-02-10T06:41:20.132Z"
   },
   {
    "duration": 16,
    "start_time": "2025-02-10T06:41:20.180Z"
   },
   {
    "duration": 8,
    "start_time": "2025-02-10T06:41:20.198Z"
   },
   {
    "duration": 10,
    "start_time": "2025-02-10T06:41:20.207Z"
   },
   {
    "duration": 330,
    "start_time": "2025-02-10T06:41:20.219Z"
   },
   {
    "duration": 281,
    "start_time": "2025-02-10T06:41:20.551Z"
   },
   {
    "duration": 470,
    "start_time": "2025-02-10T06:41:20.834Z"
   },
   {
    "duration": 269,
    "start_time": "2025-02-10T06:41:21.306Z"
   },
   {
    "duration": 266,
    "start_time": "2025-02-10T06:41:21.577Z"
   },
   {
    "duration": 281,
    "start_time": "2025-02-10T06:41:21.845Z"
   },
   {
    "duration": 332,
    "start_time": "2025-02-10T06:41:22.130Z"
   },
   {
    "duration": 286,
    "start_time": "2025-02-10T06:41:22.471Z"
   },
   {
    "duration": 357,
    "start_time": "2025-02-10T06:41:22.771Z"
   },
   {
    "duration": 1297,
    "start_time": "2025-02-10T06:41:23.131Z"
   },
   {
    "duration": 43,
    "start_time": "2025-02-10T06:41:24.430Z"
   },
   {
    "duration": 1680,
    "start_time": "2025-02-10T06:41:24.475Z"
   },
   {
    "duration": 14,
    "start_time": "2025-02-10T06:41:26.157Z"
   },
   {
    "duration": 270,
    "start_time": "2025-02-10T06:41:26.173Z"
   },
   {
    "duration": 7,
    "start_time": "2025-02-10T06:41:26.445Z"
   },
   {
    "duration": 591,
    "start_time": "2025-02-10T06:41:26.454Z"
   },
   {
    "duration": 7,
    "start_time": "2025-02-10T06:41:27.047Z"
   },
   {
    "duration": 20,
    "start_time": "2025-02-10T06:41:27.055Z"
   },
   {
    "duration": 15,
    "start_time": "2025-02-10T06:41:27.077Z"
   },
   {
    "duration": 23,
    "start_time": "2025-02-10T06:41:27.094Z"
   },
   {
    "duration": 53,
    "start_time": "2025-02-10T06:41:27.119Z"
   },
   {
    "duration": 19,
    "start_time": "2025-02-10T06:41:27.174Z"
   },
   {
    "duration": 19,
    "start_time": "2025-02-10T06:41:27.195Z"
   },
   {
    "duration": 20,
    "start_time": "2025-02-10T06:54:23.651Z"
   },
   {
    "duration": 1218,
    "start_time": "2025-02-11T03:45:38.173Z"
   },
   {
    "duration": 3,
    "start_time": "2025-02-11T03:45:39.393Z"
   },
   {
    "duration": 87,
    "start_time": "2025-02-11T03:45:39.397Z"
   },
   {
    "duration": 13,
    "start_time": "2025-02-11T03:45:39.486Z"
   },
   {
    "duration": 37,
    "start_time": "2025-02-11T03:45:39.501Z"
   },
   {
    "duration": 6,
    "start_time": "2025-02-11T03:45:39.540Z"
   },
   {
    "duration": 42,
    "start_time": "2025-02-11T03:45:39.548Z"
   },
   {
    "duration": 13,
    "start_time": "2025-02-11T03:45:39.591Z"
   },
   {
    "duration": 24,
    "start_time": "2025-02-11T03:45:39.605Z"
   },
   {
    "duration": 7,
    "start_time": "2025-02-11T03:45:39.632Z"
   },
   {
    "duration": 35,
    "start_time": "2025-02-11T03:45:39.641Z"
   },
   {
    "duration": 9,
    "start_time": "2025-02-11T03:45:39.678Z"
   },
   {
    "duration": 16,
    "start_time": "2025-02-11T03:45:39.689Z"
   },
   {
    "duration": 14,
    "start_time": "2025-02-11T03:45:39.707Z"
   },
   {
    "duration": 8,
    "start_time": "2025-02-11T03:45:39.723Z"
   },
   {
    "duration": 44,
    "start_time": "2025-02-11T03:45:39.732Z"
   },
   {
    "duration": 5,
    "start_time": "2025-02-11T03:45:39.777Z"
   },
   {
    "duration": 13,
    "start_time": "2025-02-11T03:45:39.784Z"
   },
   {
    "duration": 16,
    "start_time": "2025-02-11T03:45:39.798Z"
   },
   {
    "duration": 14,
    "start_time": "2025-02-11T03:45:39.816Z"
   },
   {
    "duration": 9,
    "start_time": "2025-02-11T03:45:39.832Z"
   },
   {
    "duration": 301,
    "start_time": "2025-02-11T03:45:39.843Z"
   },
   {
    "duration": 267,
    "start_time": "2025-02-11T03:45:40.146Z"
   },
   {
    "duration": 442,
    "start_time": "2025-02-11T03:45:40.414Z"
   },
   {
    "duration": 255,
    "start_time": "2025-02-11T03:45:40.858Z"
   },
   {
    "duration": 283,
    "start_time": "2025-02-11T03:45:41.115Z"
   },
   {
    "duration": 245,
    "start_time": "2025-02-11T03:45:41.400Z"
   },
   {
    "duration": 309,
    "start_time": "2025-02-11T03:45:41.649Z"
   },
   {
    "duration": 278,
    "start_time": "2025-02-11T03:45:41.972Z"
   },
   {
    "duration": 366,
    "start_time": "2025-02-11T03:45:42.252Z"
   },
   {
    "duration": 1281,
    "start_time": "2025-02-11T03:45:42.620Z"
   },
   {
    "duration": 29,
    "start_time": "2025-02-11T03:45:43.903Z"
   },
   {
    "duration": 1724,
    "start_time": "2025-02-11T03:45:43.933Z"
   },
   {
    "duration": 7,
    "start_time": "2025-02-11T03:45:45.658Z"
   },
   {
    "duration": 251,
    "start_time": "2025-02-11T03:45:45.667Z"
   },
   {
    "duration": 7,
    "start_time": "2025-02-11T03:45:45.920Z"
   },
   {
    "duration": 592,
    "start_time": "2025-02-11T03:45:45.928Z"
   },
   {
    "duration": 8,
    "start_time": "2025-02-11T03:45:46.521Z"
   },
   {
    "duration": 5,
    "start_time": "2025-02-11T03:45:46.531Z"
   },
   {
    "duration": 38,
    "start_time": "2025-02-11T03:45:46.537Z"
   },
   {
    "duration": 21,
    "start_time": "2025-02-11T03:45:46.577Z"
   },
   {
    "duration": 19,
    "start_time": "2025-02-11T03:45:46.599Z"
   },
   {
    "duration": 41,
    "start_time": "2025-02-11T03:45:46.620Z"
   },
   {
    "duration": 22,
    "start_time": "2025-02-11T03:45:46.662Z"
   },
   {
    "duration": 5,
    "start_time": "2025-02-11T03:55:40.345Z"
   },
   {
    "duration": 7,
    "start_time": "2025-02-11T03:55:53.703Z"
   },
   {
    "duration": 26,
    "start_time": "2025-02-11T03:57:22.547Z"
   },
   {
    "duration": 24,
    "start_time": "2025-02-11T03:58:27.289Z"
   },
   {
    "duration": 8,
    "start_time": "2025-02-11T04:05:57.510Z"
   },
   {
    "duration": 8,
    "start_time": "2025-02-11T04:06:58.143Z"
   },
   {
    "duration": 6,
    "start_time": "2025-02-11T04:33:19.242Z"
   },
   {
    "duration": 107,
    "start_time": "2025-02-11T04:33:29.109Z"
   },
   {
    "duration": 953,
    "start_time": "2025-02-11T04:33:38.282Z"
   },
   {
    "duration": 130,
    "start_time": "2025-02-11T04:35:19.599Z"
   },
   {
    "duration": 127,
    "start_time": "2025-02-11T04:35:45.880Z"
   },
   {
    "duration": 150,
    "start_time": "2025-02-11T04:36:20.539Z"
   },
   {
    "duration": 190,
    "start_time": "2025-02-11T04:37:53.930Z"
   },
   {
    "duration": 268,
    "start_time": "2025-02-11T04:38:35.804Z"
   },
   {
    "duration": 23,
    "start_time": "2025-02-11T05:18:05.193Z"
   },
   {
    "duration": 24,
    "start_time": "2025-02-11T05:18:30.352Z"
   },
   {
    "duration": 23,
    "start_time": "2025-02-11T05:18:39.740Z"
   },
   {
    "duration": 21,
    "start_time": "2025-02-11T05:18:44.913Z"
   },
   {
    "duration": 1281,
    "start_time": "2025-02-11T06:11:14.120Z"
   },
   {
    "duration": 3,
    "start_time": "2025-02-11T06:11:15.403Z"
   },
   {
    "duration": 164,
    "start_time": "2025-02-11T06:11:15.408Z"
   },
   {
    "duration": 13,
    "start_time": "2025-02-11T06:11:15.574Z"
   },
   {
    "duration": 39,
    "start_time": "2025-02-11T06:11:15.589Z"
   },
   {
    "duration": 7,
    "start_time": "2025-02-11T06:11:15.630Z"
   },
   {
    "duration": 40,
    "start_time": "2025-02-11T06:11:15.639Z"
   },
   {
    "duration": 15,
    "start_time": "2025-02-11T06:11:15.682Z"
   },
   {
    "duration": 26,
    "start_time": "2025-02-11T06:11:15.699Z"
   },
   {
    "duration": 8,
    "start_time": "2025-02-11T06:11:15.728Z"
   },
   {
    "duration": 47,
    "start_time": "2025-02-11T06:11:15.738Z"
   },
   {
    "duration": 10,
    "start_time": "2025-02-11T06:11:15.786Z"
   },
   {
    "duration": 24,
    "start_time": "2025-02-11T06:11:15.797Z"
   },
   {
    "duration": 17,
    "start_time": "2025-02-11T06:11:15.823Z"
   },
   {
    "duration": 6,
    "start_time": "2025-02-11T06:11:15.841Z"
   },
   {
    "duration": 13,
    "start_time": "2025-02-11T06:11:15.872Z"
   },
   {
    "duration": 4,
    "start_time": "2025-02-11T06:11:15.887Z"
   },
   {
    "duration": 7,
    "start_time": "2025-02-11T06:11:15.893Z"
   },
   {
    "duration": 15,
    "start_time": "2025-02-11T06:11:15.902Z"
   },
   {
    "duration": 7,
    "start_time": "2025-02-11T06:11:15.919Z"
   },
   {
    "duration": 45,
    "start_time": "2025-02-11T06:11:15.927Z"
   },
   {
    "duration": 277,
    "start_time": "2025-02-11T06:11:15.974Z"
   },
   {
    "duration": 267,
    "start_time": "2025-02-11T06:11:16.253Z"
   },
   {
    "duration": 440,
    "start_time": "2025-02-11T06:11:16.522Z"
   },
   {
    "duration": 256,
    "start_time": "2025-02-11T06:11:16.964Z"
   },
   {
    "duration": 264,
    "start_time": "2025-02-11T06:11:17.222Z"
   },
   {
    "duration": 255,
    "start_time": "2025-02-11T06:11:17.488Z"
   },
   {
    "duration": 325,
    "start_time": "2025-02-11T06:11:17.747Z"
   },
   {
    "duration": 281,
    "start_time": "2025-02-11T06:11:18.073Z"
   },
   {
    "duration": 361,
    "start_time": "2025-02-11T06:11:18.356Z"
   },
   {
    "duration": 1342,
    "start_time": "2025-02-11T06:11:18.719Z"
   },
   {
    "duration": 33,
    "start_time": "2025-02-11T06:11:20.063Z"
   },
   {
    "duration": 1688,
    "start_time": "2025-02-11T06:11:20.097Z"
   },
   {
    "duration": 7,
    "start_time": "2025-02-11T06:11:21.786Z"
   },
   {
    "duration": 246,
    "start_time": "2025-02-11T06:11:21.795Z"
   },
   {
    "duration": 7,
    "start_time": "2025-02-11T06:11:22.042Z"
   },
   {
    "duration": 583,
    "start_time": "2025-02-11T06:11:22.051Z"
   },
   {
    "duration": 8,
    "start_time": "2025-02-11T06:11:22.636Z"
   },
   {
    "duration": 7,
    "start_time": "2025-02-11T06:11:22.646Z"
   },
   {
    "duration": 173,
    "start_time": "2025-02-11T06:11:22.672Z"
   },
   {
    "duration": 14,
    "start_time": "2025-02-11T06:11:22.847Z"
   },
   {
    "duration": 6,
    "start_time": "2025-02-11T06:11:22.872Z"
   },
   {
    "duration": 21,
    "start_time": "2025-02-11T06:11:22.880Z"
   },
   {
    "duration": 23,
    "start_time": "2025-02-11T06:11:22.903Z"
   },
   {
    "duration": 49,
    "start_time": "2025-02-11T06:11:22.928Z"
   },
   {
    "duration": 21,
    "start_time": "2025-02-11T06:11:22.979Z"
   },
   {
    "duration": 1344,
    "start_time": "2025-02-11T09:52:48.867Z"
   },
   {
    "duration": 3,
    "start_time": "2025-02-11T09:52:50.213Z"
   },
   {
    "duration": 130,
    "start_time": "2025-02-11T09:52:50.219Z"
   },
   {
    "duration": 13,
    "start_time": "2025-02-11T09:52:50.350Z"
   },
   {
    "duration": 56,
    "start_time": "2025-02-11T09:52:50.364Z"
   },
   {
    "duration": 6,
    "start_time": "2025-02-11T09:52:50.421Z"
   },
   {
    "duration": 21,
    "start_time": "2025-02-11T09:52:50.428Z"
   },
   {
    "duration": 18,
    "start_time": "2025-02-11T09:52:50.450Z"
   },
   {
    "duration": 31,
    "start_time": "2025-02-11T09:52:50.471Z"
   },
   {
    "duration": 7,
    "start_time": "2025-02-11T09:52:50.504Z"
   },
   {
    "duration": 83,
    "start_time": "2025-02-11T09:52:50.512Z"
   },
   {
    "duration": 8,
    "start_time": "2025-02-11T09:52:50.596Z"
   },
   {
    "duration": 23,
    "start_time": "2025-02-11T09:52:50.605Z"
   },
   {
    "duration": 85,
    "start_time": "2025-02-11T09:52:50.629Z"
   },
   {
    "duration": 7,
    "start_time": "2025-02-11T09:52:50.715Z"
   },
   {
    "duration": 12,
    "start_time": "2025-02-11T09:52:50.723Z"
   },
   {
    "duration": 18,
    "start_time": "2025-02-11T09:52:50.736Z"
   },
   {
    "duration": 24,
    "start_time": "2025-02-11T09:52:50.756Z"
   },
   {
    "duration": 14,
    "start_time": "2025-02-11T09:52:50.782Z"
   },
   {
    "duration": 9,
    "start_time": "2025-02-11T09:52:50.798Z"
   },
   {
    "duration": 17,
    "start_time": "2025-02-11T09:52:50.808Z"
   },
   {
    "duration": 436,
    "start_time": "2025-02-11T09:52:50.827Z"
   },
   {
    "duration": 221,
    "start_time": "2025-02-11T09:52:51.265Z"
   },
   {
    "duration": 413,
    "start_time": "2025-02-11T09:52:51.488Z"
   },
   {
    "duration": 240,
    "start_time": "2025-02-11T09:52:51.903Z"
   },
   {
    "duration": 240,
    "start_time": "2025-02-11T09:52:52.147Z"
   },
   {
    "duration": 226,
    "start_time": "2025-02-11T09:52:52.390Z"
   },
   {
    "duration": 316,
    "start_time": "2025-02-11T09:52:52.618Z"
   },
   {
    "duration": 283,
    "start_time": "2025-02-11T09:52:52.936Z"
   },
   {
    "duration": 337,
    "start_time": "2025-02-11T09:52:53.221Z"
   },
   {
    "duration": 1271,
    "start_time": "2025-02-11T09:52:53.560Z"
   },
   {
    "duration": 37,
    "start_time": "2025-02-11T09:52:54.833Z"
   },
   {
    "duration": 1564,
    "start_time": "2025-02-11T09:52:54.872Z"
   },
   {
    "duration": 9,
    "start_time": "2025-02-11T09:52:56.438Z"
   },
   {
    "duration": 221,
    "start_time": "2025-02-11T09:52:56.449Z"
   },
   {
    "duration": 8,
    "start_time": "2025-02-11T09:52:56.672Z"
   },
   {
    "duration": 552,
    "start_time": "2025-02-11T09:52:56.682Z"
   },
   {
    "duration": 13,
    "start_time": "2025-02-11T09:52:57.236Z"
   },
   {
    "duration": 11,
    "start_time": "2025-02-11T09:52:57.250Z"
   },
   {
    "duration": 163,
    "start_time": "2025-02-11T09:52:57.262Z"
   },
   {
    "duration": 12,
    "start_time": "2025-02-11T09:52:57.426Z"
   },
   {
    "duration": 6,
    "start_time": "2025-02-11T09:52:57.448Z"
   },
   {
    "duration": 37,
    "start_time": "2025-02-11T09:52:57.456Z"
   },
   {
    "duration": 23,
    "start_time": "2025-02-11T09:52:57.494Z"
   },
   {
    "duration": 34,
    "start_time": "2025-02-11T09:52:57.519Z"
   },
   {
    "duration": 21,
    "start_time": "2025-02-11T09:52:57.555Z"
   },
   {
    "duration": 1348,
    "start_time": "2025-02-12T15:23:15.669Z"
   },
   {
    "duration": 3,
    "start_time": "2025-02-12T15:23:17.019Z"
   },
   {
    "duration": 166,
    "start_time": "2025-02-12T15:23:17.023Z"
   },
   {
    "duration": 11,
    "start_time": "2025-02-12T15:23:17.191Z"
   },
   {
    "duration": 60,
    "start_time": "2025-02-12T15:23:17.203Z"
   },
   {
    "duration": 6,
    "start_time": "2025-02-12T15:23:17.264Z"
   },
   {
    "duration": 18,
    "start_time": "2025-02-12T15:23:17.271Z"
   },
   {
    "duration": 64,
    "start_time": "2025-02-12T15:23:17.290Z"
   },
   {
    "duration": 22,
    "start_time": "2025-02-12T15:23:17.356Z"
   },
   {
    "duration": 14,
    "start_time": "2025-02-12T15:23:17.381Z"
   },
   {
    "duration": 65,
    "start_time": "2025-02-12T15:23:17.397Z"
   },
   {
    "duration": 13,
    "start_time": "2025-02-12T15:23:17.464Z"
   },
   {
    "duration": 16,
    "start_time": "2025-02-12T15:23:17.478Z"
   },
   {
    "duration": 14,
    "start_time": "2025-02-12T15:23:17.495Z"
   },
   {
    "duration": 29,
    "start_time": "2025-02-12T15:23:17.510Z"
   },
   {
    "duration": 15,
    "start_time": "2025-02-12T15:23:17.540Z"
   },
   {
    "duration": 3,
    "start_time": "2025-02-12T15:23:17.557Z"
   },
   {
    "duration": 61,
    "start_time": "2025-02-12T15:23:17.562Z"
   },
   {
    "duration": 99,
    "start_time": "2025-02-12T15:23:17.625Z"
   },
   {
    "duration": 13,
    "start_time": "2025-02-12T15:23:17.726Z"
   },
   {
    "duration": 12,
    "start_time": "2025-02-12T15:23:17.741Z"
   },
   {
    "duration": 300,
    "start_time": "2025-02-12T15:23:17.755Z"
   },
   {
    "duration": 232,
    "start_time": "2025-02-12T15:23:18.056Z"
   },
   {
    "duration": 397,
    "start_time": "2025-02-12T15:23:18.289Z"
   },
   {
    "duration": 234,
    "start_time": "2025-02-12T15:23:18.687Z"
   },
   {
    "duration": 230,
    "start_time": "2025-02-12T15:23:18.923Z"
   },
   {
    "duration": 238,
    "start_time": "2025-02-12T15:23:19.154Z"
   },
   {
    "duration": 325,
    "start_time": "2025-02-12T15:23:19.395Z"
   },
   {
    "duration": 296,
    "start_time": "2025-02-12T15:23:19.721Z"
   },
   {
    "duration": 288,
    "start_time": "2025-02-12T15:23:20.018Z"
   },
   {
    "duration": 1173,
    "start_time": "2025-02-12T15:23:20.307Z"
   },
   {
    "duration": 26,
    "start_time": "2025-02-12T15:23:21.482Z"
   },
   {
    "duration": 1562,
    "start_time": "2025-02-12T15:23:21.509Z"
   },
   {
    "duration": 6,
    "start_time": "2025-02-12T15:23:23.073Z"
   },
   {
    "duration": 241,
    "start_time": "2025-02-12T15:23:23.081Z"
   },
   {
    "duration": 6,
    "start_time": "2025-02-12T15:23:23.323Z"
   },
   {
    "duration": 509,
    "start_time": "2025-02-12T15:23:23.331Z"
   },
   {
    "duration": 12,
    "start_time": "2025-02-12T15:23:23.841Z"
   },
   {
    "duration": 23,
    "start_time": "2025-02-12T15:23:23.854Z"
   },
   {
    "duration": 153,
    "start_time": "2025-02-12T15:23:23.878Z"
   },
   {
    "duration": 16,
    "start_time": "2025-02-12T15:23:24.032Z"
   },
   {
    "duration": 10,
    "start_time": "2025-02-12T15:23:24.049Z"
   },
   {
    "duration": 94,
    "start_time": "2025-02-12T15:23:24.061Z"
   },
   {
    "duration": 21,
    "start_time": "2025-02-12T15:23:24.157Z"
   },
   {
    "duration": 26,
    "start_time": "2025-02-12T15:23:24.179Z"
   },
   {
    "duration": 44,
    "start_time": "2025-02-12T15:23:24.206Z"
   },
   {
    "duration": 22,
    "start_time": "2025-02-12T15:31:12.941Z"
   },
   {
    "duration": 21,
    "start_time": "2025-02-12T15:31:22.330Z"
   },
   {
    "duration": 21,
    "start_time": "2025-02-12T15:31:27.953Z"
   },
   {
    "duration": 22,
    "start_time": "2025-02-12T15:31:35.345Z"
   },
   {
    "duration": 21,
    "start_time": "2025-02-12T15:38:02.803Z"
   },
   {
    "duration": 20,
    "start_time": "2025-02-12T15:38:50.544Z"
   },
   {
    "duration": 19,
    "start_time": "2025-02-12T15:39:18.800Z"
   },
   {
    "duration": 23,
    "start_time": "2025-02-12T15:39:25.022Z"
   },
   {
    "duration": 21,
    "start_time": "2025-02-12T15:44:06.682Z"
   },
   {
    "duration": 20,
    "start_time": "2025-02-12T15:54:23.057Z"
   },
   {
    "duration": 19,
    "start_time": "2025-02-12T15:54:40.301Z"
   },
   {
    "duration": 49,
    "start_time": "2025-02-12T15:57:07.183Z"
   },
   {
    "duration": 18,
    "start_time": "2025-02-12T15:57:29.440Z"
   },
   {
    "duration": 24,
    "start_time": "2025-02-12T15:57:44.256Z"
   },
   {
    "duration": 21,
    "start_time": "2025-02-12T15:57:52.874Z"
   },
   {
    "duration": 19,
    "start_time": "2025-02-12T15:59:10.692Z"
   },
   {
    "duration": 3,
    "start_time": "2025-02-12T16:08:44.305Z"
   },
   {
    "duration": 20,
    "start_time": "2025-02-12T16:08:44.310Z"
   },
   {
    "duration": 78,
    "start_time": "2025-02-12T16:08:44.332Z"
   },
   {
    "duration": 11,
    "start_time": "2025-02-12T16:08:44.412Z"
   },
   {
    "duration": 45,
    "start_time": "2025-02-12T16:08:44.425Z"
   },
   {
    "duration": 6,
    "start_time": "2025-02-12T16:08:44.472Z"
   },
   {
    "duration": 67,
    "start_time": "2025-02-12T16:08:44.479Z"
   },
   {
    "duration": 19,
    "start_time": "2025-02-12T16:08:44.547Z"
   },
   {
    "duration": 29,
    "start_time": "2025-02-12T16:08:44.568Z"
   },
   {
    "duration": 13,
    "start_time": "2025-02-12T16:08:44.599Z"
   },
   {
    "duration": 19,
    "start_time": "2025-02-12T16:08:44.613Z"
   },
   {
    "duration": 16,
    "start_time": "2025-02-12T16:08:44.633Z"
   },
   {
    "duration": 116,
    "start_time": "2025-02-12T16:08:44.651Z"
   },
   {
    "duration": 18,
    "start_time": "2025-02-12T16:08:44.769Z"
   },
   {
    "duration": 33,
    "start_time": "2025-02-12T16:08:44.789Z"
   },
   {
    "duration": 15,
    "start_time": "2025-02-12T16:08:44.823Z"
   },
   {
    "duration": 4,
    "start_time": "2025-02-12T16:08:44.840Z"
   },
   {
    "duration": 12,
    "start_time": "2025-02-12T16:08:44.845Z"
   },
   {
    "duration": 17,
    "start_time": "2025-02-12T16:08:44.858Z"
   },
   {
    "duration": 20,
    "start_time": "2025-02-12T16:08:44.877Z"
   },
   {
    "duration": 8,
    "start_time": "2025-02-12T16:08:44.898Z"
   },
   {
    "duration": 273,
    "start_time": "2025-02-12T16:08:44.907Z"
   },
   {
    "duration": 217,
    "start_time": "2025-02-12T16:08:45.182Z"
   },
   {
    "duration": 486,
    "start_time": "2025-02-12T16:08:45.404Z"
   },
   {
    "duration": 229,
    "start_time": "2025-02-12T16:08:45.892Z"
   },
   {
    "duration": 236,
    "start_time": "2025-02-12T16:08:46.123Z"
   },
   {
    "duration": 239,
    "start_time": "2025-02-12T16:08:46.361Z"
   },
   {
    "duration": 312,
    "start_time": "2025-02-12T16:08:46.602Z"
   },
   {
    "duration": 286,
    "start_time": "2025-02-12T16:08:46.916Z"
   },
   {
    "duration": 272,
    "start_time": "2025-02-12T16:08:47.204Z"
   },
   {
    "duration": 1271,
    "start_time": "2025-02-12T16:08:47.477Z"
   },
   {
    "duration": 25,
    "start_time": "2025-02-12T16:08:48.750Z"
   },
   {
    "duration": 1471,
    "start_time": "2025-02-12T16:08:48.776Z"
   },
   {
    "duration": 6,
    "start_time": "2025-02-12T16:08:50.249Z"
   },
   {
    "duration": 329,
    "start_time": "2025-02-12T16:08:50.256Z"
   },
   {
    "duration": 7,
    "start_time": "2025-02-12T16:08:50.586Z"
   },
   {
    "duration": 616,
    "start_time": "2025-02-12T16:08:50.594Z"
   },
   {
    "duration": 6,
    "start_time": "2025-02-12T16:08:51.212Z"
   },
   {
    "duration": 36,
    "start_time": "2025-02-12T16:08:51.219Z"
   },
   {
    "duration": 170,
    "start_time": "2025-02-12T16:08:51.256Z"
   },
   {
    "duration": 21,
    "start_time": "2025-02-12T16:08:51.427Z"
   },
   {
    "duration": 6,
    "start_time": "2025-02-12T16:08:51.449Z"
   },
   {
    "duration": 18,
    "start_time": "2025-02-12T16:08:51.456Z"
   },
   {
    "duration": 18,
    "start_time": "2025-02-12T16:08:51.476Z"
   },
   {
    "duration": 53,
    "start_time": "2025-02-12T16:08:51.495Z"
   },
   {
    "duration": 19,
    "start_time": "2025-02-12T16:08:51.549Z"
   },
   {
    "duration": 1099,
    "start_time": "2025-02-12T16:14:58.781Z"
   },
   {
    "duration": 2,
    "start_time": "2025-02-12T16:14:59.882Z"
   },
   {
    "duration": 125,
    "start_time": "2025-02-12T16:14:59.886Z"
   },
   {
    "duration": 12,
    "start_time": "2025-02-12T16:15:00.013Z"
   },
   {
    "duration": 134,
    "start_time": "2025-02-12T16:15:00.027Z"
   },
   {
    "duration": 12,
    "start_time": "2025-02-12T16:15:00.163Z"
   },
   {
    "duration": 123,
    "start_time": "2025-02-12T16:15:00.176Z"
   },
   {
    "duration": 163,
    "start_time": "2025-02-12T16:15:00.300Z"
   },
   {
    "duration": 62,
    "start_time": "2025-02-12T16:15:00.464Z"
   },
   {
    "duration": 10,
    "start_time": "2025-02-12T16:15:00.529Z"
   },
   {
    "duration": 35,
    "start_time": "2025-02-12T16:15:00.541Z"
   },
   {
    "duration": 44,
    "start_time": "2025-02-12T16:15:00.578Z"
   },
   {
    "duration": 50,
    "start_time": "2025-02-12T16:15:00.624Z"
   },
   {
    "duration": 187,
    "start_time": "2025-02-12T16:15:00.676Z"
   },
   {
    "duration": 29,
    "start_time": "2025-02-12T16:15:00.865Z"
   },
   {
    "duration": 65,
    "start_time": "2025-02-12T16:15:00.895Z"
   },
   {
    "duration": 56,
    "start_time": "2025-02-12T16:15:00.961Z"
   },
   {
    "duration": 38,
    "start_time": "2025-02-12T16:15:01.019Z"
   },
   {
    "duration": 90,
    "start_time": "2025-02-12T16:15:01.059Z"
   },
   {
    "duration": 53,
    "start_time": "2025-02-12T16:15:01.150Z"
   },
   {
    "duration": 17,
    "start_time": "2025-02-12T16:15:01.205Z"
   },
   {
    "duration": 309,
    "start_time": "2025-02-12T16:15:01.224Z"
   },
   {
    "duration": 253,
    "start_time": "2025-02-12T16:15:01.534Z"
   },
   {
    "duration": 439,
    "start_time": "2025-02-12T16:15:01.788Z"
   },
   {
    "duration": 245,
    "start_time": "2025-02-12T16:15:02.229Z"
   },
   {
    "duration": 239,
    "start_time": "2025-02-12T16:15:02.476Z"
   },
   {
    "duration": 282,
    "start_time": "2025-02-12T16:15:02.717Z"
   },
   {
    "duration": 332,
    "start_time": "2025-02-12T16:15:03.003Z"
   },
   {
    "duration": 290,
    "start_time": "2025-02-12T16:15:03.337Z"
   },
   {
    "duration": 384,
    "start_time": "2025-02-12T16:15:03.628Z"
   },
   {
    "duration": 1285,
    "start_time": "2025-02-12T16:15:04.014Z"
   },
   {
    "duration": 26,
    "start_time": "2025-02-12T16:15:05.300Z"
   },
   {
    "duration": 1591,
    "start_time": "2025-02-12T16:15:05.328Z"
   },
   {
    "duration": 6,
    "start_time": "2025-02-12T16:15:06.920Z"
   },
   {
    "duration": 309,
    "start_time": "2025-02-12T16:15:06.928Z"
   },
   {
    "duration": 12,
    "start_time": "2025-02-12T16:15:07.240Z"
   },
   {
    "duration": 628,
    "start_time": "2025-02-12T16:15:07.254Z"
   },
   {
    "duration": 7,
    "start_time": "2025-02-12T16:15:07.884Z"
   },
   {
    "duration": 56,
    "start_time": "2025-02-12T16:15:07.892Z"
   },
   {
    "duration": 159,
    "start_time": "2025-02-12T16:15:07.950Z"
   },
   {
    "duration": 11,
    "start_time": "2025-02-12T16:15:08.110Z"
   },
   {
    "duration": 38,
    "start_time": "2025-02-12T16:15:08.123Z"
   },
   {
    "duration": 47,
    "start_time": "2025-02-12T16:15:08.163Z"
   },
   {
    "duration": 61,
    "start_time": "2025-02-12T16:15:08.212Z"
   },
   {
    "duration": 177,
    "start_time": "2025-02-12T16:15:08.274Z"
   },
   {
    "duration": 39,
    "start_time": "2025-02-12T16:15:08.453Z"
   }
  ],
  "kernelspec": {
   "display_name": "Python 3 (ipykernel)",
   "language": "python",
   "name": "python3"
  },
  "language_info": {
   "codemirror_mode": {
    "name": "ipython",
    "version": 3
   },
   "file_extension": ".py",
   "mimetype": "text/x-python",
   "name": "python",
   "nbconvert_exporter": "python",
   "pygments_lexer": "ipython3",
   "version": "3.9.5"
  },
  "toc": {
   "base_numbering": 1,
   "nav_menu": {
    "height": "220px",
    "width": "396px"
   },
   "number_sections": true,
   "sideBar": true,
   "skip_h1_title": true,
   "title_cell": "Table of Contents",
   "title_sidebar": "Contents",
   "toc_cell": false,
   "toc_position": {
    "height": "calc(100% - 180px)",
    "left": "10px",
    "top": "150px",
    "width": "289px"
   },
   "toc_section_display": true,
   "toc_window_display": true
  }
 },
 "nbformat": 4,
 "nbformat_minor": 2
}
